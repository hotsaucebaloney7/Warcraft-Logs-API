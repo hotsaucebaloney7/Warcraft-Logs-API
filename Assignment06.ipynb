{
 "cells": [
  {
   "cell_type": "markdown",
   "metadata": {},
   "source": [
    "# Advanced Python for Data Science\n",
    "\n",
    "## Assignment 6 - Internet Data\n",
    "\n",
    "In this assignment you will gain some hands-on experience using REST to retrieve JSON-formatted data from the internet and then converting that data to a useable form.   \n",
    "\n",
    "Insipration for this Assignment came from two excellent resources\n",
    "\n",
    "- [API Integeration in Python](https://realpython.com/api-integration-in-python/)\n",
    "- [How to Fuel your Data Science Projects using REST APIs](https://medium.com/mlearning-ai/how-to-fuel-your-data-science-projects-using-rest-apis-3cea0d2a70e9)\n",
    "\n",
    "\n",
    "## Part 1, REST & JSON in Python\n",
    "\n",
    "To get started, let's import the libaries we will need.    Hopefully you have requests and json; if not, add them to your environment."
   ]
  },
  {
   "cell_type": "code",
   "execution_count": 1,
   "metadata": {},
   "outputs": [
    {
     "name": "stdout",
     "output_type": "stream",
     "text": [
      "NumPy:      1.20.1\n",
      "Pandas:     1.2.4\n",
      "matplotlib: 3.3.4\n",
      "Requests:   2.25.1\n",
      "JSON:       2.0.9\n"
     ]
    }
   ],
   "source": [
    "import numpy as np\n",
    "import pandas as pd\n",
    "\n",
    "import matplotlib as plt\n",
    "%matplotlib inline\n",
    "\n",
    "import requests\n",
    "import json\n",
    "\n",
    "print(f'NumPy:      {np.__version__}')\n",
    "print(f'Pandas:     {pd.__version__}')\n",
    "print(f'matplotlib: {plt.__version__}')\n",
    "print(f'Requests:   {requests.__version__}')\n",
    "print(f'JSON:       {json.__version__}')\n"
   ]
  },
  {
   "cell_type": "markdown",
   "metadata": {},
   "source": [
    "\n",
    "## Our first  REST example\n",
    "\n",
    "Our first RESTfull example is a simple one -- let's grab the current exchange rates for each currency to US dollars.  Maybe you are building a billing system for an international web site, and need current exchange data to properly disply the product cost in different countries.\n",
    "\n",
    "We're going to use a datasource from [rapidapi.com](http://rapdiapi,com), a site with lots of useful data sources.     Specifically, we will use the [ExchangeRate-API](https://rapidapi.com/exchangerateapi/api/exchangerate-api/), which is free (we like free!)\n",
    "\n",
    "### Define URL\n",
    "\n",
    "We begin by defining the URL which provides access to our endpoint\n"
   ]
  },
  {
   "cell_type": "code",
   "execution_count": 2,
   "metadata": {},
   "outputs": [],
   "source": [
    "\n",
    "requestURL = \"https://exchangerate-api.p.rapidapi.com/rapid/latest/USD\"\n"
   ]
  },
  {
   "cell_type": "markdown",
   "metadata": {},
   "source": [
    "\n",
    "The url includes:\n",
    "- `https://`   - the communication protocol\n",
    "- `exchangerate-api.p.rapidapi.com` - the domain name for the service\n",
    "- `/rapid/latest/USD` - the REST endpoint.   In this case, the `USD` is a parameter being passed to specify that we want exhcange rates for converting to US Dollars\n",
    "\n",
    "\n",
    "Now, it's frequently the case that a REST API will receive and process header parameters.  RapdiAPI expects two parameters for the call -- the host and the key associated with your account.    Here's how they get specified:\n"
   ]
  },
  {
   "cell_type": "code",
   "execution_count": 3,
   "metadata": {},
   "outputs": [],
   "source": [
    "headers = {\n",
    "    'x-rapidapi-key': \"3621a7164emshf38578146b0bafcp16cd08jsnb41129369b33\",   # you may need to create your own key\n",
    "    'x-rapidapi-host': \"exchangerate-api.p.rapidapi.com\"\n",
    "}\n"
   ]
  },
  {
   "cell_type": "markdown",
   "metadata": {},
   "source": [
    "\n",
    "It's quite possible that my key won't work for you.   If that's the case, you would need to create an account at [RapidAPI.com](http://rapidAPI.com), find the page for this API (see URL above), and copy the `x-rapidapi-key` it displays for your account.\n",
    "\n",
    "### Make REST API Request\n",
    "\n",
    "OK, with the URL and headers defined, let's  make our RESTfull call.    As REST uses HTTP as it's underlying network transport protocol.  We will use the Python `requests` library to make our call.   \n"
   ]
  },
  {
   "cell_type": "code",
   "execution_count": 4,
   "metadata": {},
   "outputs": [],
   "source": [
    "\n",
    "response = requests.request(\"GET\", requestURL, headers=headers)\n"
   ]
  },
  {
   "cell_type": "markdown",
   "metadata": {},
   "source": [
    "\n",
    "Did it work?   Well, we don't quite know yet.   Let's look at response.  What type of data is it?"
   ]
  },
  {
   "cell_type": "code",
   "execution_count": 5,
   "metadata": {},
   "outputs": [
    {
     "name": "stdout",
     "output_type": "stream",
     "text": [
      "<class 'requests.models.Response'>\n"
     ]
    }
   ],
   "source": [
    "print(type(response))"
   ]
  },
  {
   "cell_type": "markdown",
   "metadata": {},
   "source": [
    "\n",
    "Oooh, it's an object class.   I wonder what attributes it has?"
   ]
  },
  {
   "cell_type": "code",
   "execution_count": 6,
   "metadata": {},
   "outputs": [
    {
     "data": {
      "text/plain": [
       "['__attrs__',\n",
       " '__bool__',\n",
       " '__class__',\n",
       " '__delattr__',\n",
       " '__dict__',\n",
       " '__dir__',\n",
       " '__doc__',\n",
       " '__enter__',\n",
       " '__eq__',\n",
       " '__exit__',\n",
       " '__format__',\n",
       " '__ge__',\n",
       " '__getattribute__',\n",
       " '__getstate__',\n",
       " '__gt__',\n",
       " '__hash__',\n",
       " '__init__',\n",
       " '__init_subclass__',\n",
       " '__iter__',\n",
       " '__le__',\n",
       " '__lt__',\n",
       " '__module__',\n",
       " '__ne__',\n",
       " '__new__',\n",
       " '__nonzero__',\n",
       " '__reduce__',\n",
       " '__reduce_ex__',\n",
       " '__repr__',\n",
       " '__setattr__',\n",
       " '__setstate__',\n",
       " '__sizeof__',\n",
       " '__str__',\n",
       " '__subclasshook__',\n",
       " '__weakref__',\n",
       " '_content',\n",
       " '_content_consumed',\n",
       " '_next',\n",
       " 'apparent_encoding',\n",
       " 'close',\n",
       " 'connection',\n",
       " 'content',\n",
       " 'cookies',\n",
       " 'elapsed',\n",
       " 'encoding',\n",
       " 'headers',\n",
       " 'history',\n",
       " 'is_permanent_redirect',\n",
       " 'is_redirect',\n",
       " 'iter_content',\n",
       " 'iter_lines',\n",
       " 'json',\n",
       " 'links',\n",
       " 'next',\n",
       " 'ok',\n",
       " 'raise_for_status',\n",
       " 'raw',\n",
       " 'reason',\n",
       " 'request',\n",
       " 'status_code',\n",
       " 'text',\n",
       " 'url']"
      ]
     },
     "execution_count": 6,
     "metadata": {},
     "output_type": "execute_result"
    }
   ],
   "source": [
    "dir(response)"
   ]
  },
  {
   "cell_type": "markdown",
   "metadata": {},
   "source": [
    "`status_code` looks interesting.   Let's check it out"
   ]
  },
  {
   "cell_type": "code",
   "execution_count": 7,
   "metadata": {},
   "outputs": [
    {
     "name": "stdout",
     "output_type": "stream",
     "text": [
      "200\n"
     ]
    }
   ],
   "source": [
    "print(response.status_code)\n"
   ]
  },
  {
   "cell_type": "markdown",
   "metadata": {},
   "source": [
    "A 200 is good!  We made a successful call.   \n",
    "\n",
    "### Process the response to get our resource\n",
    "\n",
    "Now, where is out data?    maybe in `json` ?"
   ]
  },
  {
   "cell_type": "code",
   "execution_count": 8,
   "metadata": {},
   "outputs": [
    {
     "name": "stdout",
     "output_type": "stream",
     "text": [
      "<bound method Response.json of <Response [200]>>\n"
     ]
    }
   ],
   "source": [
    "print(response.json)"
   ]
  },
  {
   "cell_type": "markdown",
   "metadata": {},
   "source": [
    "A bound method?   Ah, tricky object!  Let's add parenthesis and call the method."
   ]
  },
  {
   "cell_type": "code",
   "execution_count": 9,
   "metadata": {},
   "outputs": [
    {
     "name": "stdout",
     "output_type": "stream",
     "text": [
      "{'result': 'success', 'provider': 'https://www.exchangerate-api.com', 'documentation': 'https://www.exchangerate-api.com/docs/free', 'terms_of_use': 'https://www.exchangerate-api.com/terms', 'time_last_update_unix': 1638576152, 'time_last_update_utc': 'Sat, 04 Dec 2021 00:02:32 +0000', 'time_next_update_unix': 1638663982, 'time_next_update_utc': 'Sun, 05 Dec 2021 00:26:22 +0000', 'time_eol_unix': 0, 'base_code': 'USD', 'rates': {'USD': 1, 'AED': 3.67, 'AFN': 96.17, 'ALL': 107.02, 'AMD': 489.42, 'ANG': 1.79, 'AOA': 573.9, 'ARS': 101.02, 'AUD': 1.42, 'AWG': 1.79, 'AZN': 1.7, 'BAM': 1.73, 'BBD': 2, 'BDT': 85.72, 'BGN': 1.73, 'BHD': 0.376, 'BIF': 1989.58, 'BMD': 1, 'BND': 1.37, 'BOB': 6.87, 'BRL': 5.64, 'BSD': 1, 'BTN': 75.31, 'BWP': 11.77, 'BYN': 2.54, 'BZD': 2, 'CAD': 1.28, 'CDF': 2002.5, 'CHF': 0.919, 'CLP': 837.66, 'CNY': 6.38, 'COP': 3983.84, 'CRC': 628.82, 'CUC': 1, 'CUP': 25, 'CVE': 97.57, 'CZK': 22.49, 'DJF': 177.72, 'DKK': 6.6, 'DOP': 56.41, 'DZD': 139.14, 'EGP': 15.71, 'ERN': 15, 'ETB': 48.32, 'EUR': 0.885, 'FJD': 2.13, 'FKP': 0.754, 'FOK': 6.6, 'GBP': 0.754, 'GEL': 3.12, 'GGP': 0.754, 'GHS': 6.51, 'GIP': 0.754, 'GMD': 52.65, 'GNF': 9530.41, 'GTQ': 7.72, 'GYD': 209.4, 'HKD': 7.79, 'HNL': 24.11, 'HRK': 6.67, 'HTG': 98.95, 'HUF': 322.28, 'IDR': 14386.85, 'ILS': 3.17, 'IMP': 0.754, 'INR': 75.32, 'IQD': 1461.01, 'IRR': 41907.56, 'ISK': 129.9, 'JMD': 155.31, 'JOD': 0.709, 'JPY': 113.09, 'KES': 113.07, 'KGS': 84.8, 'KHR': 4076.37, 'KID': 1.42, 'KMF': 435.34, 'KRW': 1181.06, 'KWD': 0.3, 'KYD': 0.833, 'KZT': 437.68, 'LAK': 10839.69, 'LBP': 1507.5, 'LKR': 201.59, 'LRD': 141.87, 'LSL': 15.98, 'LYD': 4.6, 'MAD': 9.1, 'MDL': 17.71, 'MGA': 3209.81, 'MKD': 54.41, 'MMK': 1786.12, 'MNT': 2869.08, 'MOP': 8.03, 'MRU': 36.31, 'MUR': 43.59, 'MVR': 15.43, 'MWK': 819.97, 'MXN': 21.3, 'MYR': 4.23, 'MZN': 63.94, 'NAD': 15.98, 'NGN': 410.07, 'NIO': 35.21, 'NOK': 9.14, 'NPR': 120.5, 'NZD': 1.48, 'OMR': 0.384, 'PAB': 1, 'PEN': 4.07, 'PGK': 3.53, 'PHP': 50.51, 'PKR': 176.11, 'PLN': 4.07, 'PYG': 6913.88, 'QAR': 3.64, 'RON': 4.37, 'RSD': 103.8, 'RUB': 73.64, 'RWF': 1041.76, 'SAR': 3.75, 'SBD': 7.96, 'SCR': 13.12, 'SDG': 437.99, 'SEK': 9.12, 'SGD': 1.37, 'SHP': 0.754, 'SLL': 11127.39, 'SOS': 579.31, 'SRD': 21.58, 'SSP': 412.77, 'STN': 21.68, 'SYP': 2484.51, 'SZL': 15.98, 'THB': 33.92, 'TJS': 11.29, 'TMT': 3.5, 'TND': 2.8, 'TOP': 2.28, 'TRY': 13.72, 'TTD': 6.77, 'TVD': 1.42, 'TWD': 27.71, 'TZS': 2303.94, 'UAH': 27.28, 'UGX': 3567.07, 'UYU': 43.98, 'UZS': 10678.71, 'VES': 4.63, 'VND': 22706.35, 'VUV': 113.62, 'WST': 2.61, 'XAF': 580.45, 'XCD': 2.7, 'XDR': 0.715, 'XOF': 580.45, 'XPF': 105.6, 'YER': 250.19, 'ZAR': 15.98, 'ZMW': 17.86}}\n"
     ]
    }
   ],
   "source": [
    "print(response.json())"
   ]
  },
  {
   "cell_type": "markdown",
   "metadata": {},
   "source": [
    "Better!   We have some json data to play with.    That looks alot like a python dictionary, doesn't it?   I wonder, just what does this `json()` method do?    Let's save the results to a new variable and inspect it's data type."
   ]
  },
  {
   "cell_type": "code",
   "execution_count": 10,
   "metadata": {},
   "outputs": [
    {
     "name": "stdout",
     "output_type": "stream",
     "text": [
      "<class 'dict'>\n"
     ]
    }
   ],
   "source": [
    "ratedata = response.json()\n",
    "print(type(ratedata))"
   ]
  },
  {
   "cell_type": "markdown",
   "metadata": {},
   "source": [
    "We have a dictionary!     Let's look at the keys."
   ]
  },
  {
   "cell_type": "code",
   "execution_count": 11,
   "metadata": {},
   "outputs": [
    {
     "name": "stdout",
     "output_type": "stream",
     "text": [
      "result\n",
      "provider\n",
      "documentation\n",
      "terms_of_use\n",
      "time_last_update_unix\n",
      "time_last_update_utc\n",
      "time_next_update_unix\n",
      "time_next_update_utc\n",
      "time_eol_unix\n",
      "base_code\n",
      "rates\n"
     ]
    }
   ],
   "source": [
    "for key in ratedata.keys():\n",
    "    print(key)"
   ]
  },
  {
   "cell_type": "markdown",
   "metadata": {},
   "source": [
    "`rates` -- we're getting close!  Let's grab the rates"
   ]
  },
  {
   "cell_type": "code",
   "execution_count": 12,
   "metadata": {},
   "outputs": [
    {
     "name": "stdout",
     "output_type": "stream",
     "text": [
      "<class 'dict'>\n"
     ]
    }
   ],
   "source": [
    "\n",
    "rates = ratedata['rates']\n",
    "print(type(rates))"
   ]
  },
  {
   "cell_type": "markdown",
   "metadata": {},
   "source": [
    "Ah, `rates` is itself a dictionary.   That makes sense - very easy to look up the exchange rate for an individual country.  Let's see what our dictionary holds"
   ]
  },
  {
   "cell_type": "code",
   "execution_count": 13,
   "metadata": {},
   "outputs": [
    {
     "name": "stdout",
     "output_type": "stream",
     "text": [
      "USD, 1\n",
      "AED, 3.67\n",
      "AFN, 96.17\n",
      "ALL, 107.02\n",
      "AMD, 489.42\n",
      "ANG, 1.79\n",
      "AOA, 573.9\n",
      "ARS, 101.02\n",
      "AUD, 1.42\n",
      "AWG, 1.79\n",
      "AZN, 1.7\n",
      "BAM, 1.73\n",
      "BBD, 2\n",
      "BDT, 85.72\n",
      "BGN, 1.73\n",
      "BHD, 0.376\n",
      "BIF, 1989.58\n",
      "BMD, 1\n",
      "BND, 1.37\n",
      "BOB, 6.87\n",
      "BRL, 5.64\n",
      "BSD, 1\n",
      "BTN, 75.31\n",
      "BWP, 11.77\n",
      "BYN, 2.54\n",
      "BZD, 2\n",
      "CAD, 1.28\n",
      "CDF, 2002.5\n",
      "CHF, 0.919\n",
      "CLP, 837.66\n",
      "CNY, 6.38\n",
      "COP, 3983.84\n",
      "CRC, 628.82\n",
      "CUC, 1\n",
      "CUP, 25\n",
      "CVE, 97.57\n",
      "CZK, 22.49\n",
      "DJF, 177.72\n",
      "DKK, 6.6\n",
      "DOP, 56.41\n",
      "DZD, 139.14\n",
      "EGP, 15.71\n",
      "ERN, 15\n",
      "ETB, 48.32\n",
      "EUR, 0.885\n",
      "FJD, 2.13\n",
      "FKP, 0.754\n",
      "FOK, 6.6\n",
      "GBP, 0.754\n",
      "GEL, 3.12\n",
      "GGP, 0.754\n",
      "GHS, 6.51\n",
      "GIP, 0.754\n",
      "GMD, 52.65\n",
      "GNF, 9530.41\n",
      "GTQ, 7.72\n",
      "GYD, 209.4\n",
      "HKD, 7.79\n",
      "HNL, 24.11\n",
      "HRK, 6.67\n",
      "HTG, 98.95\n",
      "HUF, 322.28\n",
      "IDR, 14386.85\n",
      "ILS, 3.17\n",
      "IMP, 0.754\n",
      "INR, 75.32\n",
      "IQD, 1461.01\n",
      "IRR, 41907.56\n",
      "ISK, 129.9\n",
      "JMD, 155.31\n",
      "JOD, 0.709\n",
      "JPY, 113.09\n",
      "KES, 113.07\n",
      "KGS, 84.8\n",
      "KHR, 4076.37\n",
      "KID, 1.42\n",
      "KMF, 435.34\n",
      "KRW, 1181.06\n",
      "KWD, 0.3\n",
      "KYD, 0.833\n",
      "KZT, 437.68\n",
      "LAK, 10839.69\n",
      "LBP, 1507.5\n",
      "LKR, 201.59\n",
      "LRD, 141.87\n",
      "LSL, 15.98\n",
      "LYD, 4.6\n",
      "MAD, 9.1\n",
      "MDL, 17.71\n",
      "MGA, 3209.81\n",
      "MKD, 54.41\n",
      "MMK, 1786.12\n",
      "MNT, 2869.08\n",
      "MOP, 8.03\n",
      "MRU, 36.31\n",
      "MUR, 43.59\n",
      "MVR, 15.43\n",
      "MWK, 819.97\n",
      "MXN, 21.3\n",
      "MYR, 4.23\n",
      "MZN, 63.94\n",
      "NAD, 15.98\n",
      "NGN, 410.07\n",
      "NIO, 35.21\n",
      "NOK, 9.14\n",
      "NPR, 120.5\n",
      "NZD, 1.48\n",
      "OMR, 0.384\n",
      "PAB, 1\n",
      "PEN, 4.07\n",
      "PGK, 3.53\n",
      "PHP, 50.51\n",
      "PKR, 176.11\n",
      "PLN, 4.07\n",
      "PYG, 6913.88\n",
      "QAR, 3.64\n",
      "RON, 4.37\n",
      "RSD, 103.8\n",
      "RUB, 73.64\n",
      "RWF, 1041.76\n",
      "SAR, 3.75\n",
      "SBD, 7.96\n",
      "SCR, 13.12\n",
      "SDG, 437.99\n",
      "SEK, 9.12\n",
      "SGD, 1.37\n",
      "SHP, 0.754\n",
      "SLL, 11127.39\n",
      "SOS, 579.31\n",
      "SRD, 21.58\n",
      "SSP, 412.77\n",
      "STN, 21.68\n",
      "SYP, 2484.51\n",
      "SZL, 15.98\n",
      "THB, 33.92\n",
      "TJS, 11.29\n",
      "TMT, 3.5\n",
      "TND, 2.8\n",
      "TOP, 2.28\n",
      "TRY, 13.72\n",
      "TTD, 6.77\n",
      "TVD, 1.42\n",
      "TWD, 27.71\n",
      "TZS, 2303.94\n",
      "UAH, 27.28\n",
      "UGX, 3567.07\n",
      "UYU, 43.98\n",
      "UZS, 10678.71\n",
      "VES, 4.63\n",
      "VND, 22706.35\n",
      "VUV, 113.62\n",
      "WST, 2.61\n",
      "XAF, 580.45\n",
      "XCD, 2.7\n",
      "XDR, 0.715\n",
      "XOF, 580.45\n",
      "XPF, 105.6\n",
      "YER, 250.19\n",
      "ZAR, 15.98\n",
      "ZMW, 17.86\n"
     ]
    }
   ],
   "source": [
    "\n",
    "for country, Xrate in rates.items():\n",
    "    print(f'{country}, {Xrate}')"
   ]
  },
  {
   "cell_type": "markdown",
   "metadata": {},
   "source": [
    "\n",
    "And there you go - we just fetched the exchange rates for currencies off the internet, and it's in a dictionary we can use inside our program.\n"
   ]
  },
  {
   "cell_type": "markdown",
   "metadata": {},
   "source": [
    "\n",
    "## A more complicated example\n",
    "\n",
    "Let's look at more interesting data.   Maybe you're trying to build a dashboard of world-wide COVID cases.   Here's an API which provides worldwide information about COVID-19:\n",
    "\n",
    "[VACCOVID - coronavirus, vaccine and treatment tracker](https://rapidapi.com/vaccovidlive-vaccovidlive-default/api/vaccovid-coronavirus-vaccine-and-treatment-tracker/)\n",
    "\n",
    "Let's create our GET request and fetch the data"
   ]
  },
  {
   "cell_type": "code",
   "execution_count": 14,
   "metadata": {},
   "outputs": [],
   "source": [
    "\n",
    "# a slightly more interesting data set -- Worlwide COVID Data\n",
    "# Again, you may need to create an account and get your own key\n",
    "#NOTE: Used the example code from class\n",
    "\n",
    "url = \"https://eu-covid-19-travel.p.rapidapi.com/data\"\n",
    "querystring = {\"colour\":\"green\",\"sort\":\"high\"}\n",
    "headers = {\n",
    "    'x-rapidapi-host': \"eu-covid-19-travel.p.rapidapi.com\",\n",
    "    'x-rapidapi-key': \"3621a7164emshf38578146b0bafcp16cd08jsnb41129369b33\"\n",
    "    }\n",
    "response = requests.request(\"GET\", url, headers=headers, params=querystring)"
   ]
  },
  {
   "cell_type": "markdown",
   "metadata": {},
   "source": [
    "\n",
    "OK, did that work?"
   ]
  },
  {
   "cell_type": "code",
   "execution_count": 15,
   "metadata": {},
   "outputs": [
    {
     "name": "stdout",
     "output_type": "stream",
     "text": [
      "200\n"
     ]
    }
   ],
   "source": [
    "print(response.status_code)"
   ]
  },
  {
   "cell_type": "markdown",
   "metadata": {},
   "source": [
    "Again, `status_code` 200 is success.  Let's check out our data !"
   ]
  },
  {
   "cell_type": "code",
   "execution_count": 16,
   "metadata": {},
   "outputs": [
    {
     "name": "stdout",
     "output_type": "stream",
     "text": [
      "[{'country': 'Poland', 'country_code': 'PL', 'geo_id_final': 'PL82', 'region': 'Podkarpackie', 'subnational_cases_7': 558, 'subnational_cases_14': 1015, 'subnational_population': 2084447, 'subnational_rate_14': 48.6939701513159, 'national_cases_7': 11755, 'national_population': 37958138, 'national_testing_rate': 670.401693570955, 'national_positivity_rate': 4.61936873211984, 'subnational_testing_data': 'TRUE', 'positivity_rate_combined': 3.7494960354791, 'testing_rate_combined': 713.954348563432, 'colour': 'Green', 'week': '2021-40'}, {'country': 'Poland', 'country_code': 'PL', 'geo_id_final': 'PL63', 'region': 'Pomorskie', 'subnational_cases_7': 560, 'subnational_cases_14': 965, 'subnational_population': 2316135, 'subnational_rate_14': 41.6642380517543, 'national_cases_7': 11755, 'national_population': 37958138, 'national_testing_rate': 670.401693570955, 'national_positivity_rate': 4.61936873211984, 'subnational_testing_data': 'TRUE', 'positivity_rate_combined': 3.63541937159179, 'testing_rate_combined': 665.07349528417, 'colour': 'Green', 'week': '2021-40'}, {'country': 'Poland', 'country_code': 'PL', 'geo_id_final': 'PL21', 'region': 'Małopolskie', 'subnational_cases_7': 658, 'subnational_cases_14': 1209, 'subnational_population': 3371956, 'subnational_rate_14': 35.8545603797914, 'national_cases_7': 11755, 'national_population': 37958138, 'national_testing_rate': 670.401693570955, 'national_positivity_rate': 4.61936873211984, 'subnational_testing_data': 'TRUE', 'positivity_rate_combined': 3.54774357038874, 'testing_rate_combined': 550.036833220837, 'colour': 'Green', 'week': '2021-40'}, {'country': 'Poland', 'country_code': 'PL', 'geo_id_final': 'PL71', 'region': 'Łódzkie', 'subnational_cases_7': 603, 'subnational_cases_14': 1019, 'subnational_population': 2442685, 'subnational_rate_14': 41.7163899561343, 'national_cases_7': 11755, 'national_population': 37958138, 'national_testing_rate': 670.401693570955, 'national_positivity_rate': 4.61936873211984, 'subnational_testing_data': 'TRUE', 'positivity_rate_combined': 3.27397111521338, 'testing_rate_combined': 754.006349570248, 'colour': 'Green', 'week': '2021-40'}, {'country': 'Poland', 'country_code': 'PL', 'geo_id_final': 'PL61', 'region': 'Kujawsko-pomorskie', 'subnational_cases_7': 372, 'subnational_cases_14': 635, 'subnational_population': 2050976, 'subnational_rate_14': 30.9608693617088, 'national_cases_7': 11755, 'national_population': 37958138, 'national_testing_rate': 670.401693570955, 'national_positivity_rate': 4.61936873211984, 'subnational_testing_data': 'TRUE', 'positivity_rate_combined': 3.12736443883985, 'testing_rate_combined': 579.967781192954, 'colour': 'Green', 'week': '2021-40'}, {'country': 'Poland', 'country_code': 'PL', 'geo_id_final': 'PL51', 'region': 'Dolnośląskie', 'subnational_cases_7': 499, 'subnational_cases_14': 911, 'subnational_population': 2864809, 'subnational_rate_14': 31.7996766974692, 'national_cases_7': 11755, 'national_population': 37958138, 'national_testing_rate': 670.401693570955, 'national_positivity_rate': 4.61936873211984, 'subnational_testing_data': 'TRUE', 'positivity_rate_combined': 3.10942173479561, 'testing_rate_combined': 560.176961186592, 'colour': 'Green', 'week': '2021-40'}, {'country': 'Sweden', 'country_code': 'SE', 'geo_id_final': 'SE32', 'region': 'Mellersta Norrland', 'subnational_cases_7': 78, 'subnational_cases_14': 147, 'subnational_population': 376157, 'subnational_rate_14': 39.0794269414101, 'national_cases_7': 4132, 'national_population': 10327589, 'national_testing_rate': 1312.32952821806, 'national_positivity_rate': 3.04872650001476, 'subnational_testing_data': 'FALSE', 'positivity_rate_combined': 3.04872650001476, 'testing_rate_combined': 1312.32952821806, 'colour': 'Green', 'week': '2021-40'}, {'country': 'Poland', 'country_code': 'PL', 'geo_id_final': 'PL41', 'region': 'Wielkopolskie', 'subnational_cases_7': 492, 'subnational_cases_14': 860, 'subnational_population': 3479525, 'subnational_rate_14': 24.7160172724725, 'national_cases_7': 11755, 'national_population': 37958138, 'national_testing_rate': 670.401693570955, 'national_positivity_rate': 4.61936873211984, 'subnational_testing_data': 'TRUE', 'positivity_rate_combined': 3.03985171455051, 'testing_rate_combined': 465.14969715694, 'colour': 'Green', 'week': '2021-40'}, {'country': 'Poland', 'country_code': 'PL', 'geo_id_final': 'PL43', 'region': 'Lubuskie', 'subnational_cases_7': 170, 'subnational_cases_14': 267, 'subnational_population': 1001411, 'subnational_rate_14': 26.662379382691, 'national_cases_7': 11755, 'national_population': 37958138, 'national_testing_rate': 670.401693570955, 'national_positivity_rate': 4.61936873211984, 'subnational_testing_data': 'TRUE', 'positivity_rate_combined': 2.80481768685035, 'testing_rate_combined': 605.245997896967, 'colour': 'Green', 'week': '2021-40'}, {'country': 'Spain', 'country_code': 'ES', 'geo_id_final': 'ES62', 'region': 'Región de Murcia', 'subnational_cases_7': 326, 'subnational_cases_14': 715, 'subnational_population': 1504869, 'subnational_rate_14': 47.5124412822644, 'national_cases_7': 12049, 'national_population': 47332614, 'national_testing_rate': 1153.65485624775, 'national_positivity_rate': 2.20655428482479, 'subnational_testing_data': 'TRUE', 'positivity_rate_combined': 2.64160116684223, 'testing_rate_combined': 820.071381628567, 'colour': 'Green', 'week': '2021-40'}, {'country': 'Spain', 'country_code': 'ES', 'geo_id_final': 'ES52', 'region': 'Comunitat Valenciana', 'subnational_cases_7': 843, 'subnational_cases_14': 1957, 'subnational_population': 5029341, 'subnational_rate_14': 38.9116586049743, 'national_cases_7': 12049, 'national_population': 47332614, 'national_testing_rate': 1153.65485624775, 'national_positivity_rate': 2.20655428482479, 'subnational_testing_data': 'TRUE', 'positivity_rate_combined': 2.47788130860351, 'testing_rate_combined': 676.45045344907, 'colour': 'Green', 'week': '2021-40'}, {'country': 'Poland', 'country_code': 'PL', 'geo_id_final': 'PL52', 'region': 'Opolskie', 'subnational_cases_7': 126, 'subnational_cases_14': 233, 'subnational_population': 942233, 'subnational_rate_14': 24.7284907236321, 'national_cases_7': 11755, 'national_population': 37958138, 'national_testing_rate': 670.401693570955, 'national_positivity_rate': 4.61936873211984, 'subnational_testing_data': 'TRUE', 'positivity_rate_combined': 2.2971741112124, 'testing_rate_combined': 582.127775189364, 'colour': 'Green', 'week': '2021-40'}, {'country': 'Poland', 'country_code': 'PL', 'geo_id_final': 'PL22', 'region': 'Śląskie', 'subnational_cases_7': 592, 'subnational_cases_14': 986, 'subnational_population': 4475460, 'subnational_rate_14': 22.0312548877657, 'national_cases_7': 11755, 'national_population': 37958138, 'national_testing_rate': 670.401693570955, 'national_positivity_rate': 4.61936873211984, 'subnational_testing_data': 'TRUE', 'positivity_rate_combined': 2.19202428999889, 'testing_rate_combined': 603.446349648975, 'colour': 'Green', 'week': '2021-40'}, {'country': 'Poland', 'country_code': 'PL', 'geo_id_final': 'PL72', 'region': 'Świętokrzyskie', 'subnational_cases_7': 161, 'subnational_cases_14': 262, 'subnational_population': 1218743, 'subnational_rate_14': 21.4975593705974, 'national_cases_7': 11755, 'national_population': 37958138, 'national_testing_rate': 670.401693570955, 'national_positivity_rate': 4.61936873211984, 'subnational_testing_data': 'TRUE', 'positivity_rate_combined': 2.1736195490752, 'testing_rate_combined': 607.757336862653, 'colour': 'Green', 'week': '2021-40'}, {'country': 'Spain', 'country_code': 'ES', 'geo_id_final': 'ES61', 'region': 'Andalucía', 'subnational_cases_7': 1413, 'subnational_cases_14': 3235, 'subnational_population': 8478083, 'subnational_rate_14': 38.1572107751245, 'national_cases_7': 12049, 'national_population': 47332614, 'national_testing_rate': 1153.65485624775, 'national_positivity_rate': 2.20655428482479, 'subnational_testing_data': 'TRUE', 'positivity_rate_combined': 2.10008471679325, 'testing_rate_combined': 793.611008526338, 'colour': 'Green', 'week': '2021-40'}, {'country': 'Norway', 'country_code': 'NO', 'geo_id_final': 'NOCSR11', 'region': 'Rogaland', 'subnational_cases_7': 113, 'subnational_cases_14': 218, 'subnational_population': 475654, 'subnational_rate_14': 45.8316339187729, 'national_cases_7': 3029, 'national_population': 5367580, 'national_testing_rate': 1799.73097746098, 'national_positivity_rate': 3.13554584791205, 'subnational_testing_data': 'TRUE', 'positivity_rate_combined': 1.73605776616992, 'testing_rate_combined': 1368.4316751252, 'colour': 'Green', 'week': '2021-40'}, {'country': 'Spain', 'country_code': 'ES', 'geo_id_final': 'ES41', 'region': 'Castilla y León', 'subnational_cases_7': 413, 'subnational_cases_14': 837, 'subnational_population': 2401307, 'subnational_rate_14': 34.8560179935344, 'national_cases_7': 12049, 'national_population': 47332614, 'national_testing_rate': 1153.65485624775, 'national_positivity_rate': 2.20655428482479, 'subnational_testing_data': 'TRUE', 'positivity_rate_combined': 1.72298706716729, 'testing_rate_combined': 998.206393434909, 'colour': 'Green', 'week': '2021-40'}, {'country': 'Norway', 'country_code': 'NO', 'geo_id_final': 'NOCSR42', 'region': 'Agder', 'subnational_cases_7': 60, 'subnational_cases_14': 140, 'subnational_population': 305244, 'subnational_rate_14': 45.8649473863532, 'national_cases_7': 3029, 'national_population': 5367580, 'national_testing_rate': 1799.73097746098, 'national_positivity_rate': 3.13554584791205, 'subnational_testing_data': 'TRUE', 'positivity_rate_combined': 1.55642023346304, 'testing_rate_combined': 1262.92408695994, 'colour': 'Green', 'week': '2021-40'}, {'country': 'Spain', 'country_code': 'ES', 'geo_id_final': 'ES70', 'region': 'Canarias', 'subnational_cases_7': 387, 'subnational_cases_14': 927, 'subnational_population': 2236992, 'subnational_rate_14': 41.4395760020599, 'national_cases_7': 12049, 'national_population': 47332614, 'national_testing_rate': 1153.65485624775, 'national_positivity_rate': 2.20655428482479, 'subnational_testing_data': 'TRUE', 'positivity_rate_combined': 1.55465391877235, 'testing_rate_combined': 1112.78895945985, 'colour': 'Green', 'week': '2021-40'}, {'country': 'Spain', 'country_code': 'ES', 'geo_id_final': 'ES43', 'region': 'Extremadura', 'subnational_cases_7': 206, 'subnational_cases_14': 479, 'subnational_population': 1061979, 'subnational_rate_14': 45.1044700507261, 'national_cases_7': 12049, 'national_population': 47332614, 'national_testing_rate': 1153.65485624775, 'national_positivity_rate': 2.20655428482479, 'subnational_testing_data': 'TRUE', 'positivity_rate_combined': 1.37995712754555, 'testing_rate_combined': 1405.67751339716, 'colour': 'Green', 'week': '2021-40'}, {'country': 'Liechtenstein', 'country_code': 'LI', 'geo_id_final': 'LI0', 'region': 'Liechtenstein', 'subnational_cases_7': 13, 'subnational_cases_14': 19, 'subnational_population': 38747, 'subnational_rate_14': 49.0360544042119, 'national_cases_7': 13, 'national_population': 38747, 'national_testing_rate': 2805.37848091465, 'national_positivity_rate': 1.19595216191352, 'subnational_testing_data': 'FALSE', 'positivity_rate_combined': 1.19595216191352, 'testing_rate_combined': 2805.37848091465, 'colour': 'Green', 'week': '2021-40'}, {'country': 'Italy', 'country_code': 'IT', 'geo_id_final': 'ITF2', 'region': 'Molise', 'subnational_cases_7': 32, 'subnational_cases_14': 52, 'subnational_population': 300516, 'subnational_rate_14': 17.303571190885, 'national_cases_7': 18282, 'national_population': 59641488, 'national_testing_rate': 3236.3444721567, 'national_positivity_rate': 0.947153772347379, 'subnational_testing_data': 'TRUE', 'positivity_rate_combined': 1.19180633147114, 'testing_rate_combined': 893.463243221659, 'colour': 'Green', 'week': '2021-40'}, {'country': 'Spain', 'country_code': 'ES', 'geo_id_final': 'ES22', 'region': 'Comunidad Foral de Navarra', 'subnational_cases_7': 119, 'subnational_cases_14': 288, 'subnational_population': 656509, 'subnational_rate_14': 43.868400890163, 'national_cases_7': 12049, 'national_population': 47332614, 'national_testing_rate': 1153.65485624775, 'national_positivity_rate': 2.20655428482479, 'subnational_testing_data': 'TRUE', 'positivity_rate_combined': 1.17333859199369, 'testing_rate_combined': 1544.837923014, 'colour': 'Green', 'week': '2021-40'}, {'country': 'France', 'country_code': 'FR', 'geo_id_final': 'FRB', 'region': 'Centre — Val de Loire', 'subnational_cases_7': 703, 'subnational_cases_14': 1533, 'subnational_population': 2565726, 'subnational_rate_14': 59.7491704102465, 'national_cases_7': 29452, 'national_population': 67320216, 'national_testing_rate': 4242.23386330192, 'national_positivity_rate': 1.03127546280815, 'subnational_testing_data': 'TRUE', 'positivity_rate_combined': 0.988025635259726, 'testing_rate_combined': 2773.17219375724, 'colour': 'Green', 'week': '2021-40'}, {'country': 'France', 'country_code': 'FR', 'geo_id_final': 'FRH', 'region': 'Bretagne', 'subnational_cases_7': 943, 'subnational_cases_14': 1887, 'subnational_population': 3358524, 'subnational_rate_14': 56.1853957274088, 'national_cases_7': 29452, 'national_population': 67320216, 'national_testing_rate': 4242.23386330192, 'national_positivity_rate': 1.03127546280815, 'subnational_testing_data': 'TRUE', 'positivity_rate_combined': 0.962883545208557, 'testing_rate_combined': 2916.01310575717, 'colour': 'Green', 'week': '2021-40'}, {'country': 'Malta', 'country_code': 'MT', 'geo_id_final': 'MT0', 'region': 'Malta', 'subnational_cases_7': 137, 'subnational_cases_14': 255, 'subnational_population': 514564, 'subnational_rate_14': 49.5565177509503, 'national_cases_7': 137, 'national_population': 514564, 'national_testing_rate': 2830.16301179251, 'national_positivity_rate': 0.940740232095035, 'subnational_testing_data': 'FALSE', 'positivity_rate_combined': 0.940740232095035, 'testing_rate_combined': 2830.16301179251, 'colour': 'Green', 'week': '2021-40'}, {'country': 'Italy', 'country_code': 'IT', 'geo_id_final': 'ITC3', 'region': 'Liguria', 'subnational_cases_7': 418, 'subnational_cases_14': 926, 'subnational_population': 1524826, 'subnational_rate_14': 60.7282404680928, 'national_cases_7': 18282, 'national_population': 59641488, 'national_testing_rate': 3236.3444721567, 'national_positivity_rate': 0.947153772347379, 'subnational_testing_data': 'TRUE', 'positivity_rate_combined': 0.934349643471847, 'testing_rate_combined': 2933.90852464478, 'colour': 'Green', 'week': '2021-40'}, {'country': 'Spain', 'country_code': 'ES', 'geo_id_final': 'ES23', 'region': 'La Rioja', 'subnational_cases_7': 43, 'subnational_cases_14': 108, 'subnational_population': 315931, 'subnational_rate_14': 34.1846795661078, 'national_cases_7': 12049, 'national_population': 47332614, 'national_testing_rate': 1153.65485624775, 'national_positivity_rate': 2.20655428482479, 'subnational_testing_data': 'TRUE', 'positivity_rate_combined': 0.914310014884117, 'testing_rate_combined': 1488.61618517968, 'colour': 'Green', 'week': '2021-40'}, {'country': 'Spain', 'country_code': 'ES', 'geo_id_final': 'ES63', 'region': 'Ciudad de Ceuta', 'subnational_cases_7': 10, 'subnational_cases_14': 35, 'subnational_population': 84085, 'subnational_rate_14': 41.6245465897604, 'national_cases_7': 12049, 'national_population': 47332614, 'national_testing_rate': 1153.65485624775, 'national_positivity_rate': 2.20655428482479, 'subnational_testing_data': 'TRUE', 'positivity_rate_combined': 0.89126559714795, 'testing_rate_combined': 1334.36403639175, 'colour': 'Green', 'week': '2021-40'}, {'country': 'France', 'country_code': 'FR', 'geo_id_final': 'FRC', 'region': 'Bourgogne-Franche-Comté', 'subnational_cases_7': 817, 'subnational_cases_14': 1827, 'subnational_population': 2794517, 'subnational_rate_14': 65.3780241809229, 'national_cases_7': 29452, 'national_population': 67320216, 'national_testing_rate': 4242.23386330192, 'national_positivity_rate': 1.03127546280815, 'subnational_testing_data': 'TRUE', 'positivity_rate_combined': 0.880406905321235, 'testing_rate_combined': 3320.71696110634, 'colour': 'Green', 'week': '2021-40'}, {'country': 'France', 'country_code': 'FR', 'geo_id_final': 'FRI', 'region': 'Nouvelle-Aquitaine', 'subnational_cases_7': 1709, 'subnational_cases_14': 3667, 'subnational_population': 6018424, 'subnational_rate_14': 60.9295722601133, 'national_cases_7': 29452, 'national_population': 67320216, 'national_testing_rate': 4242.23386330192, 'national_positivity_rate': 1.03127546280815, 'subnational_testing_data': 'TRUE', 'positivity_rate_combined': 0.876738471325163, 'testing_rate_combined': 3238.83794162724, 'colour': 'Green', 'week': '2021-40'}, {'country': 'Italy', 'country_code': 'IT', 'geo_id_final': 'ITF4', 'region': 'Puglia', 'subnational_cases_7': 732, 'subnational_cases_14': 1590, 'subnational_population': 3953305, 'subnational_rate_14': 40.219512534449, 'national_cases_7': 18282, 'national_population': 59641488, 'national_testing_rate': 3236.3444721567, 'national_positivity_rate': 0.947153772347379, 'subnational_testing_data': 'TRUE', 'positivity_rate_combined': 0.837931271320314, 'testing_rate_combined': 2209.7460226317, 'colour': 'Green', 'week': '2021-40'}, {'country': 'Spain', 'country_code': 'ES', 'geo_id_final': 'ES11', 'region': 'Galicia', 'subnational_cases_7': 224, 'subnational_cases_14': 473, 'subnational_population': 2702592, 'subnational_rate_14': 17.501716870323, 'national_cases_7': 12049, 'national_population': 47332614, 'national_testing_rate': 1153.65485624775, 'national_positivity_rate': 2.20655428482479, 'subnational_testing_data': 'TRUE', 'positivity_rate_combined': 0.82274296628223, 'testing_rate_combined': 1007.40326323766, 'colour': 'Green', 'week': '2021-40'}, {'country': 'France', 'country_code': 'FR', 'geo_id_final': 'FRE', 'region': 'Hauts-de-France', 'subnational_cases_7': 1842, 'subnational_cases_14': 3659, 'subnational_population': 5987795, 'subnational_rate_14': 61.1076364504797, 'national_cases_7': 29452, 'national_population': 67320216, 'national_testing_rate': 4242.23386330192, 'national_positivity_rate': 1.03127546280815, 'subnational_testing_data': 'TRUE', 'positivity_rate_combined': 0.817518507340801, 'testing_rate_combined': 3762.92107528731, 'colour': 'Green', 'week': '2021-40'}, {'country': 'France', 'country_code': 'FR', 'geo_id_final': 'FRY4', 'region': 'La Réunion', 'subnational_cases_7': 243, 'subnational_cases_14': 541, 'subnational_population': 856858, 'subnational_rate_14': 63.1376494121546, 'national_cases_7': 29452, 'national_population': 67320216, 'national_testing_rate': 4242.23386330192, 'national_positivity_rate': 1.03127546280815, 'subnational_testing_data': 'TRUE', 'positivity_rate_combined': 0.791479382450655, 'testing_rate_combined': 3583.09078050272, 'colour': 'Green', 'week': '2021-40'}, {'country': 'Spain', 'country_code': 'ES', 'geo_id_final': 'ES12', 'region': 'Principado de Asturias', 'subnational_cases_7': 89, 'subnational_cases_14': 158, 'subnational_population': 1018899, 'subnational_rate_14': 15.5069344459068, 'national_cases_7': 12049, 'national_population': 47332614, 'national_testing_rate': 1153.65485624775, 'national_positivity_rate': 2.20655428482479, 'subnational_testing_data': 'TRUE', 'positivity_rate_combined': 0.785802578138796, 'testing_rate_combined': 1111.59202236924, 'colour': 'Green', 'week': '2021-40'}, {'country': 'Italy', 'country_code': 'IT', 'geo_id_final': 'ITH2', 'region': 'Provincia Autonoma di Trento', 'subnational_cases_7': 178, 'subnational_cases_14': 374, 'subnational_population': 545425, 'subnational_rate_14': 68.5703808956319, 'national_cases_7': 18282, 'national_population': 59641488, 'national_testing_rate': 3236.3444721567, 'national_positivity_rate': 0.947153772347379, 'subnational_testing_data': 'TRUE', 'positivity_rate_combined': 0.770129364426946, 'testing_rate_combined': 4237.61287069716, 'colour': 'Green', 'week': '2021-40'}, {'country': 'Denmark', 'country_code': 'DK', 'geo_id_final': 'DK04', 'region': 'Midtjylland', 'subnational_cases_7': 586, 'subnational_cases_14': 974, 'subnational_population': 1326340, 'subnational_rate_14': 73.4351674532925, 'national_cases_7': 4053, 'national_population': 5822763, 'national_testing_rate': 7429.11913124405, 'national_positivity_rate': 0.936936520412409, 'subnational_testing_data': 'TRUE', 'positivity_rate_combined': 0.760614202458367, 'testing_rate_combined': 5808.69158737579, 'colour': 'Green', 'week': '2021-40'}, {'country': 'France', 'country_code': 'FR', 'geo_id_final': 'FRF', 'region': 'Grand Est', 'subnational_cases_7': 1773, 'subnational_cases_14': 3895, 'subnational_population': 5536002, 'subnational_rate_14': 70.3576335413174, 'national_cases_7': 29452, 'national_population': 67320216, 'national_testing_rate': 4242.23386330192, 'national_positivity_rate': 1.03127546280815, 'subnational_testing_data': 'TRUE', 'positivity_rate_combined': 0.718159761180488, 'testing_rate_combined': 4459.55402472759, 'colour': 'Green', 'week': '2021-40'}, {'country': 'France', 'country_code': 'FR', 'geo_id_final': 'FRD', 'region': 'Normandie', 'subnational_cases_7': 756, 'subnational_cases_14': 1587, 'subnational_population': 3313432, 'subnational_rate_14': 47.8959580278092, 'national_cases_7': 29452, 'national_population': 67320216, 'national_testing_rate': 4242.23386330192, 'national_positivity_rate': 1.03127546280815, 'subnational_testing_data': 'TRUE', 'positivity_rate_combined': 0.658307210031348, 'testing_rate_combined': 3465.89276617115, 'colour': 'Green', 'week': '2021-40'}, {'country': 'Italy', 'country_code': 'IT', 'geo_id_final': 'ITC1', 'region': 'Piemonte', 'subnational_cases_7': 1079, 'subnational_cases_14': 2250, 'subnational_population': 4311217, 'subnational_rate_14': 52.1894397799972, 'national_cases_7': 18282, 'national_population': 59641488, 'national_testing_rate': 3236.3444721567, 'national_positivity_rate': 0.947153772347379, 'subnational_testing_data': 'TRUE', 'positivity_rate_combined': 0.645547279308385, 'testing_rate_combined': 3876.97951645672, 'colour': 'Green', 'week': '2021-40'}, {'country': 'Italy', 'country_code': 'IT', 'geo_id_final': 'ITH4', 'region': 'Friuli-Venezia Giulia', 'subnational_cases_7': 413, 'subnational_cases_14': 896, 'subnational_population': 1206216, 'subnational_rate_14': 74.2818864946245, 'national_cases_7': 18282, 'national_population': 59641488, 'national_testing_rate': 3236.3444721567, 'national_positivity_rate': 0.947153772347379, 'subnational_testing_data': 'TRUE', 'positivity_rate_combined': 0.633425867701416, 'testing_rate_combined': 5405.41660863394, 'colour': 'Green', 'week': '2021-40'}, {'country': 'Italy', 'country_code': 'IT', 'geo_id_final': 'ITG2', 'region': 'Sardegna', 'subnational_cases_7': 238, 'subnational_cases_14': 574, 'subnational_population': 1611621, 'subnational_rate_14': 35.6163142575084, 'national_cases_7': 18282, 'national_population': 59641488, 'national_testing_rate': 3236.3444721567, 'national_positivity_rate': 0.947153772347379, 'subnational_testing_data': 'TRUE', 'positivity_rate_combined': 0.596296945857239, 'testing_rate_combined': 2476.57482745633, 'colour': 'Green', 'week': '2021-40'}, {'country': 'Italy', 'country_code': 'IT', 'geo_id_final': 'ITC4', 'region': 'Lombardia', 'subnational_cases_7': 1974, 'subnational_cases_14': 4334, 'subnational_population': 10027602, 'subnational_rate_14': 43.2207022177386, 'national_cases_7': 18282, 'national_population': 59641488, 'national_testing_rate': 3236.3444721567, 'national_positivity_rate': 0.947153772347379, 'subnational_testing_data': 'TRUE', 'positivity_rate_combined': 0.549955702656169, 'testing_rate_combined': 3579.49986447408, 'colour': 'Green', 'week': '2021-40'}, {'country': 'Denmark', 'country_code': 'DK', 'geo_id_final': 'DK05', 'region': 'Nordjylland', 'subnational_cases_7': 229, 'subnational_cases_14': 417, 'subnational_population': 589936, 'subnational_rate_14': 70.6856336958585, 'national_cases_7': 4053, 'national_population': 5822763, 'national_testing_rate': 7429.11913124405, 'national_positivity_rate': 0.936936520412409, 'subnational_testing_data': 'TRUE', 'positivity_rate_combined': 0.542705469712769, 'testing_rate_combined': 7152.64028640395, 'colour': 'Green', 'week': '2021-40'}, {'country': 'Italy', 'country_code': 'IT', 'geo_id_final': 'ITF1', 'region': 'Abruzzo', 'subnational_cases_7': 250, 'subnational_cases_14': 563, 'subnational_population': 1293941, 'subnational_rate_14': 43.5104846356982, 'national_cases_7': 18282, 'national_population': 59641488, 'national_testing_rate': 3236.3444721567, 'national_positivity_rate': 0.947153772347379, 'subnational_testing_data': 'TRUE', 'positivity_rate_combined': 0.540844582900658, 'testing_rate_combined': 3572.34217016077, 'colour': 'Green', 'week': '2021-40'}, {'country': 'Italy', 'country_code': 'IT', 'geo_id_final': 'ITI2', 'region': 'Umbria', 'subnational_cases_7': 201, 'subnational_cases_14': 455, 'subnational_population': 870165, 'subnational_rate_14': 52.2889337079749, 'national_cases_7': 18282, 'national_population': 59641488, 'national_testing_rate': 3236.3444721567, 'national_positivity_rate': 0.947153772347379, 'subnational_testing_data': 'TRUE', 'positivity_rate_combined': 0.474638707849249, 'testing_rate_combined': 4866.66321904466, 'colour': 'Green', 'week': '2021-40'}, {'country': 'Portugal', 'country_code': 'PT', 'geo_id_final': 'PT3', 'region': 'Região Autónoma da Madeira', 'subnational_cases_7': 69, 'subnational_cases_14': 187, 'subnational_population': 254254, 'subnational_rate_14': 73.5484987453491, 'national_cases_7': 4332, 'national_population': 10295909, 'national_testing_rate': 2563.74643559884, 'national_positivity_rate': 1.6411515337493, 'subnational_testing_data': 'TRUE', 'positivity_rate_combined': 0.406599882144962, 'testing_rate_combined': 6674.42793427045, 'colour': 'Green', 'week': '2021-40'}, {'country': 'Greece', 'country_code': 'EL', 'geo_id_final': 'EL41', 'region': 'Voreio Aigaio', 'subnational_cases_7': 74, 'subnational_cases_14': 128, 'subnational_population': 229516, 'subnational_rate_14': 55.7695324073267, 'national_cases_7': 15491, 'national_population': 10718565, 'national_testing_rate': 29694.040200344, 'national_positivity_rate': 0.486713638255924, 'subnational_testing_data': 'TRUE', 'positivity_rate_combined': 0.140481433669983, 'testing_rate_combined': 22950.9053835027, 'colour': 'Green', 'week': '2021-40'}]\n"
     ]
    }
   ],
   "source": [
    "print(response.json())"
   ]
  },
  {
   "cell_type": "code",
   "execution_count": 17,
   "metadata": {},
   "outputs": [],
   "source": [
    "countries = response.json()"
   ]
  },
  {
   "cell_type": "code",
   "execution_count": 18,
   "metadata": {},
   "outputs": [
    {
     "name": "stdout",
     "output_type": "stream",
     "text": [
      "<class 'list'>\n"
     ]
    }
   ],
   "source": [
    "print(type(countries))"
   ]
  },
  {
   "cell_type": "markdown",
   "metadata": {},
   "source": [
    "\n",
    "Hmm, `countries` is a list, not a dictionary.   I wonder what each entry on the list contains?"
   ]
  },
  {
   "cell_type": "code",
   "execution_count": 19,
   "metadata": {},
   "outputs": [
    {
     "name": "stdout",
     "output_type": "stream",
     "text": [
      "{'country': 'Poland', 'country_code': 'PL', 'geo_id_final': 'PL82', 'region': 'Podkarpackie', 'subnational_cases_7': 558, 'subnational_cases_14': 1015, 'subnational_population': 2084447, 'subnational_rate_14': 48.6939701513159, 'national_cases_7': 11755, 'national_population': 37958138, 'national_testing_rate': 670.401693570955, 'national_positivity_rate': 4.61936873211984, 'subnational_testing_data': 'TRUE', 'positivity_rate_combined': 3.7494960354791, 'testing_rate_combined': 713.954348563432, 'colour': 'Green', 'week': '2021-40'}\n"
     ]
    }
   ],
   "source": [
    "print(countries[0])"
   ]
  },
  {
   "cell_type": "code",
   "execution_count": 20,
   "metadata": {},
   "outputs": [
    {
     "name": "stdout",
     "output_type": "stream",
     "text": [
      "<class 'dict'>\n"
     ]
    }
   ],
   "source": [
    "print(type(countries[0]))"
   ]
  },
  {
   "cell_type": "markdown",
   "metadata": {},
   "source": [
    "So we have a list of dictionaries?   This is typical.  We've retrieved an array - a serialized set of objects, and JSON is used to define the content of each object.    That object is a mix of data -- strings and numbers.   I bet this is a table of data, with a row for each country.\n",
    "\n",
    "Fortunately, we just learned about Pandas and how useful it can be with tabular data.    Let's convert our list of objects to a Pandas dataframe."
   ]
  },
  {
   "cell_type": "code",
   "execution_count": 21,
   "metadata": {},
   "outputs": [
    {
     "name": "stdout",
     "output_type": "stream",
     "text": [
      "(49, 17)\n"
     ]
    }
   ],
   "source": [
    "countriesDF = pd.DataFrame(countries)\n",
    "print(countriesDF.shape)"
   ]
  },
  {
   "cell_type": "code",
   "execution_count": 22,
   "metadata": {},
   "outputs": [
    {
     "name": "stdout",
     "output_type": "stream",
     "text": [
      "<class 'pandas.core.frame.DataFrame'>\n",
      "RangeIndex: 49 entries, 0 to 48\n",
      "Data columns (total 17 columns):\n",
      " #   Column                    Non-Null Count  Dtype  \n",
      "---  ------                    --------------  -----  \n",
      " 0   country                   49 non-null     object \n",
      " 1   country_code              49 non-null     object \n",
      " 2   geo_id_final              49 non-null     object \n",
      " 3   region                    49 non-null     object \n",
      " 4   subnational_cases_7       49 non-null     int64  \n",
      " 5   subnational_cases_14      49 non-null     int64  \n",
      " 6   subnational_population    49 non-null     int64  \n",
      " 7   subnational_rate_14       49 non-null     float64\n",
      " 8   national_cases_7          49 non-null     int64  \n",
      " 9   national_population       49 non-null     int64  \n",
      " 10  national_testing_rate     49 non-null     float64\n",
      " 11  national_positivity_rate  49 non-null     float64\n",
      " 12  subnational_testing_data  49 non-null     object \n",
      " 13  positivity_rate_combined  49 non-null     float64\n",
      " 14  testing_rate_combined     49 non-null     float64\n",
      " 15  colour                    49 non-null     object \n",
      " 16  week                      49 non-null     object \n",
      "dtypes: float64(5), int64(5), object(7)\n",
      "memory usage: 6.6+ KB\n"
     ]
    }
   ],
   "source": [
    "countriesDF.info()"
   ]
  },
  {
   "cell_type": "markdown",
   "metadata": {},
   "source": [
    "\n",
    "Notice how clever Pandas was?   The keys in the key-value pairs were used to name the data columns, and wherever possible the data was interpreted as numeric values.   We can use Pandas to describe that numeric data, just like before."
   ]
  },
  {
   "cell_type": "code",
   "execution_count": 23,
   "metadata": {},
   "outputs": [
    {
     "data": {
      "text/html": [
       "<div>\n",
       "<style scoped>\n",
       "    .dataframe tbody tr th:only-of-type {\n",
       "        vertical-align: middle;\n",
       "    }\n",
       "\n",
       "    .dataframe tbody tr th {\n",
       "        vertical-align: top;\n",
       "    }\n",
       "\n",
       "    .dataframe thead th {\n",
       "        text-align: right;\n",
       "    }\n",
       "</style>\n",
       "<table border=\"1\" class=\"dataframe\">\n",
       "  <thead>\n",
       "    <tr style=\"text-align: right;\">\n",
       "      <th></th>\n",
       "      <th>country</th>\n",
       "      <th>country_code</th>\n",
       "      <th>geo_id_final</th>\n",
       "      <th>region</th>\n",
       "      <th>subnational_cases_7</th>\n",
       "      <th>subnational_cases_14</th>\n",
       "      <th>subnational_population</th>\n",
       "      <th>subnational_rate_14</th>\n",
       "      <th>national_cases_7</th>\n",
       "      <th>national_population</th>\n",
       "      <th>national_testing_rate</th>\n",
       "      <th>national_positivity_rate</th>\n",
       "      <th>subnational_testing_data</th>\n",
       "      <th>positivity_rate_combined</th>\n",
       "      <th>testing_rate_combined</th>\n",
       "      <th>colour</th>\n",
       "      <th>week</th>\n",
       "    </tr>\n",
       "  </thead>\n",
       "  <tbody>\n",
       "    <tr>\n",
       "      <th>0</th>\n",
       "      <td>Poland</td>\n",
       "      <td>PL</td>\n",
       "      <td>PL82</td>\n",
       "      <td>Podkarpackie</td>\n",
       "      <td>558</td>\n",
       "      <td>1015</td>\n",
       "      <td>2084447</td>\n",
       "      <td>48.693970</td>\n",
       "      <td>11755</td>\n",
       "      <td>37958138</td>\n",
       "      <td>670.401694</td>\n",
       "      <td>4.619369</td>\n",
       "      <td>TRUE</td>\n",
       "      <td>3.749496</td>\n",
       "      <td>713.954349</td>\n",
       "      <td>Green</td>\n",
       "      <td>2021-40</td>\n",
       "    </tr>\n",
       "    <tr>\n",
       "      <th>1</th>\n",
       "      <td>Poland</td>\n",
       "      <td>PL</td>\n",
       "      <td>PL63</td>\n",
       "      <td>Pomorskie</td>\n",
       "      <td>560</td>\n",
       "      <td>965</td>\n",
       "      <td>2316135</td>\n",
       "      <td>41.664238</td>\n",
       "      <td>11755</td>\n",
       "      <td>37958138</td>\n",
       "      <td>670.401694</td>\n",
       "      <td>4.619369</td>\n",
       "      <td>TRUE</td>\n",
       "      <td>3.635419</td>\n",
       "      <td>665.073495</td>\n",
       "      <td>Green</td>\n",
       "      <td>2021-40</td>\n",
       "    </tr>\n",
       "    <tr>\n",
       "      <th>2</th>\n",
       "      <td>Poland</td>\n",
       "      <td>PL</td>\n",
       "      <td>PL21</td>\n",
       "      <td>Małopolskie</td>\n",
       "      <td>658</td>\n",
       "      <td>1209</td>\n",
       "      <td>3371956</td>\n",
       "      <td>35.854560</td>\n",
       "      <td>11755</td>\n",
       "      <td>37958138</td>\n",
       "      <td>670.401694</td>\n",
       "      <td>4.619369</td>\n",
       "      <td>TRUE</td>\n",
       "      <td>3.547744</td>\n",
       "      <td>550.036833</td>\n",
       "      <td>Green</td>\n",
       "      <td>2021-40</td>\n",
       "    </tr>\n",
       "    <tr>\n",
       "      <th>3</th>\n",
       "      <td>Poland</td>\n",
       "      <td>PL</td>\n",
       "      <td>PL71</td>\n",
       "      <td>Łódzkie</td>\n",
       "      <td>603</td>\n",
       "      <td>1019</td>\n",
       "      <td>2442685</td>\n",
       "      <td>41.716390</td>\n",
       "      <td>11755</td>\n",
       "      <td>37958138</td>\n",
       "      <td>670.401694</td>\n",
       "      <td>4.619369</td>\n",
       "      <td>TRUE</td>\n",
       "      <td>3.273971</td>\n",
       "      <td>754.006350</td>\n",
       "      <td>Green</td>\n",
       "      <td>2021-40</td>\n",
       "    </tr>\n",
       "    <tr>\n",
       "      <th>4</th>\n",
       "      <td>Poland</td>\n",
       "      <td>PL</td>\n",
       "      <td>PL61</td>\n",
       "      <td>Kujawsko-pomorskie</td>\n",
       "      <td>372</td>\n",
       "      <td>635</td>\n",
       "      <td>2050976</td>\n",
       "      <td>30.960869</td>\n",
       "      <td>11755</td>\n",
       "      <td>37958138</td>\n",
       "      <td>670.401694</td>\n",
       "      <td>4.619369</td>\n",
       "      <td>TRUE</td>\n",
       "      <td>3.127364</td>\n",
       "      <td>579.967781</td>\n",
       "      <td>Green</td>\n",
       "      <td>2021-40</td>\n",
       "    </tr>\n",
       "  </tbody>\n",
       "</table>\n",
       "</div>"
      ],
      "text/plain": [
       "  country country_code geo_id_final              region  subnational_cases_7  \\\n",
       "0  Poland           PL         PL82        Podkarpackie                  558   \n",
       "1  Poland           PL         PL63           Pomorskie                  560   \n",
       "2  Poland           PL         PL21         Małopolskie                  658   \n",
       "3  Poland           PL         PL71             Łódzkie                  603   \n",
       "4  Poland           PL         PL61  Kujawsko-pomorskie                  372   \n",
       "\n",
       "   subnational_cases_14  subnational_population  subnational_rate_14  \\\n",
       "0                  1015                 2084447            48.693970   \n",
       "1                   965                 2316135            41.664238   \n",
       "2                  1209                 3371956            35.854560   \n",
       "3                  1019                 2442685            41.716390   \n",
       "4                   635                 2050976            30.960869   \n",
       "\n",
       "   national_cases_7  national_population  national_testing_rate  \\\n",
       "0             11755             37958138             670.401694   \n",
       "1             11755             37958138             670.401694   \n",
       "2             11755             37958138             670.401694   \n",
       "3             11755             37958138             670.401694   \n",
       "4             11755             37958138             670.401694   \n",
       "\n",
       "   national_positivity_rate subnational_testing_data  \\\n",
       "0                  4.619369                     TRUE   \n",
       "1                  4.619369                     TRUE   \n",
       "2                  4.619369                     TRUE   \n",
       "3                  4.619369                     TRUE   \n",
       "4                  4.619369                     TRUE   \n",
       "\n",
       "   positivity_rate_combined  testing_rate_combined colour     week  \n",
       "0                  3.749496             713.954349  Green  2021-40  \n",
       "1                  3.635419             665.073495  Green  2021-40  \n",
       "2                  3.547744             550.036833  Green  2021-40  \n",
       "3                  3.273971             754.006350  Green  2021-40  \n",
       "4                  3.127364             579.967781  Green  2021-40  "
      ]
     },
     "execution_count": 23,
     "metadata": {},
     "output_type": "execute_result"
    }
   ],
   "source": [
    "countriesDF.head()"
   ]
  },
  {
   "cell_type": "code",
   "execution_count": 24,
   "metadata": {},
   "outputs": [
    {
     "data": {
      "text/html": [
       "<div>\n",
       "<style scoped>\n",
       "    .dataframe tbody tr th:only-of-type {\n",
       "        vertical-align: middle;\n",
       "    }\n",
       "\n",
       "    .dataframe tbody tr th {\n",
       "        vertical-align: top;\n",
       "    }\n",
       "\n",
       "    .dataframe thead th {\n",
       "        text-align: right;\n",
       "    }\n",
       "</style>\n",
       "<table border=\"1\" class=\"dataframe\">\n",
       "  <thead>\n",
       "    <tr style=\"text-align: right;\">\n",
       "      <th></th>\n",
       "      <th>subnational_cases_7</th>\n",
       "      <th>subnational_cases_14</th>\n",
       "      <th>subnational_population</th>\n",
       "      <th>subnational_rate_14</th>\n",
       "      <th>national_cases_7</th>\n",
       "      <th>national_population</th>\n",
       "      <th>national_testing_rate</th>\n",
       "      <th>national_positivity_rate</th>\n",
       "      <th>positivity_rate_combined</th>\n",
       "      <th>testing_rate_combined</th>\n",
       "    </tr>\n",
       "  </thead>\n",
       "  <tbody>\n",
       "    <tr>\n",
       "      <th>count</th>\n",
       "      <td>49.000000</td>\n",
       "      <td>49.000000</td>\n",
       "      <td>4.900000e+01</td>\n",
       "      <td>49.000000</td>\n",
       "      <td>49.000000</td>\n",
       "      <td>4.900000e+01</td>\n",
       "      <td>49.000000</td>\n",
       "      <td>49.000000</td>\n",
       "      <td>49.000000</td>\n",
       "      <td>49.000000</td>\n",
       "    </tr>\n",
       "    <tr>\n",
       "      <th>mean</th>\n",
       "      <td>500.489796</td>\n",
       "      <td>1034.061224</td>\n",
       "      <td>2.284194e+06</td>\n",
       "      <td>45.397367</td>\n",
       "      <td>14664.265306</td>\n",
       "      <td>4.341737e+07</td>\n",
       "      <td>2939.373379</td>\n",
       "      <td>2.209493</td>\n",
       "      <td>1.502291</td>\n",
       "      <td>2708.548158</td>\n",
       "    </tr>\n",
       "    <tr>\n",
       "      <th>std</th>\n",
       "      <td>503.509935</td>\n",
       "      <td>1085.613678</td>\n",
       "      <td>2.172518e+06</td>\n",
       "      <td>15.848057</td>\n",
       "      <td>8150.485867</td>\n",
       "      <td>2.061819e+07</td>\n",
       "      <td>4251.745684</td>\n",
       "      <td>1.461374</td>\n",
       "      <td>1.019130</td>\n",
       "      <td>3430.917063</td>\n",
       "    </tr>\n",
       "    <tr>\n",
       "      <th>min</th>\n",
       "      <td>10.000000</td>\n",
       "      <td>19.000000</td>\n",
       "      <td>3.874700e+04</td>\n",
       "      <td>15.506934</td>\n",
       "      <td>13.000000</td>\n",
       "      <td>3.874700e+04</td>\n",
       "      <td>670.401694</td>\n",
       "      <td>0.486714</td>\n",
       "      <td>0.140481</td>\n",
       "      <td>465.149697</td>\n",
       "    </tr>\n",
       "    <tr>\n",
       "      <th>25%</th>\n",
       "      <td>137.000000</td>\n",
       "      <td>262.000000</td>\n",
       "      <td>6.565090e+05</td>\n",
       "      <td>35.616314</td>\n",
       "      <td>11755.000000</td>\n",
       "      <td>3.795814e+07</td>\n",
       "      <td>1153.654856</td>\n",
       "      <td>0.947154</td>\n",
       "      <td>0.770129</td>\n",
       "      <td>793.611009</td>\n",
       "    </tr>\n",
       "    <tr>\n",
       "      <th>50%</th>\n",
       "      <td>372.000000</td>\n",
       "      <td>715.000000</td>\n",
       "      <td>1.524826e+06</td>\n",
       "      <td>43.868401</td>\n",
       "      <td>12049.000000</td>\n",
       "      <td>4.733261e+07</td>\n",
       "      <td>1799.730977</td>\n",
       "      <td>2.206554</td>\n",
       "      <td>0.962884</td>\n",
       "      <td>1488.616185</td>\n",
       "    </tr>\n",
       "    <tr>\n",
       "      <th>75%</th>\n",
       "      <td>658.000000</td>\n",
       "      <td>1209.000000</td>\n",
       "      <td>3.313432e+06</td>\n",
       "      <td>56.185396</td>\n",
       "      <td>18282.000000</td>\n",
       "      <td>5.964149e+07</td>\n",
       "      <td>3236.344472</td>\n",
       "      <td>3.135546</td>\n",
       "      <td>2.192024</td>\n",
       "      <td>3572.342170</td>\n",
       "    </tr>\n",
       "    <tr>\n",
       "      <th>max</th>\n",
       "      <td>1974.000000</td>\n",
       "      <td>4334.000000</td>\n",
       "      <td>1.002760e+07</td>\n",
       "      <td>74.281886</td>\n",
       "      <td>29452.000000</td>\n",
       "      <td>6.732022e+07</td>\n",
       "      <td>29694.040200</td>\n",
       "      <td>4.619369</td>\n",
       "      <td>3.749496</td>\n",
       "      <td>22950.905384</td>\n",
       "    </tr>\n",
       "  </tbody>\n",
       "</table>\n",
       "</div>"
      ],
      "text/plain": [
       "       subnational_cases_7  subnational_cases_14  subnational_population  \\\n",
       "count            49.000000             49.000000            4.900000e+01   \n",
       "mean            500.489796           1034.061224            2.284194e+06   \n",
       "std             503.509935           1085.613678            2.172518e+06   \n",
       "min              10.000000             19.000000            3.874700e+04   \n",
       "25%             137.000000            262.000000            6.565090e+05   \n",
       "50%             372.000000            715.000000            1.524826e+06   \n",
       "75%             658.000000           1209.000000            3.313432e+06   \n",
       "max            1974.000000           4334.000000            1.002760e+07   \n",
       "\n",
       "       subnational_rate_14  national_cases_7  national_population  \\\n",
       "count            49.000000         49.000000         4.900000e+01   \n",
       "mean             45.397367      14664.265306         4.341737e+07   \n",
       "std              15.848057       8150.485867         2.061819e+07   \n",
       "min              15.506934         13.000000         3.874700e+04   \n",
       "25%              35.616314      11755.000000         3.795814e+07   \n",
       "50%              43.868401      12049.000000         4.733261e+07   \n",
       "75%              56.185396      18282.000000         5.964149e+07   \n",
       "max              74.281886      29452.000000         6.732022e+07   \n",
       "\n",
       "       national_testing_rate  national_positivity_rate  \\\n",
       "count              49.000000                 49.000000   \n",
       "mean             2939.373379                  2.209493   \n",
       "std              4251.745684                  1.461374   \n",
       "min               670.401694                  0.486714   \n",
       "25%              1153.654856                  0.947154   \n",
       "50%              1799.730977                  2.206554   \n",
       "75%              3236.344472                  3.135546   \n",
       "max             29694.040200                  4.619369   \n",
       "\n",
       "       positivity_rate_combined  testing_rate_combined  \n",
       "count                 49.000000              49.000000  \n",
       "mean                   1.502291            2708.548158  \n",
       "std                    1.019130            3430.917063  \n",
       "min                    0.140481             465.149697  \n",
       "25%                    0.770129             793.611009  \n",
       "50%                    0.962884            1488.616185  \n",
       "75%                    2.192024            3572.342170  \n",
       "max                    3.749496           22950.905384  "
      ]
     },
     "execution_count": 24,
     "metadata": {},
     "output_type": "execute_result"
    }
   ],
   "source": [
    "countriesDF.describe()"
   ]
  },
  {
   "cell_type": "markdown",
   "metadata": {},
   "source": [
    "\n",
    "And now we  have a Pandas dataframe of COVID case data across the Globe.    You could build a dashboard around this data, and then once a day make a new REST request for the latest information and update the dashboard.    Here's an example, where I filter the DataFrame to show the top 20 countries by `TotalCases` and then plot the data using matplotlib.\n"
   ]
  },
  {
   "cell_type": "code",
   "execution_count": 25,
   "metadata": {},
   "outputs": [
    {
     "ename": "KeyError",
     "evalue": "'TotalCases'",
     "output_type": "error",
     "traceback": [
      "\u001b[1;31m---------------------------------------------------------------------------\u001b[0m",
      "\u001b[1;31mKeyError\u001b[0m                                  Traceback (most recent call last)",
      "\u001b[1;32m~\\anaconda3\\lib\\site-packages\\pandas\\core\\indexes\\base.py\u001b[0m in \u001b[0;36mget_loc\u001b[1;34m(self, key, method, tolerance)\u001b[0m\n\u001b[0;32m   3079\u001b[0m             \u001b[1;32mtry\u001b[0m\u001b[1;33m:\u001b[0m\u001b[1;33m\u001b[0m\u001b[1;33m\u001b[0m\u001b[0m\n\u001b[1;32m-> 3080\u001b[1;33m                 \u001b[1;32mreturn\u001b[0m \u001b[0mself\u001b[0m\u001b[1;33m.\u001b[0m\u001b[0m_engine\u001b[0m\u001b[1;33m.\u001b[0m\u001b[0mget_loc\u001b[0m\u001b[1;33m(\u001b[0m\u001b[0mcasted_key\u001b[0m\u001b[1;33m)\u001b[0m\u001b[1;33m\u001b[0m\u001b[1;33m\u001b[0m\u001b[0m\n\u001b[0m\u001b[0;32m   3081\u001b[0m             \u001b[1;32mexcept\u001b[0m \u001b[0mKeyError\u001b[0m \u001b[1;32mas\u001b[0m \u001b[0merr\u001b[0m\u001b[1;33m:\u001b[0m\u001b[1;33m\u001b[0m\u001b[1;33m\u001b[0m\u001b[0m\n",
      "\u001b[1;32mpandas\\_libs\\index.pyx\u001b[0m in \u001b[0;36mpandas._libs.index.IndexEngine.get_loc\u001b[1;34m()\u001b[0m\n",
      "\u001b[1;32mpandas\\_libs\\index.pyx\u001b[0m in \u001b[0;36mpandas._libs.index.IndexEngine.get_loc\u001b[1;34m()\u001b[0m\n",
      "\u001b[1;32mpandas\\_libs\\hashtable_class_helper.pxi\u001b[0m in \u001b[0;36mpandas._libs.hashtable.PyObjectHashTable.get_item\u001b[1;34m()\u001b[0m\n",
      "\u001b[1;32mpandas\\_libs\\hashtable_class_helper.pxi\u001b[0m in \u001b[0;36mpandas._libs.hashtable.PyObjectHashTable.get_item\u001b[1;34m()\u001b[0m\n",
      "\u001b[1;31mKeyError\u001b[0m: 'TotalCases'",
      "\nThe above exception was the direct cause of the following exception:\n",
      "\u001b[1;31mKeyError\u001b[0m                                  Traceback (most recent call last)",
      "\u001b[1;32m<ipython-input-25-41ea27f8fb1a>\u001b[0m in \u001b[0;36m<module>\u001b[1;34m\u001b[0m\n\u001b[1;32m----> 1\u001b[1;33m \u001b[0mcountriesDF\u001b[0m\u001b[1;33m.\u001b[0m\u001b[0mnlargest\u001b[0m\u001b[1;33m(\u001b[0m\u001b[1;36m20\u001b[0m\u001b[1;33m,\u001b[0m \u001b[1;34m'TotalCases'\u001b[0m\u001b[1;33m)\u001b[0m\u001b[1;33m.\u001b[0m\u001b[0mplot\u001b[0m\u001b[1;33m(\u001b[0m\u001b[0mx\u001b[0m\u001b[1;33m=\u001b[0m\u001b[1;34m'Country'\u001b[0m\u001b[1;33m,\u001b[0m \u001b[0my\u001b[0m\u001b[1;33m=\u001b[0m\u001b[1;34m'TotalCases'\u001b[0m\u001b[1;33m,\u001b[0m \u001b[0mkind\u001b[0m \u001b[1;33m=\u001b[0m \u001b[1;34m'bar'\u001b[0m\u001b[1;33m)\u001b[0m\u001b[1;33m\u001b[0m\u001b[1;33m\u001b[0m\u001b[0m\n\u001b[0m\u001b[0;32m      2\u001b[0m \u001b[0mplt\u001b[0m\u001b[1;33m.\u001b[0m\u001b[0mpyplot\u001b[0m\u001b[1;33m.\u001b[0m\u001b[0mshow\u001b[0m\u001b[1;33m(\u001b[0m\u001b[1;33m)\u001b[0m\u001b[1;33m\u001b[0m\u001b[1;33m\u001b[0m\u001b[0m\n",
      "\u001b[1;32m~\\anaconda3\\lib\\site-packages\\pandas\\core\\frame.py\u001b[0m in \u001b[0;36mnlargest\u001b[1;34m(self, n, columns, keep)\u001b[0m\n\u001b[0;32m   5795\u001b[0m         \u001b[0mBrunei\u001b[0m      \u001b[1;36m434000\u001b[0m    \u001b[1;36m12128\u001b[0m      \u001b[0mBN\u001b[0m\u001b[1;33m\u001b[0m\u001b[1;33m\u001b[0m\u001b[0m\n\u001b[0;32m   5796\u001b[0m         \"\"\"\n\u001b[1;32m-> 5797\u001b[1;33m         \u001b[1;32mreturn\u001b[0m \u001b[0malgorithms\u001b[0m\u001b[1;33m.\u001b[0m\u001b[0mSelectNFrame\u001b[0m\u001b[1;33m(\u001b[0m\u001b[0mself\u001b[0m\u001b[1;33m,\u001b[0m \u001b[0mn\u001b[0m\u001b[1;33m=\u001b[0m\u001b[0mn\u001b[0m\u001b[1;33m,\u001b[0m \u001b[0mkeep\u001b[0m\u001b[1;33m=\u001b[0m\u001b[0mkeep\u001b[0m\u001b[1;33m,\u001b[0m \u001b[0mcolumns\u001b[0m\u001b[1;33m=\u001b[0m\u001b[0mcolumns\u001b[0m\u001b[1;33m)\u001b[0m\u001b[1;33m.\u001b[0m\u001b[0mnlargest\u001b[0m\u001b[1;33m(\u001b[0m\u001b[1;33m)\u001b[0m\u001b[1;33m\u001b[0m\u001b[1;33m\u001b[0m\u001b[0m\n\u001b[0m\u001b[0;32m   5798\u001b[0m \u001b[1;33m\u001b[0m\u001b[0m\n\u001b[0;32m   5799\u001b[0m     \u001b[1;32mdef\u001b[0m \u001b[0mnsmallest\u001b[0m\u001b[1;33m(\u001b[0m\u001b[0mself\u001b[0m\u001b[1;33m,\u001b[0m \u001b[0mn\u001b[0m\u001b[1;33m,\u001b[0m \u001b[0mcolumns\u001b[0m\u001b[1;33m,\u001b[0m \u001b[0mkeep\u001b[0m\u001b[1;33m=\u001b[0m\u001b[1;34m\"first\"\u001b[0m\u001b[1;33m)\u001b[0m \u001b[1;33m->\u001b[0m \u001b[0mDataFrame\u001b[0m\u001b[1;33m:\u001b[0m\u001b[1;33m\u001b[0m\u001b[1;33m\u001b[0m\u001b[0m\n",
      "\u001b[1;32m~\\anaconda3\\lib\\site-packages\\pandas\\core\\algorithms.py\u001b[0m in \u001b[0;36mnlargest\u001b[1;34m(self)\u001b[0m\n\u001b[0;32m   1181\u001b[0m \u001b[1;33m\u001b[0m\u001b[0m\n\u001b[0;32m   1182\u001b[0m     \u001b[1;32mdef\u001b[0m \u001b[0mnlargest\u001b[0m\u001b[1;33m(\u001b[0m\u001b[0mself\u001b[0m\u001b[1;33m)\u001b[0m\u001b[1;33m:\u001b[0m\u001b[1;33m\u001b[0m\u001b[1;33m\u001b[0m\u001b[0m\n\u001b[1;32m-> 1183\u001b[1;33m         \u001b[1;32mreturn\u001b[0m \u001b[0mself\u001b[0m\u001b[1;33m.\u001b[0m\u001b[0mcompute\u001b[0m\u001b[1;33m(\u001b[0m\u001b[1;34m\"nlargest\"\u001b[0m\u001b[1;33m)\u001b[0m\u001b[1;33m\u001b[0m\u001b[1;33m\u001b[0m\u001b[0m\n\u001b[0m\u001b[0;32m   1184\u001b[0m \u001b[1;33m\u001b[0m\u001b[0m\n\u001b[0;32m   1185\u001b[0m     \u001b[1;32mdef\u001b[0m \u001b[0mnsmallest\u001b[0m\u001b[1;33m(\u001b[0m\u001b[0mself\u001b[0m\u001b[1;33m)\u001b[0m\u001b[1;33m:\u001b[0m\u001b[1;33m\u001b[0m\u001b[1;33m\u001b[0m\u001b[0m\n",
      "\u001b[1;32m~\\anaconda3\\lib\\site-packages\\pandas\\core\\algorithms.py\u001b[0m in \u001b[0;36mcompute\u001b[1;34m(self, method)\u001b[0m\n\u001b[0;32m   1293\u001b[0m \u001b[1;33m\u001b[0m\u001b[0m\n\u001b[0;32m   1294\u001b[0m         \u001b[1;32mfor\u001b[0m \u001b[0mcolumn\u001b[0m \u001b[1;32min\u001b[0m \u001b[0mcolumns\u001b[0m\u001b[1;33m:\u001b[0m\u001b[1;33m\u001b[0m\u001b[1;33m\u001b[0m\u001b[0m\n\u001b[1;32m-> 1295\u001b[1;33m             \u001b[0mdtype\u001b[0m \u001b[1;33m=\u001b[0m \u001b[0mframe\u001b[0m\u001b[1;33m[\u001b[0m\u001b[0mcolumn\u001b[0m\u001b[1;33m]\u001b[0m\u001b[1;33m.\u001b[0m\u001b[0mdtype\u001b[0m\u001b[1;33m\u001b[0m\u001b[1;33m\u001b[0m\u001b[0m\n\u001b[0m\u001b[0;32m   1296\u001b[0m             \u001b[1;32mif\u001b[0m \u001b[1;32mnot\u001b[0m \u001b[0mself\u001b[0m\u001b[1;33m.\u001b[0m\u001b[0mis_valid_dtype_n_method\u001b[0m\u001b[1;33m(\u001b[0m\u001b[0mdtype\u001b[0m\u001b[1;33m)\u001b[0m\u001b[1;33m:\u001b[0m\u001b[1;33m\u001b[0m\u001b[1;33m\u001b[0m\u001b[0m\n\u001b[0;32m   1297\u001b[0m                 raise TypeError(\n",
      "\u001b[1;32m~\\anaconda3\\lib\\site-packages\\pandas\\core\\frame.py\u001b[0m in \u001b[0;36m__getitem__\u001b[1;34m(self, key)\u001b[0m\n\u001b[0;32m   3022\u001b[0m             \u001b[1;32mif\u001b[0m \u001b[0mself\u001b[0m\u001b[1;33m.\u001b[0m\u001b[0mcolumns\u001b[0m\u001b[1;33m.\u001b[0m\u001b[0mnlevels\u001b[0m \u001b[1;33m>\u001b[0m \u001b[1;36m1\u001b[0m\u001b[1;33m:\u001b[0m\u001b[1;33m\u001b[0m\u001b[1;33m\u001b[0m\u001b[0m\n\u001b[0;32m   3023\u001b[0m                 \u001b[1;32mreturn\u001b[0m \u001b[0mself\u001b[0m\u001b[1;33m.\u001b[0m\u001b[0m_getitem_multilevel\u001b[0m\u001b[1;33m(\u001b[0m\u001b[0mkey\u001b[0m\u001b[1;33m)\u001b[0m\u001b[1;33m\u001b[0m\u001b[1;33m\u001b[0m\u001b[0m\n\u001b[1;32m-> 3024\u001b[1;33m             \u001b[0mindexer\u001b[0m \u001b[1;33m=\u001b[0m \u001b[0mself\u001b[0m\u001b[1;33m.\u001b[0m\u001b[0mcolumns\u001b[0m\u001b[1;33m.\u001b[0m\u001b[0mget_loc\u001b[0m\u001b[1;33m(\u001b[0m\u001b[0mkey\u001b[0m\u001b[1;33m)\u001b[0m\u001b[1;33m\u001b[0m\u001b[1;33m\u001b[0m\u001b[0m\n\u001b[0m\u001b[0;32m   3025\u001b[0m             \u001b[1;32mif\u001b[0m \u001b[0mis_integer\u001b[0m\u001b[1;33m(\u001b[0m\u001b[0mindexer\u001b[0m\u001b[1;33m)\u001b[0m\u001b[1;33m:\u001b[0m\u001b[1;33m\u001b[0m\u001b[1;33m\u001b[0m\u001b[0m\n\u001b[0;32m   3026\u001b[0m                 \u001b[0mindexer\u001b[0m \u001b[1;33m=\u001b[0m \u001b[1;33m[\u001b[0m\u001b[0mindexer\u001b[0m\u001b[1;33m]\u001b[0m\u001b[1;33m\u001b[0m\u001b[1;33m\u001b[0m\u001b[0m\n",
      "\u001b[1;32m~\\anaconda3\\lib\\site-packages\\pandas\\core\\indexes\\base.py\u001b[0m in \u001b[0;36mget_loc\u001b[1;34m(self, key, method, tolerance)\u001b[0m\n\u001b[0;32m   3080\u001b[0m                 \u001b[1;32mreturn\u001b[0m \u001b[0mself\u001b[0m\u001b[1;33m.\u001b[0m\u001b[0m_engine\u001b[0m\u001b[1;33m.\u001b[0m\u001b[0mget_loc\u001b[0m\u001b[1;33m(\u001b[0m\u001b[0mcasted_key\u001b[0m\u001b[1;33m)\u001b[0m\u001b[1;33m\u001b[0m\u001b[1;33m\u001b[0m\u001b[0m\n\u001b[0;32m   3081\u001b[0m             \u001b[1;32mexcept\u001b[0m \u001b[0mKeyError\u001b[0m \u001b[1;32mas\u001b[0m \u001b[0merr\u001b[0m\u001b[1;33m:\u001b[0m\u001b[1;33m\u001b[0m\u001b[1;33m\u001b[0m\u001b[0m\n\u001b[1;32m-> 3082\u001b[1;33m                 \u001b[1;32mraise\u001b[0m \u001b[0mKeyError\u001b[0m\u001b[1;33m(\u001b[0m\u001b[0mkey\u001b[0m\u001b[1;33m)\u001b[0m \u001b[1;32mfrom\u001b[0m \u001b[0merr\u001b[0m\u001b[1;33m\u001b[0m\u001b[1;33m\u001b[0m\u001b[0m\n\u001b[0m\u001b[0;32m   3083\u001b[0m \u001b[1;33m\u001b[0m\u001b[0m\n\u001b[0;32m   3084\u001b[0m         \u001b[1;32mif\u001b[0m \u001b[0mtolerance\u001b[0m \u001b[1;32mis\u001b[0m \u001b[1;32mnot\u001b[0m \u001b[1;32mNone\u001b[0m\u001b[1;33m:\u001b[0m\u001b[1;33m\u001b[0m\u001b[1;33m\u001b[0m\u001b[0m\n",
      "\u001b[1;31mKeyError\u001b[0m: 'TotalCases'"
     ]
    }
   ],
   "source": [
    "\n",
    "countriesDF.nlargest(20, 'TotalCases').plot(x='Country', y='TotalCases', kind = 'bar')\n",
    "plt.pyplot.show()"
   ]
  },
  {
   "cell_type": "markdown",
   "metadata": {},
   "source": [
    "\n",
    "### Financial Data\n",
    "\n",
    "Yahoo Finance maintains a history of stock prices, and there are handfulls of APIs to gain access.    We'll use a simple one from RapidAPI. [YH Finance API](https://rapidapi.com/apidojo/api/yh-finance/) to explore some stock price trends.\n",
    "\n",
    "Tesla is a hot stock these days.  Let's grabs its' historical data, convert it to a Pandas dataframe, and plot it.\n",
    "\n",
    "Now, this API requires a set of parameters in the call.   We create those as a `querystring` dictionary, and pass them along using the `params=` parameter to our `request.request` call.\n"
   ]
  },
  {
   "cell_type": "code",
   "execution_count": 26,
   "metadata": {},
   "outputs": [],
   "source": [
    "\n",
    "url = \"https://yh-finance.p.rapidapi.com/stock/v3/get-historical-data\"    # Our endpoint\n",
    "\n",
    "querystring = {\"symbol\":\"TSLA\",\"region\":\"US\"}    # the required parameter -- the trading symbol and region\n",
    "\n",
    "headers = {\n",
    "    'x-rapidapi-host': \"yh-finance.p.rapidapi.com\",\n",
    "    'x-rapidapi-key': \"3621a7164emshf38578146b0bafcp16cd08jsnb41129369b33\"   # Again, you amy need to update this key\n",
    "    }\n",
    "\n",
    "response = requests.request(\"GET\", url, headers=headers, params=querystring)\n"
   ]
  },
  {
   "cell_type": "code",
   "execution_count": 27,
   "metadata": {},
   "outputs": [],
   "source": [
    "stockdata = response.json()"
   ]
  },
  {
   "cell_type": "code",
   "execution_count": 28,
   "metadata": {},
   "outputs": [
    {
     "name": "stdout",
     "output_type": "stream",
     "text": [
      "<class 'dict'>\n"
     ]
    }
   ],
   "source": [
    "print(type(stockdata))"
   ]
  },
  {
   "cell_type": "code",
   "execution_count": 29,
   "metadata": {},
   "outputs": [
    {
     "name": "stdout",
     "output_type": "stream",
     "text": [
      "{'prices': [{'date': 1638541800, 'open': 1084.7900390625, 'high': 1090.5799560546875, 'low': 1000.2100219726562, 'close': 1014.969970703125, 'volume': 30696300, 'adjclose': 1014.969970703125}, {'date': 1638455400, 'open': 1099.06005859375, 'high': 1113, 'low': 1056.6500244140625, 'close': 1084.5999755859375, 'volume': 24371600, 'adjclose': 1084.5999755859375}, {'date': 1638369000, 'open': 1160.699951171875, 'high': 1172.8399658203125, 'low': 1090.760009765625, 'close': 1095, 'volume': 22816800, 'adjclose': 1095}, {'date': 1638282600, 'open': 1144.3699951171875, 'high': 1168, 'low': 1118, 'close': 1144.760009765625, 'volume': 27092000, 'adjclose': 1144.760009765625}, {'date': 1638196200, 'open': 1100.989990234375, 'high': 1142.6700439453125, 'low': 1100.18994140625, 'close': 1136.989990234375, 'volume': 19464500, 'adjclose': 1136.989990234375}, {'date': 1637937000, 'open': 1099.469970703125, 'high': 1108.780029296875, 'low': 1081, 'close': 1081.9200439453125, 'volume': 11680900, 'adjclose': 1081.9200439453125}, {'date': 1637764200, 'open': 1080.3900146484375, 'high': 1132.77001953125, 'low': 1062, 'close': 1116, 'volume': 22560200, 'adjclose': 1116}, {'date': 1637677800, 'open': 1167.510009765625, 'high': 1180.5, 'low': 1062.699951171875, 'close': 1109.030029296875, 'volume': 36171700, 'adjclose': 1109.030029296875}, {'date': 1637591400, 'open': 1162.3299560546875, 'high': 1201.949951171875, 'low': 1132.4300537109375, 'close': 1156.8699951171875, 'volume': 33072500, 'adjclose': 1156.8699951171875}, {'date': 1637332200, 'open': 1098.8699951171875, 'high': 1138.719970703125, 'low': 1092.699951171875, 'close': 1137.06005859375, 'volume': 21642300, 'adjclose': 1137.06005859375}, {'date': 1637245800, 'open': 1106.550048828125, 'high': 1112, 'low': 1075.02001953125, 'close': 1096.3800048828125, 'volume': 20898900, 'adjclose': 1096.3800048828125}, {'date': 1637159400, 'open': 1063.510009765625, 'high': 1119.6400146484375, 'low': 1055.5, 'close': 1089.010009765625, 'volume': 31445400, 'adjclose': 1089.010009765625}, {'date': 1637073000, 'open': 1003.3099975585938, 'high': 1057.199951171875, 'low': 1002.1799926757812, 'close': 1054.72998046875, 'volume': 26542400, 'adjclose': 1054.72998046875}, {'date': 1636986600, 'open': 1017.6300048828125, 'high': 1031.97998046875, 'low': 978.5999755859375, 'close': 1013.3900146484375, 'volume': 34775600, 'adjclose': 1013.3900146484375}, {'date': 1636727400, 'open': 1047.5, 'high': 1054.5, 'low': 1019.2000122070312, 'close': 1033.4200439453125, 'volume': 25182300, 'adjclose': 1033.4200439453125}, {'date': 1636641000, 'open': 1102.77001953125, 'high': 1104.969970703125, 'low': 1054.6800537109375, 'close': 1063.510009765625, 'volume': 22396600, 'adjclose': 1063.510009765625}, {'date': 1636554600, 'open': 1010.4099731445312, 'high': 1078.0999755859375, 'low': 987.3099975585938, 'close': 1067.949951171875, 'volume': 42802700, 'adjclose': 1067.949951171875}, {'date': 1636468200, 'open': 1173.5999755859375, 'high': 1174.5, 'low': 1011.52001953125, 'close': 1023.5, 'volume': 59105800, 'adjclose': 1023.5}, {'date': 1636381800, 'open': 1149.7900390625, 'high': 1197, 'low': 1133, 'close': 1162.93994140625, 'volume': 33445700, 'adjclose': 1162.93994140625}, {'date': 1636119000, 'open': 1228, 'high': 1239.8699951171875, 'low': 1208, 'close': 1222.0899658203125, 'volume': 21579900, 'adjclose': 1222.0899658203125}, {'date': 1636032600, 'open': 1234.4100341796875, 'high': 1243.489990234375, 'low': 1217, 'close': 1229.9100341796875, 'volume': 25397400, 'adjclose': 1229.9100341796875}, {'date': 1635946200, 'open': 1177.3299560546875, 'high': 1215.3900146484375, 'low': 1152.6199951171875, 'close': 1213.8599853515625, 'volume': 34628500, 'adjclose': 1213.8599853515625}, {'date': 1635859800, 'open': 1159.3599853515625, 'high': 1208.5899658203125, 'low': 1146, 'close': 1172, 'volume': 42737800, 'adjclose': 1172}, {'date': 1635773400, 'open': 1145, 'high': 1209.75, 'low': 1118.6600341796875, 'close': 1208.5899658203125, 'volume': 56048700, 'adjclose': 1208.5899658203125}, {'date': 1635514200, 'open': 1081.8599853515625, 'high': 1115.2099609375, 'low': 1073.2099609375, 'close': 1114, 'volume': 29918400, 'adjclose': 1114}, {'date': 1635427800, 'open': 1068.31005859375, 'high': 1081, 'low': 1054.199951171875, 'close': 1077.0400390625, 'volume': 27213200, 'adjclose': 1077.0400390625}, {'date': 1635341400, 'open': 1039.6600341796875, 'high': 1070.8800048828125, 'low': 1030.780029296875, 'close': 1037.8599853515625, 'volume': 38526500, 'adjclose': 1037.8599853515625}, {'date': 1635255000, 'open': 1024.68994140625, 'high': 1094.93994140625, 'low': 1001.4400024414062, 'close': 1018.4299926757812, 'volume': 62415000, 'adjclose': 1018.4299926757812}, {'date': 1635168600, 'open': 950.530029296875, 'high': 1045.02001953125, 'low': 944.2000122070312, 'close': 1024.8599853515625, 'volume': 62852100, 'adjclose': 1024.8599853515625}, {'date': 1634909400, 'open': 895.5, 'high': 910, 'low': 890.9600219726562, 'close': 909.6799926757812, 'volume': 22880800, 'adjclose': 909.6799926757812}, {'date': 1634823000, 'open': 856, 'high': 900, 'low': 855.5, 'close': 894, 'volume': 31481500, 'adjclose': 894}, {'date': 1634736600, 'open': 865.3499755859375, 'high': 869.489990234375, 'low': 857.3800048828125, 'close': 865.7999877929688, 'volume': 14032100, 'adjclose': 865.7999877929688}, {'date': 1634650200, 'open': 877.530029296875, 'high': 877.9500122070312, 'low': 862.510009765625, 'close': 864.27001953125, 'volume': 17381100, 'adjclose': 864.27001953125}, {'date': 1634563800, 'open': 851.7899780273438, 'high': 875.260009765625, 'low': 851.469970703125, 'close': 870.1099853515625, 'volume': 24207200, 'adjclose': 870.1099853515625}, {'date': 1634304600, 'open': 823.739990234375, 'high': 843.2100219726562, 'low': 822.3499755859375, 'close': 843.030029296875, 'volume': 18818000, 'adjclose': 843.030029296875}, {'date': 1634218200, 'open': 815.489990234375, 'high': 820.25, 'low': 813.3499755859375, 'close': 818.3200073242188, 'volume': 12247200, 'adjclose': 818.3200073242188}, {'date': 1634131800, 'open': 810.469970703125, 'high': 815.4099731445312, 'low': 805.780029296875, 'close': 811.0800170898438, 'volume': 14120100, 'adjclose': 811.0800170898438}, {'date': 1634045400, 'open': 800.9299926757812, 'high': 812.3200073242188, 'low': 796.5700073242188, 'close': 805.719970703125, 'volume': 22020000, 'adjclose': 805.719970703125}, {'date': 1633959000, 'open': 787.6500244140625, 'high': 801.239990234375, 'low': 785.5, 'close': 791.9400024414062, 'volume': 14200300, 'adjclose': 791.9400024414062}, {'date': 1633699800, 'open': 796.2100219726562, 'high': 796.3800048828125, 'low': 780.9099731445312, 'close': 785.489990234375, 'volume': 16711100, 'adjclose': 785.489990234375}, {'date': 1633613400, 'open': 785.4600219726562, 'high': 805, 'low': 783.3800048828125, 'close': 793.6099853515625, 'volume': 19195800, 'adjclose': 793.6099853515625}, {'date': 1633527000, 'open': 776.2000122070312, 'high': 786.6599731445312, 'low': 773.219970703125, 'close': 782.75, 'volume': 14632800, 'adjclose': 782.75}, {'date': 1633440600, 'open': 784.7999877929688, 'high': 797.3099975585938, 'low': 774.2000122070312, 'close': 780.5900268554688, 'volume': 18432600, 'adjclose': 780.5900268554688}, {'date': 1633354200, 'open': 796.5, 'high': 806.969970703125, 'low': 776.1199951171875, 'close': 781.530029296875, 'volume': 30483300, 'adjclose': 781.530029296875}, {'date': 1633095000, 'open': 778.4000244140625, 'high': 780.780029296875, 'low': 763.5900268554688, 'close': 775.219970703125, 'volume': 17031400, 'adjclose': 775.219970703125}, {'date': 1633008600, 'open': 781, 'high': 789.1300048828125, 'low': 775, 'close': 775.47998046875, 'volume': 17956000, 'adjclose': 775.47998046875}, {'date': 1632922200, 'open': 779.7999877929688, 'high': 793.5, 'low': 770.6799926757812, 'close': 781.3099975585938, 'volume': 20942900, 'adjclose': 781.3099975585938}, {'date': 1632835800, 'open': 787.2000122070312, 'high': 795.6400146484375, 'low': 766.1799926757812, 'close': 777.5599975585938, 'volume': 25381400, 'adjclose': 777.5599975585938}, {'date': 1632749400, 'open': 773.1199951171875, 'high': 799, 'low': 769.3099975585938, 'close': 791.3599853515625, 'volume': 28070700, 'adjclose': 791.3599853515625}, {'date': 1632490200, 'open': 745.8900146484375, 'high': 774.7999877929688, 'low': 744.5599975585938, 'close': 774.3900146484375, 'volume': 21373000, 'adjclose': 774.3900146484375}, {'date': 1632403800, 'open': 755, 'high': 758.2000122070312, 'low': 747.9199829101562, 'close': 753.6400146484375, 'volume': 11947500, 'adjclose': 753.6400146484375}, {'date': 1632317400, 'open': 743.530029296875, 'high': 753.6699829101562, 'low': 739.1199951171875, 'close': 751.9400024414062, 'volume': 15126300, 'adjclose': 751.9400024414062}, {'date': 1632231000, 'open': 734.7899780273438, 'high': 744.739990234375, 'low': 730.4400024414062, 'close': 739.3800048828125, 'volume': 16330700, 'adjclose': 739.3800048828125}, {'date': 1632144600, 'open': 734.5599975585938, 'high': 742, 'low': 718.6199951171875, 'close': 730.1699829101562, 'volume': 24757700, 'adjclose': 730.1699829101562}, {'date': 1631885400, 'open': 757.1500244140625, 'high': 761.0399780273438, 'low': 750, 'close': 759.489990234375, 'volume': 28204200, 'adjclose': 759.489990234375}, {'date': 1631799000, 'open': 752.8300170898438, 'high': 758.9099731445312, 'low': 747.6099853515625, 'close': 756.989990234375, 'volume': 13923400, 'adjclose': 756.989990234375}, {'date': 1631712600, 'open': 745, 'high': 756.8599853515625, 'low': 738.3599853515625, 'close': 755.8300170898438, 'volume': 15357700, 'adjclose': 755.8300170898438}, {'date': 1631626200, 'open': 742.5700073242188, 'high': 754.469970703125, 'low': 736.4000244140625, 'close': 744.489990234375, 'volume': 18524900, 'adjclose': 744.489990234375}, {'date': 1631539800, 'open': 740.2100219726562, 'high': 744.780029296875, 'low': 708.8499755859375, 'close': 743, 'volume': 22952500, 'adjclose': 743}, {'date': 1631280600, 'open': 759.5999755859375, 'high': 762.6099853515625, 'low': 734.52001953125, 'close': 736.27001953125, 'volume': 15114300, 'adjclose': 736.27001953125}, {'date': 1631194200, 'open': 753.4099731445312, 'high': 762.0999755859375, 'low': 751.6300048828125, 'close': 754.8599853515625, 'volume': 14077700, 'adjclose': 754.8599853515625}, {'date': 1631107800, 'open': 761.5800170898438, 'high': 764.4500122070312, 'low': 740.77001953125, 'close': 753.8699951171875, 'volume': 18793000, 'adjclose': 753.8699951171875}, {'date': 1631021400, 'open': 740, 'high': 760.2000122070312, 'low': 739.260009765625, 'close': 752.9199829101562, 'volume': 20039800, 'adjclose': 752.9199829101562}, {'date': 1630675800, 'open': 732.25, 'high': 734, 'low': 724.2000122070312, 'close': 733.5700073242188, 'volume': 15246100, 'adjclose': 733.5700073242188}, {'date': 1630589400, 'open': 734.5, 'high': 740.969970703125, 'low': 730.5399780273438, 'close': 732.3900146484375, 'volume': 12777300, 'adjclose': 732.3900146484375}, {'date': 1630503000, 'open': 734.0800170898438, 'high': 741.989990234375, 'low': 731.27001953125, 'close': 734.0900268554688, 'volume': 13204300, 'adjclose': 734.0900268554688}, {'date': 1630416600, 'open': 733, 'high': 740.3900146484375, 'low': 726.4400024414062, 'close': 735.719970703125, 'volume': 20855400, 'adjclose': 735.719970703125}, {'date': 1630330200, 'open': 714.719970703125, 'high': 731, 'low': 712.72998046875, 'close': 730.9099731445312, 'volume': 18604200, 'adjclose': 730.9099731445312}, {'date': 1630071000, 'open': 705, 'high': 715, 'low': 702.0999755859375, 'close': 711.9199829101562, 'volume': 13762100, 'adjclose': 711.9199829101562}, {'date': 1629984600, 'open': 708.3099975585938, 'high': 715.4000244140625, 'low': 697.6199951171875, 'close': 701.1599731445312, 'volume': 13214300, 'adjclose': 701.1599731445312}, {'date': 1629898200, 'open': 707.030029296875, 'high': 716.969970703125, 'low': 704, 'close': 711.2000122070312, 'volume': 12645600, 'adjclose': 711.2000122070312}, {'date': 1629811800, 'open': 710.6799926757812, 'high': 715.219970703125, 'low': 702.6400146484375, 'close': 708.489990234375, 'volume': 13083100, 'adjclose': 708.489990234375}, {'date': 1629725400, 'open': 685.4400024414062, 'high': 712.1300048828125, 'low': 680.75, 'close': 706.2999877929688, 'volume': 20264900, 'adjclose': 706.2999877929688}, {'date': 1629466200, 'open': 682.8499755859375, 'high': 692.1300048828125, 'low': 673.7000122070312, 'close': 680.260009765625, 'volume': 14781800, 'adjclose': 680.260009765625}, {'date': 1629379800, 'open': 678.2100219726562, 'high': 686.5499877929688, 'low': 667.5900268554688, 'close': 673.469970703125, 'volume': 14313500, 'adjclose': 673.469970703125}, {'date': 1629293400, 'open': 669.75, 'high': 695.77001953125, 'low': 669.3499755859375, 'close': 688.989990234375, 'volume': 20349400, 'adjclose': 688.989990234375}, {'date': 1629207000, 'open': 672.6599731445312, 'high': 674.5800170898438, 'low': 648.8400268554688, 'close': 665.7100219726562, 'volume': 23721300, 'adjclose': 665.7100219726562}, {'date': 1629120600, 'open': 705.0700073242188, 'high': 709.5, 'low': 676.4000244140625, 'close': 686.1699829101562, 'volume': 22677400, 'adjclose': 686.1699829101562}, {'date': 1628861400, 'open': 723.7100219726562, 'high': 729.9000244140625, 'low': 714.3400268554688, 'close': 717.1699829101562, 'volume': 16698900, 'adjclose': 717.1699829101562}, {'date': 1628775000, 'open': 706.3400268554688, 'high': 722.7999877929688, 'low': 699.4000244140625, 'close': 722.25, 'volume': 17459100, 'adjclose': 722.25}, {'date': 1628688600, 'open': 712.7100219726562, 'high': 715.1799926757812, 'low': 704.2100219726562, 'close': 707.8200073242188, 'volume': 9800600, 'adjclose': 707.8200073242188}, {'date': 1628602200, 'open': 713.989990234375, 'high': 716.5900268554688, 'low': 701.8800048828125, 'close': 709.989990234375, 'volume': 13432300, 'adjclose': 709.989990234375}, {'date': 1628515800, 'open': 710.1699829101562, 'high': 719.030029296875, 'low': 705.1300048828125, 'close': 713.760009765625, 'volume': 14715300, 'adjclose': 713.760009765625}, {'date': 1628256600, 'open': 711.9000244140625, 'high': 716.3300170898438, 'low': 697.6300048828125, 'close': 699.0999755859375, 'volume': 15576200, 'adjclose': 699.0999755859375}, {'date': 1628170200, 'open': 716, 'high': 720.9500122070312, 'low': 711.4099731445312, 'close': 714.6300048828125, 'volume': 12919600, 'adjclose': 714.6300048828125}, {'date': 1628083800, 'open': 711, 'high': 724.9000244140625, 'low': 708.9299926757812, 'close': 710.9199829101562, 'volume': 17002600, 'adjclose': 710.9199829101562}, {'date': 1627997400, 'open': 719, 'high': 722.6500244140625, 'low': 701.010009765625, 'close': 709.739990234375, 'volume': 21620300, 'adjclose': 709.739990234375}, {'date': 1627911000, 'open': 700, 'high': 726.9400024414062, 'low': 698.4000244140625, 'close': 709.6699829101562, 'volume': 33615800, 'adjclose': 709.6699829101562}, {'date': 1627651800, 'open': 671.760009765625, 'high': 697.530029296875, 'low': 669, 'close': 687.2000122070312, 'volume': 29600500, 'adjclose': 687.2000122070312}, {'date': 1627565400, 'open': 649.7899780273438, 'high': 683.6900024414062, 'low': 648.7999877929688, 'close': 677.3499755859375, 'volume': 30394600, 'adjclose': 677.3499755859375}, {'date': 1627479000, 'open': 647, 'high': 654.969970703125, 'low': 639.4000244140625, 'close': 646.97998046875, 'volume': 16006600, 'adjclose': 646.97998046875}, {'date': 1627392600, 'open': 663.4000244140625, 'high': 666.5, 'low': 627.239990234375, 'close': 644.780029296875, 'volume': 32813300, 'adjclose': 644.780029296875}, {'date': 1627306200, 'open': 650.969970703125, 'high': 668.2000122070312, 'low': 647.1099853515625, 'close': 657.6199951171875, 'volume': 25336600, 'adjclose': 657.6199951171875}, {'date': 1627047000, 'open': 646.3599853515625, 'high': 648.7999877929688, 'low': 637.2999877929688, 'close': 643.3800048828125, 'volume': 14604900, 'adjclose': 643.3800048828125}, {'date': 1626960600, 'open': 656.4400024414062, 'high': 662.1699829101562, 'low': 644.5999755859375, 'close': 649.260009765625, 'volume': 15105700, 'adjclose': 649.260009765625}, {'date': 1626874200, 'open': 659.6099853515625, 'high': 664.8599853515625, 'low': 650.2899780273438, 'close': 655.2899780273438, 'volume': 13953300, 'adjclose': 655.2899780273438}, {'date': 1626787800, 'open': 651.989990234375, 'high': 662.3900146484375, 'low': 640.5, 'close': 660.5, 'volume': 15487100, 'adjclose': 660.5}, {'date': 1626701400, 'open': 629.8900146484375, 'high': 647.2000122070312, 'low': 621.2899780273438, 'close': 646.219970703125, 'volume': 21297100, 'adjclose': 646.219970703125}, {'date': 1626442200, 'open': 654.6799926757812, 'high': 656.7000122070312, 'low': 642.2000122070312, 'close': 644.219970703125, 'volume': 16371000, 'adjclose': 644.219970703125}, {'date': 1626355800, 'open': 658.3900146484375, 'high': 666.1400146484375, 'low': 637.8800048828125, 'close': 650.5999755859375, 'volume': 20209600, 'adjclose': 650.5999755859375}, {'date': 1626269400, 'open': 670.75, 'high': 678.6099853515625, 'low': 652.8400268554688, 'close': 653.3800048828125, 'volume': 21641200, 'adjclose': 653.3800048828125}, {'date': 1626183000, 'open': 686.3200073242188, 'high': 693.280029296875, 'low': 666.2999877929688, 'close': 668.5399780273438, 'volume': 20966100, 'adjclose': 668.5399780273438}, {'date': 1626096600, 'open': 662.2000122070312, 'high': 687.239990234375, 'low': 662.1599731445312, 'close': 685.7000122070312, 'volume': 25927000, 'adjclose': 685.7000122070312}, {'date': 1625837400, 'open': 653.1799926757812, 'high': 658.9099731445312, 'low': 644.6900024414062, 'close': 656.9500122070312, 'volume': 18140500, 'adjclose': 656.9500122070312}, {'date': 1625751000, 'open': 628.3699951171875, 'high': 654.4299926757812, 'low': 620.4600219726562, 'close': 652.8099975585938, 'volume': 22773300, 'adjclose': 652.8099975585938}, {'date': 1625664600, 'open': 664.27001953125, 'high': 665.7000122070312, 'low': 638.3200073242188, 'close': 644.6500244140625, 'volume': 18792000, 'adjclose': 644.6500244140625}, {'date': 1625578200, 'open': 681.7100219726562, 'high': 684, 'low': 651.4000244140625, 'close': 659.5800170898438, 'volume': 23284500, 'adjclose': 659.5800170898438}, {'date': 1625232600, 'open': 678.97998046875, 'high': 700, 'low': 673.260009765625, 'close': 678.9000244140625, 'volume': 27054500, 'adjclose': 678.9000244140625}, {'date': 1625146200, 'open': 683.9199829101562, 'high': 687.989990234375, 'low': 672.7999877929688, 'close': 677.9199829101562, 'volume': 18634500, 'adjclose': 677.9199829101562}, {'date': 1625059800, 'open': 679.77001953125, 'high': 692.8099975585938, 'low': 678.1400146484375, 'close': 679.7000122070312, 'volume': 18924900, 'adjclose': 679.7000122070312}, {'date': 1624973400, 'open': 684.6500244140625, 'high': 687.510009765625, 'low': 675.8900146484375, 'close': 680.760009765625, 'volume': 17381300, 'adjclose': 680.760009765625}, {'date': 1624887000, 'open': 671.6400146484375, 'high': 694.7000122070312, 'low': 670.3200073242188, 'close': 688.719970703125, 'volume': 21628200, 'adjclose': 688.719970703125}, {'date': 1624627800, 'open': 689.5800170898438, 'high': 693.8099975585938, 'low': 668.7000122070312, 'close': 671.8699951171875, 'volume': 32496700, 'adjclose': 671.8699951171875}, {'date': 1624541400, 'open': 674.989990234375, 'high': 697.6199951171875, 'low': 667.6099853515625, 'close': 679.8200073242188, 'volume': 45982400, 'adjclose': 679.8200073242188}, {'date': 1624455000, 'open': 632, 'high': 657.2000122070312, 'low': 630.0399780273438, 'close': 656.5700073242188, 'volume': 31099200, 'adjclose': 656.5700073242188}, {'date': 1624368600, 'open': 618.25, 'high': 628.5700073242188, 'low': 615.5, 'close': 623.7100219726562, 'volume': 19158900, 'adjclose': 623.7100219726562}, {'date': 1624282200, 'open': 624.47998046875, 'high': 631.3900146484375, 'low': 608.8800048828125, 'close': 620.8300170898438, 'volume': 24812700, 'adjclose': 620.8300170898438}, {'date': 1624023000, 'open': 613.3699951171875, 'high': 628.3499755859375, 'low': 611.7999877929688, 'close': 623.3099975585938, 'volume': 24560900, 'adjclose': 623.3099975585938}, {'date': 1623936600, 'open': 601.8900146484375, 'high': 621.469970703125, 'low': 601.3400268554688, 'close': 616.5999755859375, 'volume': 22701400, 'adjclose': 616.5999755859375}, {'date': 1623850200, 'open': 597.5399780273438, 'high': 608.5, 'low': 593.5, 'close': 604.8699951171875, 'volume': 22144100, 'adjclose': 604.8699951171875}, {'date': 1623763800, 'open': 616.6900024414062, 'high': 616.7899780273438, 'low': 598.22998046875, 'close': 599.3599853515625, 'volume': 17764100, 'adjclose': 599.3599853515625}, {'date': 1623677400, 'open': 612.22998046875, 'high': 625.489990234375, 'low': 609.1799926757812, 'close': 617.6900024414062, 'volume': 20424000, 'adjclose': 617.6900024414062}, {'date': 1623418200, 'open': 610.22998046875, 'high': 612.5599975585938, 'low': 601.52001953125, 'close': 609.8900146484375, 'volume': 16205300, 'adjclose': 609.8900146484375}, {'date': 1623331800, 'open': 603.8800048828125, 'high': 616.5900268554688, 'low': 600.5, 'close': 610.1199951171875, 'volume': 23919600, 'adjclose': 610.1199951171875}, {'date': 1623245400, 'open': 602.1699829101562, 'high': 611.7899780273438, 'low': 597.6300048828125, 'close': 598.780029296875, 'volume': 16584600, 'adjclose': 598.780029296875}, {'date': 1623159000, 'open': 623.010009765625, 'high': 623.0900268554688, 'low': 595.5, 'close': 603.5900268554688, 'volume': 26053400, 'adjclose': 603.5900268554688}, {'date': 1623072600, 'open': 591.8300170898438, 'high': 610, 'low': 582.8800048828125, 'close': 605.1300048828125, 'volume': 22543700, 'adjclose': 605.1300048828125}, {'date': 1622813400, 'open': 579.7100219726562, 'high': 600.6099853515625, 'low': 577.2000122070312, 'close': 599.0499877929688, 'volume': 24036900, 'adjclose': 599.0499877929688}, {'date': 1622727000, 'open': 601.7999877929688, 'high': 604.5499877929688, 'low': 571.219970703125, 'close': 572.8400268554688, 'volume': 30111900, 'adjclose': 572.8400268554688}, {'date': 1622640600, 'open': 620.1300048828125, 'high': 623.3599853515625, 'low': 599.1400146484375, 'close': 605.1199951171875, 'volume': 23302800, 'adjclose': 605.1199951171875}, {'date': 1622554200, 'open': 627.7999877929688, 'high': 633.7999877929688, 'low': 620.5499877929688, 'close': 623.9000244140625, 'volume': 18084900, 'adjclose': 623.9000244140625}, {'date': 1622208600, 'open': 628.5, 'high': 635.5900268554688, 'low': 622.3800048828125, 'close': 625.219970703125, 'volume': 22737000, 'adjclose': 625.219970703125}, {'date': 1622122200, 'open': 620.239990234375, 'high': 631.1300048828125, 'low': 616.2100219726562, 'close': 630.8499755859375, 'volume': 26370600, 'adjclose': 630.8499755859375}, {'date': 1622035800, 'open': 607.5599975585938, 'high': 626.1699829101562, 'low': 601.5, 'close': 619.1300048828125, 'volume': 28639300, 'adjclose': 619.1300048828125}, {'date': 1621949400, 'open': 607.3099975585938, 'high': 613.989990234375, 'low': 595.7100219726562, 'close': 604.6900024414062, 'volume': 28005900, 'adjclose': 604.6900024414062}, {'date': 1621863000, 'open': 581.5999755859375, 'high': 614.47998046875, 'low': 573.6500244140625, 'close': 606.4400024414062, 'volume': 34558100, 'adjclose': 606.4400024414062}, {'date': 1621603800, 'open': 596.1099853515625, 'high': 596.6799926757812, 'low': 580, 'close': 580.8800048828125, 'volume': 26030600, 'adjclose': 580.8800048828125}, {'date': 1621517400, 'open': 575, 'high': 588.8499755859375, 'low': 571.0700073242188, 'close': 586.780029296875, 'volume': 30821100, 'adjclose': 586.780029296875}, {'date': 1621431000, 'open': 552.5499877929688, 'high': 566.2100219726562, 'low': 546.97998046875, 'close': 563.4600219726562, 'volume': 39578400, 'adjclose': 563.4600219726562}, {'date': 1621344600, 'open': 568, 'high': 596.25, 'low': 563.3800048828125, 'close': 577.8699951171875, 'volume': 36830600, 'adjclose': 577.8699951171875}, {'date': 1621258200, 'open': 575.5499877929688, 'high': 589.72998046875, 'low': 561.2000122070312, 'close': 576.8300170898438, 'volume': 32390400, 'adjclose': 576.8300170898438}, {'date': 1620999000, 'open': 583.4099731445312, 'high': 592.8699951171875, 'low': 570.4600219726562, 'close': 589.739990234375, 'volume': 33370900, 'adjclose': 589.739990234375}, {'date': 1620912600, 'open': 601.5399780273438, 'high': 606.4600219726562, 'low': 559.6500244140625, 'close': 571.6900024414062, 'volume': 44184900, 'adjclose': 571.6900024414062}, {'date': 1620826200, 'open': 602.489990234375, 'high': 620.4099731445312, 'low': 586.77001953125, 'close': 589.8900146484375, 'volume': 33823600, 'adjclose': 589.8900146484375}, {'date': 1620739800, 'open': 599.239990234375, 'high': 627.0999755859375, 'low': 595.5999755859375, 'close': 617.2000122070312, 'volume': 46503900, 'adjclose': 617.2000122070312}, {'date': 1620653400, 'open': 664.9000244140625, 'high': 665.0499877929688, 'low': 627.6099853515625, 'close': 629.0399780273438, 'volume': 31392400, 'adjclose': 629.0399780273438}, {'date': 1620394200, 'open': 665.7999877929688, 'high': 690, 'low': 660.219970703125, 'close': 672.3699951171875, 'volume': 23469200, 'adjclose': 672.3699951171875}, {'date': 1620307800, 'open': 680.760009765625, 'high': 681.02001953125, 'low': 650, 'close': 663.5399780273438, 'volume': 27784600, 'adjclose': 663.5399780273438}, {'date': 1620221400, 'open': 681.0599975585938, 'high': 685.2999877929688, 'low': 667.3400268554688, 'close': 670.9400024414062, 'volume': 21901900, 'adjclose': 670.9400024414062}, {'date': 1620135000, 'open': 678.9400024414062, 'high': 683.4500122070312, 'low': 657.7000122070312, 'close': 673.5999755859375, 'volume': 29739300, 'adjclose': 673.5999755859375}, {'date': 1620048600, 'open': 703.7999877929688, 'high': 706, 'low': 680.5, 'close': 684.9000244140625, 'volume': 27043100, 'adjclose': 684.9000244140625}, {'date': 1619789400, 'open': 667.5900268554688, 'high': 715.469970703125, 'low': 666.1400146484375, 'close': 709.4400024414062, 'volume': 40758700, 'adjclose': 709.4400024414062}, {'date': 1619703000, 'open': 699.510009765625, 'high': 702.25, 'low': 668.5, 'close': 677, 'volume': 28845400, 'adjclose': 677}, {'date': 1619616600, 'open': 696.4099731445312, 'high': 708.5, 'low': 693.5999755859375, 'close': 694.4000244140625, 'volume': 22271000, 'adjclose': 694.4000244140625}, {'date': 1619530200, 'open': 717.9600219726562, 'high': 724, 'low': 703.3499755859375, 'close': 704.739990234375, 'volume': 29437000, 'adjclose': 704.739990234375}, {'date': 1619443800, 'open': 741, 'high': 749.2999877929688, 'low': 732.6099853515625, 'close': 738.2000122070312, 'volume': 31038500, 'adjclose': 738.2000122070312}, {'date': 1619184600, 'open': 719.7999877929688, 'high': 737.3599853515625, 'low': 715.4600219726562, 'close': 729.4000244140625, 'volume': 28370000, 'adjclose': 729.4000244140625}, {'date': 1619098200, 'open': 741.5, 'high': 753.77001953125, 'low': 718.0399780273438, 'close': 719.6900024414062, 'volume': 35590300, 'adjclose': 719.6900024414062}, {'date': 1619011800, 'open': 704.77001953125, 'high': 744.8400268554688, 'low': 698, 'close': 744.1199951171875, 'volume': 31215500, 'adjclose': 744.1199951171875}, {'date': 1618925400, 'open': 717.4199829101562, 'high': 737.25, 'low': 710.6900024414062, 'close': 718.989990234375, 'volume': 35609000, 'adjclose': 718.989990234375}, {'date': 1618839000, 'open': 719.5999755859375, 'high': 725.4000244140625, 'low': 691.7999877929688, 'close': 714.6300048828125, 'volume': 39686200, 'adjclose': 714.6300048828125}, {'date': 1618579800, 'open': 728.6500244140625, 'high': 749.4099731445312, 'low': 724.5999755859375, 'close': 739.780029296875, 'volume': 27979500, 'adjclose': 739.780029296875}, {'date': 1618493400, 'open': 743.0999755859375, 'high': 743.6900024414062, 'low': 721.3099975585938, 'close': 738.8499755859375, 'volume': 27848900, 'adjclose': 738.8499755859375}, {'date': 1618407000, 'open': 770.7000122070312, 'high': 780.7899780273438, 'low': 728.030029296875, 'close': 732.22998046875, 'volume': 49017400, 'adjclose': 732.22998046875}, {'date': 1618320600, 'open': 712.7000122070312, 'high': 763, 'low': 710.6599731445312, 'close': 762.3200073242188, 'volume': 44652800, 'adjclose': 762.3200073242188}, {'date': 1618234200, 'open': 685.7000122070312, 'high': 704.7999877929688, 'low': 682.0900268554688, 'close': 701.97998046875, 'volume': 29135700, 'adjclose': 701.97998046875}, {'date': 1617975000, 'open': 677.77001953125, 'high': 680.969970703125, 'low': 669.4299926757812, 'close': 677.02001953125, 'volume': 21437100, 'adjclose': 677.02001953125}, {'date': 1617888600, 'open': 677.3800048828125, 'high': 689.5499877929688, 'low': 671.6500244140625, 'close': 683.7999877929688, 'volume': 23924300, 'adjclose': 683.7999877929688}, {'date': 1617802200, 'open': 687, 'high': 691.3800048828125, 'low': 667.8400268554688, 'close': 670.969970703125, 'volume': 26309400, 'adjclose': 670.969970703125}, {'date': 1617715800, 'open': 690.2999877929688, 'high': 696.5499877929688, 'low': 681.3699951171875, 'close': 691.6199951171875, 'volume': 28271800, 'adjclose': 691.6199951171875}, {'date': 1617629400, 'open': 707.7100219726562, 'high': 708.1599731445312, 'low': 684.7000122070312, 'close': 691.0499877929688, 'volume': 41842800, 'adjclose': 691.0499877929688}, {'date': 1617283800, 'open': 688.3699951171875, 'high': 692.4199829101562, 'low': 659.4199829101562, 'close': 661.75, 'volume': 35298400, 'adjclose': 661.75}, {'date': 1617197400, 'open': 646.6199951171875, 'high': 672, 'low': 641.1099853515625, 'close': 667.9299926757812, 'volume': 33337300, 'adjclose': 667.9299926757812}, {'date': 1617111000, 'open': 601.75, 'high': 637.6599731445312, 'low': 591.010009765625, 'close': 635.6199951171875, 'volume': 39432400, 'adjclose': 635.6199951171875}, {'date': 1617024600, 'open': 615.6400146484375, 'high': 616.47998046875, 'low': 596.02001953125, 'close': 611.2899780273438, 'volume': 28637000, 'adjclose': 611.2899780273438}, {'date': 1616765400, 'open': 641.8699951171875, 'high': 643.8200073242188, 'low': 599.8900146484375, 'close': 618.7100219726562, 'volume': 33852800, 'adjclose': 618.7100219726562}, {'date': 1616679000, 'open': 613, 'high': 645.5, 'low': 609.5, 'close': 640.3900146484375, 'volume': 39224900, 'adjclose': 640.3900146484375}, {'date': 1616592600, 'open': 667.9099731445312, 'high': 668.02001953125, 'low': 630.1099853515625, 'close': 630.27001953125, 'volume': 33795200, 'adjclose': 630.27001953125}, {'date': 1616506200, 'open': 675.77001953125, 'high': 677.7999877929688, 'low': 657.510009765625, 'close': 662.1599731445312, 'volume': 30491900, 'adjclose': 662.1599731445312}, {'date': 1616419800, 'open': 684.5900268554688, 'high': 699.6199951171875, 'low': 668.75, 'close': 670, 'volume': 39512200, 'adjclose': 670}, {'date': 1616160600, 'open': 646.5999755859375, 'high': 657.22998046875, 'low': 624.6199951171875, 'close': 654.8699951171875, 'volume': 42894000, 'adjclose': 654.8699951171875}, {'date': 1616074200, 'open': 684.2899780273438, 'high': 689.22998046875, 'low': 652, 'close': 653.1599731445312, 'volume': 33224800, 'adjclose': 653.1599731445312}, {'date': 1615987800, 'open': 656.8699951171875, 'high': 703.72998046875, 'low': 651.010009765625, 'close': 701.8099975585938, 'volume': 40372500, 'adjclose': 701.8099975585938}, {'date': 1615901400, 'open': 703.3499755859375, 'high': 707.9199829101562, 'low': 671, 'close': 676.8800048828125, 'volume': 32195700, 'adjclose': 676.8800048828125}, {'date': 1615815000, 'open': 694.0900268554688, 'high': 713.1799926757812, 'low': 684.0399780273438, 'close': 707.9400024414062, 'volume': 29335600, 'adjclose': 707.9400024414062}, {'date': 1615559400, 'open': 670, 'high': 694.8800048828125, 'low': 666.1400146484375, 'close': 693.72998046875, 'volume': 33583800, 'adjclose': 693.72998046875}, {'date': 1615473000, 'open': 699.4000244140625, 'high': 702.5, 'low': 677.1799926757812, 'close': 699.5999755859375, 'volume': 36253900, 'adjclose': 699.5999755859375}, {'date': 1615386600, 'open': 700.2999877929688, 'high': 717.8499755859375, 'low': 655.0599975585938, 'close': 668.0599975585938, 'volume': 60605700, 'adjclose': 668.0599975585938}, {'date': 1615300200, 'open': 608.1799926757812, 'high': 678.0900268554688, 'low': 595.2100219726562, 'close': 673.5800170898438, 'volume': 67523300, 'adjclose': 673.5800170898438}, {'date': 1615213800, 'open': 600.5499877929688, 'high': 620.1300048828125, 'low': 558.7899780273438, 'close': 563, 'volume': 51787000, 'adjclose': 563}, {'date': 1614954600, 'open': 626.0599975585938, 'high': 627.8400268554688, 'low': 539.489990234375, 'close': 597.9500122070312, 'volume': 89396500, 'adjclose': 597.9500122070312}, {'date': 1614868200, 'open': 655.7999877929688, 'high': 668.4500122070312, 'low': 600, 'close': 621.4400024414062, 'volume': 65919500, 'adjclose': 621.4400024414062}, {'date': 1614781800, 'open': 687.989990234375, 'high': 700.7000122070312, 'low': 651.7100219726562, 'close': 653.2000122070312, 'volume': 30208000, 'adjclose': 653.2000122070312}, {'date': 1614695400, 'open': 718.280029296875, 'high': 721.1099853515625, 'low': 685, 'close': 686.4400024414062, 'volume': 23732200, 'adjclose': 686.4400024414062}, {'date': 1614609000, 'open': 690.1099853515625, 'high': 719, 'low': 685.0499877929688, 'close': 718.4299926757812, 'volume': 27136200, 'adjclose': 718.4299926757812}, {'date': 1614349800, 'open': 700, 'high': 706.7000122070312, 'low': 659.510009765625, 'close': 675.5, 'volume': 41089200, 'adjclose': 675.5}, {'date': 1614263400, 'open': 726.1500244140625, 'high': 737.2100219726562, 'low': 670.5800170898438, 'close': 682.219970703125, 'volume': 39023900, 'adjclose': 682.219970703125}, {'date': 1614177000, 'open': 711.8499755859375, 'high': 745, 'low': 694.1699829101562, 'close': 742.02001953125, 'volume': 36767000, 'adjclose': 742.02001953125}, {'date': 1614090600, 'open': 662.1300048828125, 'high': 713.6099853515625, 'low': 619, 'close': 698.8400268554688, 'volume': 66606900, 'adjclose': 698.8400268554688}, {'date': 1614004200, 'open': 762.6400146484375, 'high': 768.5, 'low': 710.2000122070312, 'close': 714.5, 'volume': 37269700, 'adjclose': 714.5}, {'date': 1613745000, 'open': 795, 'high': 796.7899780273438, 'low': 777.3699951171875, 'close': 781.2999877929688, 'volume': 18958300, 'adjclose': 781.2999877929688}, {'date': 1613658600, 'open': 780.9000244140625, 'high': 794.6900024414062, 'low': 776.27001953125, 'close': 787.3800048828125, 'volume': 17957100, 'adjclose': 787.3800048828125}, {'date': 1613572200, 'open': 779.0900268554688, 'high': 799.8400268554688, 'low': 762.010009765625, 'close': 798.1500244140625, 'volume': 25996500, 'adjclose': 798.1500244140625}, {'date': 1613485800, 'open': 818, 'high': 821, 'low': 792.4400024414062, 'close': 796.219970703125, 'volume': 19802300, 'adjclose': 796.219970703125}, {'date': 1613140200, 'open': 801.260009765625, 'high': 817.3300170898438, 'low': 785.3300170898438, 'close': 816.1199951171875, 'volume': 23768300, 'adjclose': 816.1199951171875}, {'date': 1613053800, 'open': 812.4400024414062, 'high': 829.8800048828125, 'low': 801.72998046875, 'close': 811.6599731445312, 'volume': 21622800, 'adjclose': 811.6599731445312}, {'date': 1612967400, 'open': 843.6400146484375, 'high': 844.8200073242188, 'low': 800.02001953125, 'close': 804.8200073242188, 'volume': 36216100, 'adjclose': 804.8200073242188}, {'date': 1612881000, 'open': 855.1199951171875, 'high': 859.7999877929688, 'low': 841.75, 'close': 849.4600219726562, 'volume': 15157700, 'adjclose': 849.4600219726562}, {'date': 1612794600, 'open': 869.6699829101562, 'high': 877.77001953125, 'low': 854.75, 'close': 863.4199829101562, 'volume': 20161700, 'adjclose': 863.4199829101562}, {'date': 1612535400, 'open': 845, 'high': 864.77001953125, 'low': 838.969970703125, 'close': 852.22998046875, 'volume': 18566600, 'adjclose': 852.22998046875}, {'date': 1612449000, 'open': 855, 'high': 856.5, 'low': 833.4199829101562, 'close': 849.989990234375, 'volume': 15812700, 'adjclose': 849.989990234375}, {'date': 1612362600, 'open': 877.02001953125, 'high': 878.0800170898438, 'low': 853.0599975585938, 'close': 854.6900024414062, 'volume': 18343500, 'adjclose': 854.6900024414062}, {'date': 1612276200, 'open': 844.6799926757812, 'high': 880.5, 'low': 842.2000122070312, 'close': 872.7899780273438, 'volume': 24346200, 'adjclose': 872.7899780273438}, {'date': 1612189800, 'open': 814.2899780273438, 'high': 842, 'low': 795.5599975585938, 'close': 839.8099975585938, 'volume': 25391400, 'adjclose': 839.8099975585938}, {'date': 1611930600, 'open': 830, 'high': 842.4099731445312, 'low': 780.0999755859375, 'close': 793.530029296875, 'volume': 34990800, 'adjclose': 793.530029296875}, {'date': 1611844200, 'open': 820, 'high': 848, 'low': 801, 'close': 835.4299926757812, 'volume': 26378000, 'adjclose': 835.4299926757812}, {'date': 1611757800, 'open': 870.3499755859375, 'high': 891.5, 'low': 858.6599731445312, 'close': 864.1599731445312, 'volume': 27334000, 'adjclose': 864.1599731445312}, {'date': 1611671400, 'open': 891.3800048828125, 'high': 895.9000244140625, 'low': 871.5999755859375, 'close': 883.0900268554688, 'volume': 23131600, 'adjclose': 883.0900268554688}, {'date': 1611585000, 'open': 855, 'high': 900.4000244140625, 'low': 838.8200073242188, 'close': 880.7999877929688, 'volume': 41173400, 'adjclose': 880.7999877929688}, {'date': 1611325800, 'open': 834.3099975585938, 'high': 848, 'low': 828.6199951171875, 'close': 846.6400146484375, 'volume': 20066500, 'adjclose': 846.6400146484375}, {'date': 1611239400, 'open': 855, 'high': 855.719970703125, 'low': 841.4199829101562, 'close': 844.989990234375, 'volume': 20521100, 'adjclose': 844.989990234375}, {'date': 1611153000, 'open': 858.739990234375, 'high': 859.5, 'low': 837.280029296875, 'close': 850.4500122070312, 'volume': 25665900, 'adjclose': 850.4500122070312}, {'date': 1611066600, 'open': 837.7999877929688, 'high': 850, 'low': 833, 'close': 844.5499877929688, 'volume': 25367000, 'adjclose': 844.5499877929688}, {'date': 1610721000, 'open': 852, 'high': 859.9000244140625, 'low': 819.0999755859375, 'close': 826.1599731445312, 'volume': 38777600, 'adjclose': 826.1599731445312}, {'date': 1610634600, 'open': 843.3900146484375, 'high': 863, 'low': 838.75, 'close': 845, 'volume': 31266300, 'adjclose': 845}, {'date': 1610548200, 'open': 852.760009765625, 'high': 860.469970703125, 'low': 832, 'close': 854.4099731445312, 'volume': 33312500, 'adjclose': 854.4099731445312}, {'date': 1610461800, 'open': 831, 'high': 868, 'low': 827.3400268554688, 'close': 849.4400024414062, 'volume': 46270700, 'adjclose': 849.4400024414062}, {'date': 1610375400, 'open': 849.4000244140625, 'high': 854.4299926757812, 'low': 803.6199951171875, 'close': 811.1900024414062, 'volume': 59301600, 'adjclose': 811.1900024414062}, {'date': 1610116200, 'open': 856, 'high': 884.489990234375, 'low': 838.3900146484375, 'close': 880.02001953125, 'volume': 75055500, 'adjclose': 880.02001953125}, {'date': 1610029800, 'open': 777.6300048828125, 'high': 816.989990234375, 'low': 775.2000122070312, 'close': 816.0399780273438, 'volume': 51498900, 'adjclose': 816.0399780273438}, {'date': 1609943400, 'open': 758.489990234375, 'high': 774, 'low': 749.0999755859375, 'close': 755.97998046875, 'volume': 44700000, 'adjclose': 755.97998046875}, {'date': 1609857000, 'open': 723.6599731445312, 'high': 740.8400268554688, 'low': 719.2000122070312, 'close': 735.1099853515625, 'volume': 32245200, 'adjclose': 735.1099853515625}, {'date': 1609770600, 'open': 719.4600219726562, 'high': 744.489990234375, 'low': 717.1900024414062, 'close': 729.77001953125, 'volume': 48638200, 'adjclose': 729.77001953125}, {'date': 1609425000, 'open': 699.989990234375, 'high': 718.719970703125, 'low': 691.1199951171875, 'close': 705.6699829101562, 'volume': 49649900, 'adjclose': 705.6699829101562}, {'date': 1609338600, 'open': 672, 'high': 696.5999755859375, 'low': 668.3599853515625, 'close': 694.780029296875, 'volume': 42846000, 'adjclose': 694.780029296875}, {'date': 1609252200, 'open': 661, 'high': 669.9000244140625, 'low': 655, 'close': 665.989990234375, 'volume': 22910800, 'adjclose': 665.989990234375}, {'date': 1609165800, 'open': 674.510009765625, 'high': 681.4000244140625, 'low': 660.7999877929688, 'close': 663.6900024414062, 'volume': 32278600, 'adjclose': 663.6900024414062}, {'date': 1608820200, 'open': 642.989990234375, 'high': 666.0900268554688, 'low': 641, 'close': 661.77001953125, 'volume': 22865600, 'adjclose': 661.77001953125}, {'date': 1608733800, 'open': 632.2000122070312, 'high': 651.5, 'low': 622.5700073242188, 'close': 645.97998046875, 'volume': 33173000, 'adjclose': 645.97998046875}, {'date': 1608647400, 'open': 648, 'high': 649.8800048828125, 'low': 614.22998046875, 'close': 640.3400268554688, 'volume': 51716000, 'adjclose': 640.3400268554688}, {'date': 1608561000, 'open': 666.239990234375, 'high': 668.5, 'low': 646.0700073242188, 'close': 649.8599853515625, 'volume': 58045300, 'adjclose': 649.8599853515625}, {'date': 1608301800, 'open': 668.9000244140625, 'high': 695, 'low': 628.5399780273438, 'close': 695, 'volume': 222126200, 'adjclose': 695}, {'date': 1608215400, 'open': 628.1900024414062, 'high': 658.8200073242188, 'low': 619.5, 'close': 655.9000244140625, 'volume': 56270100, 'adjclose': 655.9000244140625}, {'date': 1608129000, 'open': 628.22998046875, 'high': 632.5, 'low': 605, 'close': 622.77001953125, 'volume': 42095800, 'adjclose': 622.77001953125}, {'date': 1608042600, 'open': 643.280029296875, 'high': 646.9000244140625, 'low': 623.7999877929688, 'close': 633.25, 'volume': 45071500, 'adjclose': 633.25}, {'date': 1607956200, 'open': 619, 'high': 642.75, 'low': 610.2000122070312, 'close': 639.8300170898438, 'volume': 52040600, 'adjclose': 639.8300170898438}, {'date': 1607697000, 'open': 615.010009765625, 'high': 624, 'low': 596.7999877929688, 'close': 609.989990234375, 'volume': 46475000, 'adjclose': 609.989990234375}, {'date': 1607610600, 'open': 574.3699951171875, 'high': 627.75, 'low': 566.3400268554688, 'close': 627.0700073242188, 'volume': 67083200, 'adjclose': 627.0700073242188}, {'date': 1607524200, 'open': 653.6900024414062, 'high': 654.3200073242188, 'low': 588, 'close': 604.47998046875, 'volume': 71291200, 'adjclose': 604.47998046875}, {'date': 1607437800, 'open': 625.510009765625, 'high': 651.280029296875, 'low': 618.5, 'close': 649.8800048828125, 'volume': 64265000, 'adjclose': 649.8800048828125}, {'date': 1607351400, 'open': 604.9199829101562, 'high': 648.7899780273438, 'low': 603.0499877929688, 'close': 641.760009765625, 'volume': 56309700, 'adjclose': 641.760009765625}, {'date': 1607092200, 'open': 591.010009765625, 'high': 599.0399780273438, 'low': 585.5, 'close': 599.0399780273438, 'volume': 29401300, 'adjclose': 599.0399780273438}], 'isPending': False, 'firstTradeDate': 1277818200, 'id': '', 'timeZone': {'gmtOffset': -18000}, 'eventsData': []}\n"
     ]
    }
   ],
   "source": [
    "print(stockdata)"
   ]
  },
  {
   "cell_type": "markdown",
   "metadata": {},
   "source": [
    "\n",
    "OK, looks like the dictionary key `prices` has the table of data we want.   Let's convert it to a Pandas dataframe."
   ]
  },
  {
   "cell_type": "code",
   "execution_count": 30,
   "metadata": {},
   "outputs": [],
   "source": [
    "stockprice = pd.DataFrame(stockdata['prices'])"
   ]
  },
  {
   "cell_type": "code",
   "execution_count": 31,
   "metadata": {},
   "outputs": [
    {
     "data": {
      "text/html": [
       "<div>\n",
       "<style scoped>\n",
       "    .dataframe tbody tr th:only-of-type {\n",
       "        vertical-align: middle;\n",
       "    }\n",
       "\n",
       "    .dataframe tbody tr th {\n",
       "        vertical-align: top;\n",
       "    }\n",
       "\n",
       "    .dataframe thead th {\n",
       "        text-align: right;\n",
       "    }\n",
       "</style>\n",
       "<table border=\"1\" class=\"dataframe\">\n",
       "  <thead>\n",
       "    <tr style=\"text-align: right;\">\n",
       "      <th></th>\n",
       "      <th>date</th>\n",
       "      <th>open</th>\n",
       "      <th>high</th>\n",
       "      <th>low</th>\n",
       "      <th>close</th>\n",
       "      <th>volume</th>\n",
       "      <th>adjclose</th>\n",
       "    </tr>\n",
       "  </thead>\n",
       "  <tbody>\n",
       "    <tr>\n",
       "      <th>0</th>\n",
       "      <td>1638541800</td>\n",
       "      <td>1084.790039</td>\n",
       "      <td>1090.579956</td>\n",
       "      <td>1000.210022</td>\n",
       "      <td>1014.969971</td>\n",
       "      <td>30696300</td>\n",
       "      <td>1014.969971</td>\n",
       "    </tr>\n",
       "    <tr>\n",
       "      <th>1</th>\n",
       "      <td>1638455400</td>\n",
       "      <td>1099.060059</td>\n",
       "      <td>1113.000000</td>\n",
       "      <td>1056.650024</td>\n",
       "      <td>1084.599976</td>\n",
       "      <td>24371600</td>\n",
       "      <td>1084.599976</td>\n",
       "    </tr>\n",
       "    <tr>\n",
       "      <th>2</th>\n",
       "      <td>1638369000</td>\n",
       "      <td>1160.699951</td>\n",
       "      <td>1172.839966</td>\n",
       "      <td>1090.760010</td>\n",
       "      <td>1095.000000</td>\n",
       "      <td>22816800</td>\n",
       "      <td>1095.000000</td>\n",
       "    </tr>\n",
       "    <tr>\n",
       "      <th>3</th>\n",
       "      <td>1638282600</td>\n",
       "      <td>1144.369995</td>\n",
       "      <td>1168.000000</td>\n",
       "      <td>1118.000000</td>\n",
       "      <td>1144.760010</td>\n",
       "      <td>27092000</td>\n",
       "      <td>1144.760010</td>\n",
       "    </tr>\n",
       "    <tr>\n",
       "      <th>4</th>\n",
       "      <td>1638196200</td>\n",
       "      <td>1100.989990</td>\n",
       "      <td>1142.670044</td>\n",
       "      <td>1100.189941</td>\n",
       "      <td>1136.989990</td>\n",
       "      <td>19464500</td>\n",
       "      <td>1136.989990</td>\n",
       "    </tr>\n",
       "  </tbody>\n",
       "</table>\n",
       "</div>"
      ],
      "text/plain": [
       "         date         open         high          low        close    volume  \\\n",
       "0  1638541800  1084.790039  1090.579956  1000.210022  1014.969971  30696300   \n",
       "1  1638455400  1099.060059  1113.000000  1056.650024  1084.599976  24371600   \n",
       "2  1638369000  1160.699951  1172.839966  1090.760010  1095.000000  22816800   \n",
       "3  1638282600  1144.369995  1168.000000  1118.000000  1144.760010  27092000   \n",
       "4  1638196200  1100.989990  1142.670044  1100.189941  1136.989990  19464500   \n",
       "\n",
       "      adjclose  \n",
       "0  1014.969971  \n",
       "1  1084.599976  \n",
       "2  1095.000000  \n",
       "3  1144.760010  \n",
       "4  1136.989990  "
      ]
     },
     "execution_count": 31,
     "metadata": {},
     "output_type": "execute_result"
    }
   ],
   "source": [
    "stockprice.head()"
   ]
  },
  {
   "cell_type": "markdown",
   "metadata": {},
   "source": [
    "\n",
    "The date field is a number?   Actually, it's a timestamp, and Pandas knows how to convert that to a meaningful date."
   ]
  },
  {
   "cell_type": "code",
   "execution_count": 32,
   "metadata": {},
   "outputs": [],
   "source": [
    "stockprice['date'] = pd.to_datetime(stockprice['date'], unit='s')    # convert to date/time"
   ]
  },
  {
   "cell_type": "code",
   "execution_count": 33,
   "metadata": {},
   "outputs": [
    {
     "data": {
      "text/html": [
       "<div>\n",
       "<style scoped>\n",
       "    .dataframe tbody tr th:only-of-type {\n",
       "        vertical-align: middle;\n",
       "    }\n",
       "\n",
       "    .dataframe tbody tr th {\n",
       "        vertical-align: top;\n",
       "    }\n",
       "\n",
       "    .dataframe thead th {\n",
       "        text-align: right;\n",
       "    }\n",
       "</style>\n",
       "<table border=\"1\" class=\"dataframe\">\n",
       "  <thead>\n",
       "    <tr style=\"text-align: right;\">\n",
       "      <th></th>\n",
       "      <th>date</th>\n",
       "      <th>open</th>\n",
       "      <th>high</th>\n",
       "      <th>low</th>\n",
       "      <th>close</th>\n",
       "      <th>volume</th>\n",
       "      <th>adjclose</th>\n",
       "    </tr>\n",
       "  </thead>\n",
       "  <tbody>\n",
       "    <tr>\n",
       "      <th>0</th>\n",
       "      <td>2021-12-03 14:30:00</td>\n",
       "      <td>1084.790039</td>\n",
       "      <td>1090.579956</td>\n",
       "      <td>1000.210022</td>\n",
       "      <td>1014.969971</td>\n",
       "      <td>30696300</td>\n",
       "      <td>1014.969971</td>\n",
       "    </tr>\n",
       "    <tr>\n",
       "      <th>1</th>\n",
       "      <td>2021-12-02 14:30:00</td>\n",
       "      <td>1099.060059</td>\n",
       "      <td>1113.000000</td>\n",
       "      <td>1056.650024</td>\n",
       "      <td>1084.599976</td>\n",
       "      <td>24371600</td>\n",
       "      <td>1084.599976</td>\n",
       "    </tr>\n",
       "    <tr>\n",
       "      <th>2</th>\n",
       "      <td>2021-12-01 14:30:00</td>\n",
       "      <td>1160.699951</td>\n",
       "      <td>1172.839966</td>\n",
       "      <td>1090.760010</td>\n",
       "      <td>1095.000000</td>\n",
       "      <td>22816800</td>\n",
       "      <td>1095.000000</td>\n",
       "    </tr>\n",
       "    <tr>\n",
       "      <th>3</th>\n",
       "      <td>2021-11-30 14:30:00</td>\n",
       "      <td>1144.369995</td>\n",
       "      <td>1168.000000</td>\n",
       "      <td>1118.000000</td>\n",
       "      <td>1144.760010</td>\n",
       "      <td>27092000</td>\n",
       "      <td>1144.760010</td>\n",
       "    </tr>\n",
       "    <tr>\n",
       "      <th>4</th>\n",
       "      <td>2021-11-29 14:30:00</td>\n",
       "      <td>1100.989990</td>\n",
       "      <td>1142.670044</td>\n",
       "      <td>1100.189941</td>\n",
       "      <td>1136.989990</td>\n",
       "      <td>19464500</td>\n",
       "      <td>1136.989990</td>\n",
       "    </tr>\n",
       "  </tbody>\n",
       "</table>\n",
       "</div>"
      ],
      "text/plain": [
       "                 date         open         high          low        close  \\\n",
       "0 2021-12-03 14:30:00  1084.790039  1090.579956  1000.210022  1014.969971   \n",
       "1 2021-12-02 14:30:00  1099.060059  1113.000000  1056.650024  1084.599976   \n",
       "2 2021-12-01 14:30:00  1160.699951  1172.839966  1090.760010  1095.000000   \n",
       "3 2021-11-30 14:30:00  1144.369995  1168.000000  1118.000000  1144.760010   \n",
       "4 2021-11-29 14:30:00  1100.989990  1142.670044  1100.189941  1136.989990   \n",
       "\n",
       "     volume     adjclose  \n",
       "0  30696300  1014.969971  \n",
       "1  24371600  1084.599976  \n",
       "2  22816800  1095.000000  \n",
       "3  27092000  1144.760010  \n",
       "4  19464500  1136.989990  "
      ]
     },
     "execution_count": 33,
     "metadata": {},
     "output_type": "execute_result"
    }
   ],
   "source": [
    "stockprice.head()"
   ]
  },
  {
   "cell_type": "markdown",
   "metadata": {},
   "source": [
    "\n",
    "Better.  But if I want a daily trend I should drop the timestamp from the date.   \n"
   ]
  },
  {
   "cell_type": "code",
   "execution_count": 34,
   "metadata": {},
   "outputs": [],
   "source": [
    "stockprice['date'] =stockprice['date'].dt.date   # remove the timestamp so that we can chart the daily close"
   ]
  },
  {
   "cell_type": "code",
   "execution_count": 35,
   "metadata": {},
   "outputs": [
    {
     "data": {
      "text/html": [
       "<div>\n",
       "<style scoped>\n",
       "    .dataframe tbody tr th:only-of-type {\n",
       "        vertical-align: middle;\n",
       "    }\n",
       "\n",
       "    .dataframe tbody tr th {\n",
       "        vertical-align: top;\n",
       "    }\n",
       "\n",
       "    .dataframe thead th {\n",
       "        text-align: right;\n",
       "    }\n",
       "</style>\n",
       "<table border=\"1\" class=\"dataframe\">\n",
       "  <thead>\n",
       "    <tr style=\"text-align: right;\">\n",
       "      <th></th>\n",
       "      <th>date</th>\n",
       "      <th>open</th>\n",
       "      <th>high</th>\n",
       "      <th>low</th>\n",
       "      <th>close</th>\n",
       "      <th>volume</th>\n",
       "      <th>adjclose</th>\n",
       "    </tr>\n",
       "  </thead>\n",
       "  <tbody>\n",
       "    <tr>\n",
       "      <th>0</th>\n",
       "      <td>2021-12-03</td>\n",
       "      <td>1084.790039</td>\n",
       "      <td>1090.579956</td>\n",
       "      <td>1000.210022</td>\n",
       "      <td>1014.969971</td>\n",
       "      <td>30696300</td>\n",
       "      <td>1014.969971</td>\n",
       "    </tr>\n",
       "    <tr>\n",
       "      <th>1</th>\n",
       "      <td>2021-12-02</td>\n",
       "      <td>1099.060059</td>\n",
       "      <td>1113.000000</td>\n",
       "      <td>1056.650024</td>\n",
       "      <td>1084.599976</td>\n",
       "      <td>24371600</td>\n",
       "      <td>1084.599976</td>\n",
       "    </tr>\n",
       "    <tr>\n",
       "      <th>2</th>\n",
       "      <td>2021-12-01</td>\n",
       "      <td>1160.699951</td>\n",
       "      <td>1172.839966</td>\n",
       "      <td>1090.760010</td>\n",
       "      <td>1095.000000</td>\n",
       "      <td>22816800</td>\n",
       "      <td>1095.000000</td>\n",
       "    </tr>\n",
       "    <tr>\n",
       "      <th>3</th>\n",
       "      <td>2021-11-30</td>\n",
       "      <td>1144.369995</td>\n",
       "      <td>1168.000000</td>\n",
       "      <td>1118.000000</td>\n",
       "      <td>1144.760010</td>\n",
       "      <td>27092000</td>\n",
       "      <td>1144.760010</td>\n",
       "    </tr>\n",
       "    <tr>\n",
       "      <th>4</th>\n",
       "      <td>2021-11-29</td>\n",
       "      <td>1100.989990</td>\n",
       "      <td>1142.670044</td>\n",
       "      <td>1100.189941</td>\n",
       "      <td>1136.989990</td>\n",
       "      <td>19464500</td>\n",
       "      <td>1136.989990</td>\n",
       "    </tr>\n",
       "  </tbody>\n",
       "</table>\n",
       "</div>"
      ],
      "text/plain": [
       "         date         open         high          low        close    volume  \\\n",
       "0  2021-12-03  1084.790039  1090.579956  1000.210022  1014.969971  30696300   \n",
       "1  2021-12-02  1099.060059  1113.000000  1056.650024  1084.599976  24371600   \n",
       "2  2021-12-01  1160.699951  1172.839966  1090.760010  1095.000000  22816800   \n",
       "3  2021-11-30  1144.369995  1168.000000  1118.000000  1144.760010  27092000   \n",
       "4  2021-11-29  1100.989990  1142.670044  1100.189941  1136.989990  19464500   \n",
       "\n",
       "      adjclose  \n",
       "0  1014.969971  \n",
       "1  1084.599976  \n",
       "2  1095.000000  \n",
       "3  1144.760010  \n",
       "4  1136.989990  "
      ]
     },
     "execution_count": 35,
     "metadata": {},
     "output_type": "execute_result"
    }
   ],
   "source": [
    "stockprice.head()"
   ]
  },
  {
   "cell_type": "markdown",
   "metadata": {},
   "source": [
    "\n",
    "Nice.   Let's plot the data."
   ]
  },
  {
   "cell_type": "code",
   "execution_count": 36,
   "metadata": {},
   "outputs": [
    {
     "data": {
      "image/png": "[encoded data removed]",
      "text/plain": [
       "<Figure size 432x288 with 1 Axes>"
      ]
     },
     "metadata": {
      "needs_background": "light"
     },
     "output_type": "display_data"
    }
   ],
   "source": [
    "stockprice.plot(x='date', y='close', kind = 'line')\n",
    "plt.pyplot.show()"
   ]
  },
  {
   "cell_type": "markdown",
   "metadata": {},
   "source": [
    "\n",
    "I guess Tesla really has been on a roll!\n",
    "\n",
    "\n",
    "## Part 2, Independant Data Exploration\n",
    "\n",
    "OK, now that you've seen the basics, here's your chance to build an interesting REST call.  There are a fair number of useful sites out there -- healthcase data, govenment data, sports & entertainment, just about anything you can imagine.   There are even REST APIs which allow you to take advantage of remote functionality like image capture and joke generation. Here's a few sites worth checking out:\n",
    "\n",
    "- [RapidAPI](https://rapidapi.com/hub)\n",
    "- [100 Cool and Fun APIs](https://betterprogramming.pub/a-curated-list-of-100-cool-and-fun-public-apis-to-inspire-your-next-project-7600ce3e9b3)\n",
    "- [NASA APIs](https://api.nasa.gov/index.html)\n",
    "- [HealthIT.gov](https://www.healthit.gov/data/api)\n",
    "\n",
    "\n",
    "Your taks is to find a REST API you find interesting, build out the request, explore the response, and do something usefull with the resource returned.     Please be sure to embed any required key/credential in your notebook so that I may recreate your results.\n",
    "\n",
    "Be creative. And have fun!\n"
   ]
  },
  {
   "cell_type": "markdown",
   "metadata": {},
   "source": [
    "I've been wanting to take a look at warcraftlogs.com and their API for some time. Now that I know how I can finally do this."
   ]
  },
  {
   "cell_type": "code",
   "execution_count": 37,
   "metadata": {},
   "outputs": [],
   "source": [
    "\n",
    "#TODO Add you code starting here.  Add as many cells as you see fit, and use markdown cells to document what you have done\n",
    "\n",
    "url = \"https://www.warcraftlogs.com:443/v1/classes?api_key=9bcf27b6cdc01679a4f677e9a97a9cf6\"    \n",
    "\n",
    "headers = {\n",
    "    'x-warcraftlogs-host': \"warcraftlogs.com\",\n",
    "    'x-warcraftlogs-key': \"9bcf27b6cdc01679a4f677e9a97a9cf6\"   \n",
    "    }\n",
    "\n",
    "response = requests.request(\"GET\", url, headers=headers)"
   ]
  },
  {
   "cell_type": "code",
   "execution_count": 38,
   "metadata": {},
   "outputs": [
    {
     "name": "stdout",
     "output_type": "stream",
     "text": [
      "200\n"
     ]
    }
   ],
   "source": [
    "print(response.status_code)"
   ]
  },
  {
   "cell_type": "markdown",
   "metadata": {},
   "source": [
    "I wanted to do an easy response so I just pulled all of the specs that warcraft logs has on their website"
   ]
  },
  {
   "cell_type": "code",
   "execution_count": 39,
   "metadata": {},
   "outputs": [
    {
     "name": "stdout",
     "output_type": "stream",
     "text": [
      "[{'id': 1, 'name': 'Death Knight', 'specs': [{'id': 1, 'name': 'Blood'}, {'id': 2, 'name': 'Frost'}, {'id': 3, 'name': 'Unholy'}]}, {'id': 2, 'name': 'Druid', 'specs': [{'id': 1, 'name': 'Balance'}, {'id': 2, 'name': 'Feral'}, {'id': 3, 'name': 'Guardian'}, {'id': 4, 'name': 'Restoration'}]}, {'id': 3, 'name': 'Hunter', 'specs': [{'id': 1, 'name': 'Beast Mastery'}, {'id': 2, 'name': 'Marksmanship'}, {'id': 3, 'name': 'Survival'}]}, {'id': 4, 'name': 'Mage', 'specs': [{'id': 1, 'name': 'Arcane'}, {'id': 2, 'name': 'Fire'}, {'id': 3, 'name': 'Frost'}]}, {'id': 5, 'name': 'Monk', 'specs': [{'id': 1, 'name': 'Brewmaster'}, {'id': 2, 'name': 'Mistweaver'}, {'id': 3, 'name': 'Windwalker'}]}, {'id': 6, 'name': 'Paladin', 'specs': [{'id': 1, 'name': 'Holy'}, {'id': 2, 'name': 'Protection'}, {'id': 3, 'name': 'Retribution'}]}, {'id': 7, 'name': 'Priest', 'specs': [{'id': 1, 'name': 'Discipline'}, {'id': 2, 'name': 'Holy'}, {'id': 3, 'name': 'Shadow'}]}, {'id': 8, 'name': 'Rogue', 'specs': [{'id': 1, 'name': 'Assassination'}, {'id': 2, 'name': 'Combat'}, {'id': 3, 'name': 'Subtlety'}, {'id': 4, 'name': 'Outlaw'}]}, {'id': 9, 'name': 'Shaman', 'specs': [{'id': 1, 'name': 'Elemental'}, {'id': 2, 'name': 'Enhancement'}, {'id': 3, 'name': 'Restoration'}]}, {'id': 10, 'name': 'Warlock', 'specs': [{'id': 1, 'name': 'Affliction'}, {'id': 2, 'name': 'Demonology'}, {'id': 3, 'name': 'Destruction'}]}, {'id': 11, 'name': 'Warrior', 'specs': [{'id': 1, 'name': 'Arms'}, {'id': 2, 'name': 'Fury'}, {'id': 3, 'name': 'Protection'}, {'id': 4, 'name': 'Gladiator'}]}, {'id': 12, 'name': 'Demon Hunter', 'specs': [{'id': 1, 'name': 'Havoc'}, {'id': 2, 'name': 'Vengeance'}]}]\n"
     ]
    }
   ],
   "source": [
    "warcraftClasses = response.json()\n",
    "print(response.json())"
   ]
  },
  {
   "cell_type": "code",
   "execution_count": 40,
   "metadata": {},
   "outputs": [
    {
     "name": "stdout",
     "output_type": "stream",
     "text": [
      "<class 'list'>\n"
     ]
    }
   ],
   "source": [
    "print(type(warcraftClasses))"
   ]
  },
  {
   "cell_type": "markdown",
   "metadata": {},
   "source": [
    "It would seem I have gotten a list instead of a dictionary. This is unexpected."
   ]
  },
  {
   "cell_type": "code",
   "execution_count": 41,
   "metadata": {},
   "outputs": [
    {
     "name": "stdout",
     "output_type": "stream",
     "text": [
      "{'id': 1, 'name': 'Death Knight', 'specs': [{'id': 1, 'name': 'Blood'}, {'id': 2, 'name': 'Frost'}, {'id': 3, 'name': 'Unholy'}]}\n",
      "{'id': 2, 'name': 'Druid', 'specs': [{'id': 1, 'name': 'Balance'}, {'id': 2, 'name': 'Feral'}, {'id': 3, 'name': 'Guardian'}, {'id': 4, 'name': 'Restoration'}]}\n",
      "{'id': 3, 'name': 'Hunter', 'specs': [{'id': 1, 'name': 'Beast Mastery'}, {'id': 2, 'name': 'Marksmanship'}, {'id': 3, 'name': 'Survival'}]}\n",
      "{'id': 4, 'name': 'Mage', 'specs': [{'id': 1, 'name': 'Arcane'}, {'id': 2, 'name': 'Fire'}, {'id': 3, 'name': 'Frost'}]}\n",
      "{'id': 5, 'name': 'Monk', 'specs': [{'id': 1, 'name': 'Brewmaster'}, {'id': 2, 'name': 'Mistweaver'}, {'id': 3, 'name': 'Windwalker'}]}\n",
      "{'id': 6, 'name': 'Paladin', 'specs': [{'id': 1, 'name': 'Holy'}, {'id': 2, 'name': 'Protection'}, {'id': 3, 'name': 'Retribution'}]}\n",
      "{'id': 7, 'name': 'Priest', 'specs': [{'id': 1, 'name': 'Discipline'}, {'id': 2, 'name': 'Holy'}, {'id': 3, 'name': 'Shadow'}]}\n",
      "{'id': 8, 'name': 'Rogue', 'specs': [{'id': 1, 'name': 'Assassination'}, {'id': 2, 'name': 'Combat'}, {'id': 3, 'name': 'Subtlety'}, {'id': 4, 'name': 'Outlaw'}]}\n",
      "{'id': 9, 'name': 'Shaman', 'specs': [{'id': 1, 'name': 'Elemental'}, {'id': 2, 'name': 'Enhancement'}, {'id': 3, 'name': 'Restoration'}]}\n",
      "{'id': 10, 'name': 'Warlock', 'specs': [{'id': 1, 'name': 'Affliction'}, {'id': 2, 'name': 'Demonology'}, {'id': 3, 'name': 'Destruction'}]}\n",
      "{'id': 11, 'name': 'Warrior', 'specs': [{'id': 1, 'name': 'Arms'}, {'id': 2, 'name': 'Fury'}, {'id': 3, 'name': 'Protection'}, {'id': 4, 'name': 'Gladiator'}]}\n",
      "{'id': 12, 'name': 'Demon Hunter', 'specs': [{'id': 1, 'name': 'Havoc'}, {'id': 2, 'name': 'Vengeance'}]}\n"
     ]
    }
   ],
   "source": [
    "for key in warcraftClasses:\n",
    "    print(key)"
   ]
  },
  {
   "cell_type": "markdown",
   "metadata": {},
   "source": [
    "This lists each class and the specializations associated with each. Fun fact, \"Warrior\" does not have a \"Gladiator\" spec in-game."
   ]
  },
  {
   "cell_type": "markdown",
   "metadata": {},
   "source": [
    "There are options to see different \"zones\" which are basically different dungeons and raids that are logged. This request will show all possible ones to choose from such that I can look up rankings for a specific dungeon or raid."
   ]
  },
  {
   "cell_type": "code",
   "execution_count": 42,
   "metadata": {},
   "outputs": [],
   "source": [
    "url = \"https://www.warcraftlogs.com:443/v1/zones?api_key=9bcf27b6cdc01679a4f677e9a97a9cf6\"\n",
    "\n",
    "response = requests.request(\"GET\", url, headers=headers)"
   ]
  },
  {
   "cell_type": "code",
   "execution_count": 43,
   "metadata": {},
   "outputs": [
    {
     "name": "stdout",
     "output_type": "stream",
     "text": [
      "[{'id': 3, 'name': 'Challenge Modes', 'frozen': True, 'encounters': [{'id': 11182, 'name': 'Auchindoun'}, {'id': 11175, 'name': 'Bloodmaul Slag Mines'}, {'id': 11279, 'name': 'The Everbloom'}, {'id': 11208, 'name': 'Grimrail Depot'}, {'id': 11195, 'name': 'Iron Docks'}, {'id': 11176, 'name': 'Shadowmoon Burial Grounds'}, {'id': 11209, 'name': 'Skyreach'}, {'id': 11358, 'name': 'Upper Blackrock Spire'}], 'brackets': {'min': 6, 'max': 6.2, 'bucket': 0.1, 'type': 'Patch'}}, {'id': 4, 'name': 'Throne of Thunder', 'frozen': True, 'encounters': [{'id': 1577, 'name': \"Jin'rokh the Breaker\"}, {'id': 1575, 'name': 'Horridon'}, {'id': 1570, 'name': 'Council of Elders'}, {'id': 1565, 'name': 'Tortos'}, {'id': 1578, 'name': 'Megaera'}, {'id': 1573, 'name': 'Ji-Kun'}, {'id': 1572, 'name': 'Durumu the Forgotten'}, {'id': 1574, 'name': 'Primordius'}, {'id': 1576, 'name': 'Dark Animus'}, {'id': 1559, 'name': 'Iron Qon'}, {'id': 1560, 'name': 'Twin Consorts'}, {'id': 1579, 'name': 'Lei Shen'}, {'id': 1580, 'name': 'Ra-den'}], 'brackets': {'min': 0, 'max': 0, 'bucket': 1, 'type': 'Item Level'}}, {'id': 5, 'name': 'Siege of Orgrimmar', 'frozen': True, 'encounters': [{'id': 1602, 'name': 'Immerseus'}, {'id': 1598, 'name': 'Fallen Protectors'}, {'id': 1624, 'name': 'Norushen'}, {'id': 1604, 'name': 'Sha of Pride'}, {'id': 1622, 'name': 'Galakras'}, {'id': 1600, 'name': 'Iron Juggernaut'}, {'id': 1606, 'name': \"Kor'kron Dark Shaman\"}, {'id': 1603, 'name': 'General Nazgrim'}, {'id': 1595, 'name': 'Malkorok'}, {'id': 1594, 'name': 'Spoils of Pandaria'}, {'id': 1599, 'name': 'Thok the Bloodthirsty'}, {'id': 1601, 'name': 'Siegecrafter Blackfuse'}, {'id': 1593, 'name': 'Paragons of the Klaxxi'}, {'id': 1623, 'name': 'Garrosh Hellscream'}], 'brackets': {'min': 0, 'max': 0, 'bucket': 1, 'type': 'Item Level'}}, {'id': 6, 'name': 'Highmaul', 'frozen': True, 'encounters': [{'id': 1721, 'name': 'Kargath Bladefist'}, {'id': 1706, 'name': 'The Butcher'}, {'id': 1722, 'name': 'Tectus, The Living Mountain'}, {'id': 1720, 'name': 'Brackenspore'}, {'id': 1719, 'name': 'Twin Ogron'}, {'id': 1723, 'name': \"Ko'ragh\"}, {'id': 1705, 'name': \"Imperator Mar'gok\"}], 'brackets': {'min': 633, 'max': 693, 'bucket': 15, 'type': 'Item Level'}}, {'id': 7, 'name': 'Blackrock Foundry', 'frozen': True, 'encounters': [{'id': 1691, 'name': 'Gruul'}, {'id': 1696, 'name': 'Oregorger the Devourer'}, {'id': 1690, 'name': 'Blast Furnace'}, {'id': 1693, 'name': \"Hans'gar & Franzok\"}, {'id': 1689, 'name': \"Flamebender Ka'graz\"}, {'id': 1713, 'name': 'Kromog, Legend of the Mountain'}, {'id': 1694, 'name': 'Beastlord Darmac'}, {'id': 1692, 'name': 'Operator Thogar'}, {'id': 1695, 'name': 'The Iron Maidens'}, {'id': 1704, 'name': 'Blackhand'}], 'brackets': {'min': 650, 'max': 695, 'bucket': 15, 'sub_bucket': 8, 'type': 'Item Level'}}, {'id': 8, 'name': 'Hellfire Citadel', 'frozen': True, 'encounters': [{'id': 1778, 'name': 'Hellfire Assault'}, {'id': 1785, 'name': 'Iron Reaver'}, {'id': 1787, 'name': 'Kormrok'}, {'id': 1798, 'name': 'Hellfire High Council'}, {'id': 1786, 'name': 'Kilrogg Deadeye'}, {'id': 1783, 'name': 'Gorefiend'}, {'id': 1788, 'name': 'Shadow-Lord Iskar'}, {'id': 1777, 'name': 'Fel Lord Zakuun'}, {'id': 1800, 'name': \"Xhul'horac\"}, {'id': 1794, 'name': 'Socrethar the Eternal'}, {'id': 1784, 'name': 'Tyrant Velhari'}, {'id': 1795, 'name': 'Mannoroth'}, {'id': 1799, 'name': 'Archimonde'}], 'brackets': {'min': 682, 'max': 745, 'bucket': 3, 'type': 'Item Level'}, 'partitions': [{'name': '6.2', 'compact': '6.2', 'default': True}, {'name': '7.0.3', 'compact': '7.0.3'}]}, {'id': 9, 'name': 'Mythic+ Dungeons', 'frozen': True, 'encounters': [{'id': 11516, 'name': 'The Arcway'}, {'id': 11501, 'name': 'Black Rook Hold'}, {'id': 11571, 'name': 'Court of Stars'}, {'id': 11466, 'name': 'Darkheart Thicket'}, {'id': 11456, 'name': 'Eye of Azshara'}, {'id': 11477, 'name': 'Halls of Valor'}, {'id': 11492, 'name': 'Maw of Souls'}, {'id': 11458, 'name': \"Neltharion's Lair\"}, {'id': 11493, 'name': 'Vault of the Wardens'}, {'id': 11651, 'name': 'Lower Karazhan'}, {'id': 11652, 'name': 'Upper Karazhan'}, {'id': 11677, 'name': 'Cathedral of Eternal Night'}, {'id': 11753, 'name': 'Seat of the Triumvirate'}], 'brackets': {'min': 1, 'max': 40, 'bucket': 1, 'type': 'Keystone Level'}, 'partitions': [{'name': 'Season 1', 'compact': 'S1'}, {'name': 'Season 2', 'compact': 'S2'}, {'name': 'Season 3', 'compact': 'S3'}, {'name': 'Season 4', 'compact': 'S4'}, {'name': 'Season 5', 'compact': 'S5'}, {'name': 'Season 6', 'compact': 'S6', 'default': True}]}, {'id': 10, 'name': 'Emerald Nightmare', 'frozen': True, 'encounters': [{'id': 1853, 'name': 'Nythendra'}, {'id': 1873, 'name': \"Il'gynoth, The Heart of Corruption\"}, {'id': 1876, 'name': 'Elerethe Renferal'}, {'id': 1841, 'name': 'Ursoc'}, {'id': 1854, 'name': 'Dragons of Nightmare'}, {'id': 1877, 'name': 'Cenarius'}, {'id': 1864, 'name': 'Xavius'}], 'brackets': {'min': 827, 'max': 920, 'bucket': 3, 'type': 'Item Level'}, 'partitions': [{'name': '7.0-7.1', 'compact': '7.0-7.1', 'default': True}, {'name': '7.1.5+', 'compact': '7.1.5+'}]}, {'id': 11, 'name': 'The Nighthold', 'frozen': True, 'encounters': [{'id': 1849, 'name': 'Skorpyron'}, {'id': 1865, 'name': 'Chronomatic Anomaly'}, {'id': 1867, 'name': 'Trilliax'}, {'id': 1871, 'name': 'Spellblade Aluriel'}, {'id': 1862, 'name': 'Tichondrius'}, {'id': 1863, 'name': 'Star Augur Etraeus'}, {'id': 1842, 'name': 'Krosus'}, {'id': 1886, 'name': \"High Botanist Tel'arn\"}, {'id': 1872, 'name': 'Grand Magistrix Elisande'}, {'id': 1866, 'name': \"Gul'dan\"}], 'brackets': {'min': 842, 'max': 935, 'bucket': 3, 'type': 'Item Level'}, 'partitions': [{'name': '7.0-7.1.5', 'compact': '7.0-7.1.5'}, {'name': '7.2', 'compact': '7.2', 'default': True}, {'name': '7.2.5+', 'compact': '7.2.5+'}]}, {'id': 12, 'name': 'Trial of Valor', 'frozen': True, 'encounters': [{'id': 1958, 'name': 'Odyn'}, {'id': 1962, 'name': 'Guarm'}, {'id': 2008, 'name': 'Helya'}], 'brackets': {'min': 827, 'max': 920, 'bucket': 3, 'type': 'Item Level'}, 'partitions': [{'name': '7.0-7.1', 'compact': '7.0-7.1', 'default': True}, {'name': '7.1.5+', 'compact': '7.1.5+'}]}, {'id': 13, 'name': 'Tomb of Sargeras', 'frozen': True, 'encounters': [{'id': 2032, 'name': 'Goroth'}, {'id': 2048, 'name': 'Demonic Inquisition'}, {'id': 2036, 'name': 'Harjatan'}, {'id': 2037, 'name': \"Mistress Sassz'ine\"}, {'id': 2050, 'name': 'Sisters of the Moon'}, {'id': 2054, 'name': 'The Desolate Host'}, {'id': 2052, 'name': 'Maiden of Vigilance'}, {'id': 2038, 'name': 'Fallen Avatar'}, {'id': 2051, 'name': \"Kil'jaeden\"}], 'brackets': {'min': 862, 'max': 955, 'bucket': 3, 'type': 'Item Level'}, 'partitions': [{'name': '7.2.5', 'compact': '7.2.5'}, {'name': '7.3+', 'compact': '7.3+', 'default': True}]}, {'id': 14, 'name': 'Mythic+ 7.2', 'frozen': True, 'encounters': [{'id': 111516, 'name': 'The Arcway'}, {'id': 111501, 'name': 'Black Rook Hold'}, {'id': 111571, 'name': 'Court of Stars'}, {'id': 111466, 'name': 'Darkheart Thicket'}, {'id': 111456, 'name': 'Eye of Azshara'}, {'id': 111477, 'name': 'Halls of Valor'}, {'id': 111492, 'name': 'Maw of Souls'}, {'id': 111458, 'name': \"Neltharion's Lair\"}, {'id': 111493, 'name': 'Vault of the Wardens'}], 'brackets': {'min': 0, 'max': 0, 'bucket': 1, 'type': 'Patch'}}, {'id': 15, 'name': 'Mage Tower Challenges', 'frozen': True, 'encounters': [], 'brackets': {'min': 0, 'max': 0, 'bucket': 1, 'type': 'Item Level'}}, {'id': 16, 'name': 'Mythic+ 7.2.5', 'frozen': True, 'encounters': [{'id': 211516, 'name': 'The Arcway'}, {'id': 211501, 'name': 'Black Rook Hold'}, {'id': 211571, 'name': 'Court of Stars'}, {'id': 211466, 'name': 'Darkheart Thicket'}, {'id': 211456, 'name': 'Eye of Azshara'}, {'id': 211477, 'name': 'Halls of Valor'}, {'id': 211492, 'name': 'Maw of Souls'}, {'id': 211458, 'name': \"Neltharion's Lair\"}, {'id': 211493, 'name': 'Vault of the Wardens'}, {'id': 211651, 'name': 'Lower Karazhan'}, {'id': 211652, 'name': 'Upper Karazhan'}, {'id': 211677, 'name': 'Cathedral of Eternal Night'}, {'id': 211753, 'name': 'Seat of the Triumvirate'}], 'brackets': {'min': 0, 'max': 0, 'bucket': 1, 'type': 'Patch'}}, {'id': 17, 'name': 'Antorus, The Burning Throne', 'frozen': True, 'encounters': [{'id': 2076, 'name': 'Garothi Worldbreaker'}, {'id': 2074, 'name': 'Felhounds of Sargeras'}, {'id': 2070, 'name': 'Antoran High Command'}, {'id': 2075, 'name': 'The Defense of Eonar'}, {'id': 2064, 'name': 'Portal Keeper Hasabel'}, {'id': 2082, 'name': 'Imonar the Soulhunter'}, {'id': 2088, 'name': \"Kin'garoth\"}, {'id': 2069, 'name': 'Varimathras'}, {'id': 2073, 'name': 'The Coven of Shivarra'}, {'id': 2063, 'name': 'Aggramar'}, {'id': 2092, 'name': 'Argus the Unmaker'}], 'brackets': {'min': 908, 'max': 986, 'bucket': 3, 'type': 'Item Level'}, 'partitions': [{'name': 'Normal Artifacts', 'compact': 'Normal Artifacts', 'default': True}, {'name': 'Empowered Artifacts', 'compact': 'Empowered Artifacts'}, {'name': 'Prepatch', 'compact': 'Prepatch'}]}, {'id': 18, 'name': 'Mythic+ 7.3', 'frozen': True, 'encounters': [{'id': 311516, 'name': 'The Arcway'}, {'id': 311501, 'name': 'Black Rook Hold'}, {'id': 311571, 'name': 'Court of Stars'}, {'id': 311466, 'name': 'Darkheart Thicket'}, {'id': 311456, 'name': 'Eye of Azshara'}, {'id': 311477, 'name': 'Halls of Valor'}, {'id': 311492, 'name': 'Maw of Souls'}, {'id': 311458, 'name': \"Neltharion's Lair\"}, {'id': 311493, 'name': 'Vault of the Wardens'}, {'id': 311651, 'name': 'Lower Karazhan'}, {'id': 311652, 'name': 'Upper Karazhan'}, {'id': 311677, 'name': 'Cathedral of Eternal Night'}, {'id': 311753, 'name': 'Seat of the Triumvirate'}], 'brackets': {'min': 0, 'max': 0, 'bucket': 1, 'type': 'Patch'}}, {'id': 19, 'name': 'Uldir', 'frozen': True, 'encounters': [{'id': 2144, 'name': 'Taloc'}, {'id': 2141, 'name': 'MOTHER'}, {'id': 2128, 'name': 'Fetid Devourer'}, {'id': 2136, 'name': \"Zek'voz\"}, {'id': 2134, 'name': 'Vectis'}, {'id': 2145, 'name': 'Zul'}, {'id': 2135, 'name': 'Mythrax'}, {'id': 2122, 'name': \"G'huun\"}], 'brackets': {'min': 340, 'max': 397, 'bucket': 3, 'type': 'Item Level'}, 'partitions': [{'name': '8.0', 'compact': '8.0', 'default': True}, {'name': '8.1', 'compact': '8.1'}]}, {'id': 20, 'name': 'Mythic+ Dungeons', 'frozen': True, 'encounters': [{'id': 11763, 'name': \"Atal'Dazar\"}, {'id': 11754, 'name': 'Freehold'}, {'id': 11762, 'name': \"Kings' Rest\"}, {'id': 11864, 'name': 'Shrine of the Storm'}, {'id': 11822, 'name': 'Siege of Boralus'}, {'id': 11877, 'name': 'Temple of Sethraliss'}, {'id': 11594, 'name': 'The MOTHERLODE!!'}, {'id': 11841, 'name': 'The Underrot'}, {'id': 11771, 'name': 'Tol Dagor'}, {'id': 11862, 'name': 'Waycrest Manor'}, {'id': 12097, 'name': 'Operation: Mechagon - Junkyard'}, {'id': 12098, 'name': 'Operation: Mechagon - Workshop'}], 'brackets': {'min': 1, 'max': 30, 'bucket': 1, 'type': 'Keystone Level'}, 'partitions': [{'name': 'Season 1', 'compact': 'S1'}, {'name': 'Season 2', 'compact': 'S2'}, {'name': 'Season 3', 'compact': 'S3'}, {'name': 'Season 4', 'compact': 'S4'}, {'name': 'Post-Season', 'compact': 'PS', 'default': True}]}, {'id': 21, 'name': \"Battle of Dazar'alor\", 'frozen': True, 'encounters': [{'id': 2265, 'name': 'Champion of the Light'}, {'id': 2266, 'name': 'Jadefire Masters'}, {'id': 2263, 'name': 'Grong'}, {'id': 2271, 'name': 'Opulence'}, {'id': 2268, 'name': 'Conclave of the Chosen'}, {'id': 2272, 'name': 'King Rastakhan'}, {'id': 2276, 'name': 'Mekkatorque'}, {'id': 2280, 'name': 'Stormwall Blockade'}, {'id': 2281, 'name': 'Lady Jaina Proudmoore'}], 'brackets': {'min': 370, 'max': 427, 'bucket': 3, 'type': 'Item Level'}, 'partitions': [{'name': '8.1', 'compact': '8.1'}, {'name': '8.1.5', 'compact': '8.1.5', 'default': True}, {'name': '8.2', 'compact': '8.2'}]}, {'id': 22, 'name': 'Crucible of Storms', 'frozen': True, 'encounters': [{'id': 2269, 'name': 'The Restless Cabal'}, {'id': 2273, 'name': \"Uu'nat, Harbinger of the Void\"}], 'brackets': {'min': 370, 'max': 427, 'bucket': 3, 'type': 'Item Level'}, 'partitions': [{'name': '8.1.5', 'compact': '8.1.5', 'default': True}, {'name': '8.2', 'compact': '8.2'}]}, {'id': 23, 'name': 'The Eternal Palace', 'frozen': True, 'encounters': [{'id': 2298, 'name': 'Abyssal Commander Sivara'}, {'id': 2305, 'name': 'Radiance of Azshara'}, {'id': 2289, 'name': 'Blackwater Behemoth'}, {'id': 2304, 'name': 'Lady Ashvane'}, {'id': 2303, 'name': 'Orgozoa'}, {'id': 2311, 'name': \"The Queen's Court\"}, {'id': 2293, 'name': \"Za'qul\"}, {'id': 2299, 'name': 'Queen Azshara'}], 'brackets': {'min': 400, 'max': 457, 'bucket': 3, 'type': 'Item Level'}, 'partitions': [{'name': '8.2', 'compact': '8.2', 'default': True}, {'name': '8.3', 'compact': '8.3'}]}, {'id': 24, 'name': \"Ny'alotha\", 'frozen': True, 'encounters': [{'id': 2329, 'name': 'Wrathion'}, {'id': 2327, 'name': 'Maut'}, {'id': 2334, 'name': 'Prophet Skitra'}, {'id': 2328, 'name': 'Dark Inquisitor Xanesh'}, {'id': 2333, 'name': 'The Hivemind'}, {'id': 2335, 'name': \"Shad'har the Insatiable\"}, {'id': 2343, 'name': \"Drest'agath\"}, {'id': 2336, 'name': 'Vexiona'}, {'id': 2331, 'name': 'Ra-den the Despoiled'}, {'id': 2345, 'name': \"Il'gynoth, Corruption Reborn\"}, {'id': 2337, 'name': \"Carapace of N'Zoth\"}, {'id': 2344, 'name': \"N'Zoth the Corruptor\"}], 'brackets': {'min': 430, 'max': 487, 'bucket': 3, 'type': 'Item Level'}, 'partitions': [{'name': 'Pre-Nerf', 'compact': 'Pre-Nerf'}, {'name': 'Post-Nerf I', 'compact': 'Post-Nerf I'}, {'name': 'Post-Nerf II', 'compact': 'Post-Nerf II', 'default': True}, {'name': 'Pre-Patch', 'compact': 'Pre-Patch'}]}, {'id': 25, 'name': 'Mythic+ Dungeons', 'frozen': False, 'encounters': [{'id': 12291, 'name': 'De Other Side'}, {'id': 12287, 'name': 'Halls of Atonement'}, {'id': 12290, 'name': 'Mists of Tirna Scithe'}, {'id': 12286, 'name': 'The Necrotic Wake'}, {'id': 12289, 'name': 'Plaguefall'}, {'id': 12284, 'name': 'Sanguine Depths'}, {'id': 12285, 'name': 'Spires of Ascension'}, {'id': 12293, 'name': 'Theater of Pain'}], 'brackets': {'min': 1, 'max': 30, 'bucket': 1, 'type': 'Keystone Level'}, 'partitions': [{'name': 'Season 1', 'compact': 'S1'}, {'default': True, 'name': 'Season 2', 'compact': 'S2'}]}, {'id': 26, 'name': 'Castle Nathria', 'frozen': True, 'encounters': [{'id': 2398, 'name': 'Shriekwing'}, {'id': 2418, 'name': 'Huntsman Altimor'}, {'id': 2383, 'name': 'Hungering Destroyer'}, {'id': 2402, 'name': \"Sun King's Salvation\"}, {'id': 2405, 'name': \"Artificer Xy'mox\"}, {'id': 2406, 'name': 'Lady Inerva Darkvein'}, {'id': 2412, 'name': 'The Council of Blood'}, {'id': 2399, 'name': 'Sludgefist'}, {'id': 2417, 'name': 'Stone Legion Generals'}, {'id': 2407, 'name': 'Sire Denathrius'}], 'brackets': {'min': 173, 'max': 230, 'bucket': 3, 'type': 'Item Level'}, 'partitions': [{'name': '9.0', 'compact': '9.0'}, {'name': '9.0.5', 'compact': '9.0.5', 'default': True}, {'name': '9.1', 'compact': '9.1'}]}, {'id': 27, 'name': 'Torghast', 'frozen': False, 'encounters': [{'id': 25000, 'name': 'Twisted Corridors'}, {'id': 25004, 'name': 'Coldheart Interstitia'}, {'id': 25002, 'name': 'Fracture Chambers'}, {'id': 25005, 'name': \"Mort'regar\"}, {'id': 25001, 'name': 'Skoldus Hall'}, {'id': 25003, 'name': 'The Soulforges'}, {'id': 25006, 'name': 'The Upper Reaches'}], 'brackets': {'min': 173, 'max': 230, 'bucket': 3, 'type': 'Item Level'}, 'partitions': [{'name': 'Season 1', 'compact': 'S1'}, {'default': True, 'name': 'Season 2', 'compact': 'S2'}]}, {'id': 28, 'name': 'Sanctum of Domination', 'frozen': False, 'encounters': [{'id': 2423, 'name': 'The Tarragrue'}, {'id': 2433, 'name': 'The Eye of the Jailer'}, {'id': 2429, 'name': 'The Nine'}, {'id': 2432, 'name': \"Remnant of Ner'zhul\"}, {'id': 2434, 'name': 'Soulrender Dormazain'}, {'id': 2430, 'name': 'Painsmith Raznal'}, {'id': 2436, 'name': 'Guardian of the First Ones'}, {'id': 2431, 'name': 'Fatescribe Roh-Kalo'}, {'id': 2422, 'name': \"Kel'Thuzad\"}, {'id': 2435, 'name': 'Sylvanas Windrunner'}], 'brackets': {'min': 203, 'max': 260, 'bucket': 3, 'type': 'Item Level'}, 'partitions': [{'name': '9.1', 'compact': '9.1'}, {'name': '9.1.5', 'compact': '9.1.5', 'default': True}]}, {'id': 29, 'name': 'Sepulcher of the First Ones', 'frozen': True, 'encounters': [{'id': 2512, 'name': 'Vigilant Guardian'}, {'id': 2540, 'name': 'Dausegne, the Fallen Oracle'}, {'id': 2553, 'name': \"Artificer Xy'mox\"}, {'id': 2544, 'name': 'Prototype Pantheon'}, {'id': 2542, 'name': 'Skolex, the Insatiable Ravener'}, {'id': 2529, 'name': 'Halondrus the Reclaimer'}, {'id': 2539, 'name': 'Lihuvim, Principal Architect'}, {'id': 2546, 'name': 'Anduin Wrynn'}, {'id': 2543, 'name': 'Lords of Dread'}, {'id': 2537, 'name': 'Zovaal'}], 'brackets': {'min': 233, 'max': 290, 'bucket': 3, 'type': 'Item Level'}}, {'id': 500, 'name': 'Complete Raids (BFA)', 'frozen': True, 'encounters': [{'id': 2346, 'name': \"Ny'alotha\"}], 'brackets': {'min': 430, 'max': 487, 'bucket': 3, 'type': 'Item Level'}}, {'id': 501, 'name': 'Complete Raids (Nathria)', 'frozen': True, 'encounters': [{'id': 2413, 'name': 'Castle Nathria'}], 'brackets': {'min': 173, 'max': 230, 'bucket': 3, 'type': 'Item Level'}, 'partitions': [{'name': '9.0', 'compact': '9.0'}, {'name': '9.0.5', 'compact': '9.0.5', 'default': True}, {'name': '9.1', 'compact': '9.1'}]}, {'id': 502, 'name': 'Complete Raids (Sanctum)', 'frozen': False, 'encounters': [{'id': 2414, 'name': 'Sanctum of Domination'}], 'brackets': {'min': 203, 'max': 260, 'bucket': 3, 'type': 'Item Level'}, 'partitions': [{'name': '9.1', 'compact': '9.1'}, {'name': '9.1.5', 'compact': '9.1.5', 'default': True}]}, {'id': 503, 'name': 'Complete Raids (Sepulcher)', 'frozen': True, 'encounters': [{'id': 2438, 'name': 'Sepulcher of the First Ones'}], 'brackets': {'min': 233, 'max': 290, 'bucket': 3, 'type': 'Item Level'}}]\n"
     ]
    }
   ],
   "source": [
    "print(response.json())"
   ]
  },
  {
   "cell_type": "markdown",
   "metadata": {},
   "source": [
    "Upon closer inspection, this is a list of dictionaries. Each dictionary associated with a whole raid has another dictionary inside of it that has encounter information for each boss. I'm gonna take a look at the most recent raid, \"Sanctum.\""
   ]
  },
  {
   "cell_type": "code",
   "execution_count": 44,
   "metadata": {},
   "outputs": [
    {
     "name": "stdout",
     "output_type": "stream",
     "text": [
      "{'id': 3, 'name': 'Challenge Modes', 'frozen': True, 'encounters': [{'id': 11182, 'name': 'Auchindoun'}, {'id': 11175, 'name': 'Bloodmaul Slag Mines'}, {'id': 11279, 'name': 'The Everbloom'}, {'id': 11208, 'name': 'Grimrail Depot'}, {'id': 11195, 'name': 'Iron Docks'}, {'id': 11176, 'name': 'Shadowmoon Burial Grounds'}, {'id': 11209, 'name': 'Skyreach'}, {'id': 11358, 'name': 'Upper Blackrock Spire'}], 'brackets': {'min': 6, 'max': 6.2, 'bucket': 0.1, 'type': 'Patch'}}\n",
      "{'id': 4, 'name': 'Throne of Thunder', 'frozen': True, 'encounters': [{'id': 1577, 'name': \"Jin'rokh the Breaker\"}, {'id': 1575, 'name': 'Horridon'}, {'id': 1570, 'name': 'Council of Elders'}, {'id': 1565, 'name': 'Tortos'}, {'id': 1578, 'name': 'Megaera'}, {'id': 1573, 'name': 'Ji-Kun'}, {'id': 1572, 'name': 'Durumu the Forgotten'}, {'id': 1574, 'name': 'Primordius'}, {'id': 1576, 'name': 'Dark Animus'}, {'id': 1559, 'name': 'Iron Qon'}, {'id': 1560, 'name': 'Twin Consorts'}, {'id': 1579, 'name': 'Lei Shen'}, {'id': 1580, 'name': 'Ra-den'}], 'brackets': {'min': 0, 'max': 0, 'bucket': 1, 'type': 'Item Level'}}\n",
      "{'id': 5, 'name': 'Siege of Orgrimmar', 'frozen': True, 'encounters': [{'id': 1602, 'name': 'Immerseus'}, {'id': 1598, 'name': 'Fallen Protectors'}, {'id': 1624, 'name': 'Norushen'}, {'id': 1604, 'name': 'Sha of Pride'}, {'id': 1622, 'name': 'Galakras'}, {'id': 1600, 'name': 'Iron Juggernaut'}, {'id': 1606, 'name': \"Kor'kron Dark Shaman\"}, {'id': 1603, 'name': 'General Nazgrim'}, {'id': 1595, 'name': 'Malkorok'}, {'id': 1594, 'name': 'Spoils of Pandaria'}, {'id': 1599, 'name': 'Thok the Bloodthirsty'}, {'id': 1601, 'name': 'Siegecrafter Blackfuse'}, {'id': 1593, 'name': 'Paragons of the Klaxxi'}, {'id': 1623, 'name': 'Garrosh Hellscream'}], 'brackets': {'min': 0, 'max': 0, 'bucket': 1, 'type': 'Item Level'}}\n",
      "{'id': 6, 'name': 'Highmaul', 'frozen': True, 'encounters': [{'id': 1721, 'name': 'Kargath Bladefist'}, {'id': 1706, 'name': 'The Butcher'}, {'id': 1722, 'name': 'Tectus, The Living Mountain'}, {'id': 1720, 'name': 'Brackenspore'}, {'id': 1719, 'name': 'Twin Ogron'}, {'id': 1723, 'name': \"Ko'ragh\"}, {'id': 1705, 'name': \"Imperator Mar'gok\"}], 'brackets': {'min': 633, 'max': 693, 'bucket': 15, 'type': 'Item Level'}}\n",
      "{'id': 7, 'name': 'Blackrock Foundry', 'frozen': True, 'encounters': [{'id': 1691, 'name': 'Gruul'}, {'id': 1696, 'name': 'Oregorger the Devourer'}, {'id': 1690, 'name': 'Blast Furnace'}, {'id': 1693, 'name': \"Hans'gar & Franzok\"}, {'id': 1689, 'name': \"Flamebender Ka'graz\"}, {'id': 1713, 'name': 'Kromog, Legend of the Mountain'}, {'id': 1694, 'name': 'Beastlord Darmac'}, {'id': 1692, 'name': 'Operator Thogar'}, {'id': 1695, 'name': 'The Iron Maidens'}, {'id': 1704, 'name': 'Blackhand'}], 'brackets': {'min': 650, 'max': 695, 'bucket': 15, 'sub_bucket': 8, 'type': 'Item Level'}}\n",
      "{'id': 8, 'name': 'Hellfire Citadel', 'frozen': True, 'encounters': [{'id': 1778, 'name': 'Hellfire Assault'}, {'id': 1785, 'name': 'Iron Reaver'}, {'id': 1787, 'name': 'Kormrok'}, {'id': 1798, 'name': 'Hellfire High Council'}, {'id': 1786, 'name': 'Kilrogg Deadeye'}, {'id': 1783, 'name': 'Gorefiend'}, {'id': 1788, 'name': 'Shadow-Lord Iskar'}, {'id': 1777, 'name': 'Fel Lord Zakuun'}, {'id': 1800, 'name': \"Xhul'horac\"}, {'id': 1794, 'name': 'Socrethar the Eternal'}, {'id': 1784, 'name': 'Tyrant Velhari'}, {'id': 1795, 'name': 'Mannoroth'}, {'id': 1799, 'name': 'Archimonde'}], 'brackets': {'min': 682, 'max': 745, 'bucket': 3, 'type': 'Item Level'}, 'partitions': [{'name': '6.2', 'compact': '6.2', 'default': True}, {'name': '7.0.3', 'compact': '7.0.3'}]}\n",
      "{'id': 9, 'name': 'Mythic+ Dungeons', 'frozen': True, 'encounters': [{'id': 11516, 'name': 'The Arcway'}, {'id': 11501, 'name': 'Black Rook Hold'}, {'id': 11571, 'name': 'Court of Stars'}, {'id': 11466, 'name': 'Darkheart Thicket'}, {'id': 11456, 'name': 'Eye of Azshara'}, {'id': 11477, 'name': 'Halls of Valor'}, {'id': 11492, 'name': 'Maw of Souls'}, {'id': 11458, 'name': \"Neltharion's Lair\"}, {'id': 11493, 'name': 'Vault of the Wardens'}, {'id': 11651, 'name': 'Lower Karazhan'}, {'id': 11652, 'name': 'Upper Karazhan'}, {'id': 11677, 'name': 'Cathedral of Eternal Night'}, {'id': 11753, 'name': 'Seat of the Triumvirate'}], 'brackets': {'min': 1, 'max': 40, 'bucket': 1, 'type': 'Keystone Level'}, 'partitions': [{'name': 'Season 1', 'compact': 'S1'}, {'name': 'Season 2', 'compact': 'S2'}, {'name': 'Season 3', 'compact': 'S3'}, {'name': 'Season 4', 'compact': 'S4'}, {'name': 'Season 5', 'compact': 'S5'}, {'name': 'Season 6', 'compact': 'S6', 'default': True}]}\n",
      "{'id': 10, 'name': 'Emerald Nightmare', 'frozen': True, 'encounters': [{'id': 1853, 'name': 'Nythendra'}, {'id': 1873, 'name': \"Il'gynoth, The Heart of Corruption\"}, {'id': 1876, 'name': 'Elerethe Renferal'}, {'id': 1841, 'name': 'Ursoc'}, {'id': 1854, 'name': 'Dragons of Nightmare'}, {'id': 1877, 'name': 'Cenarius'}, {'id': 1864, 'name': 'Xavius'}], 'brackets': {'min': 827, 'max': 920, 'bucket': 3, 'type': 'Item Level'}, 'partitions': [{'name': '7.0-7.1', 'compact': '7.0-7.1', 'default': True}, {'name': '7.1.5+', 'compact': '7.1.5+'}]}\n",
      "{'id': 11, 'name': 'The Nighthold', 'frozen': True, 'encounters': [{'id': 1849, 'name': 'Skorpyron'}, {'id': 1865, 'name': 'Chronomatic Anomaly'}, {'id': 1867, 'name': 'Trilliax'}, {'id': 1871, 'name': 'Spellblade Aluriel'}, {'id': 1862, 'name': 'Tichondrius'}, {'id': 1863, 'name': 'Star Augur Etraeus'}, {'id': 1842, 'name': 'Krosus'}, {'id': 1886, 'name': \"High Botanist Tel'arn\"}, {'id': 1872, 'name': 'Grand Magistrix Elisande'}, {'id': 1866, 'name': \"Gul'dan\"}], 'brackets': {'min': 842, 'max': 935, 'bucket': 3, 'type': 'Item Level'}, 'partitions': [{'name': '7.0-7.1.5', 'compact': '7.0-7.1.5'}, {'name': '7.2', 'compact': '7.2', 'default': True}, {'name': '7.2.5+', 'compact': '7.2.5+'}]}\n",
      "{'id': 12, 'name': 'Trial of Valor', 'frozen': True, 'encounters': [{'id': 1958, 'name': 'Odyn'}, {'id': 1962, 'name': 'Guarm'}, {'id': 2008, 'name': 'Helya'}], 'brackets': {'min': 827, 'max': 920, 'bucket': 3, 'type': 'Item Level'}, 'partitions': [{'name': '7.0-7.1', 'compact': '7.0-7.1', 'default': True}, {'name': '7.1.5+', 'compact': '7.1.5+'}]}\n",
      "{'id': 13, 'name': 'Tomb of Sargeras', 'frozen': True, 'encounters': [{'id': 2032, 'name': 'Goroth'}, {'id': 2048, 'name': 'Demonic Inquisition'}, {'id': 2036, 'name': 'Harjatan'}, {'id': 2037, 'name': \"Mistress Sassz'ine\"}, {'id': 2050, 'name': 'Sisters of the Moon'}, {'id': 2054, 'name': 'The Desolate Host'}, {'id': 2052, 'name': 'Maiden of Vigilance'}, {'id': 2038, 'name': 'Fallen Avatar'}, {'id': 2051, 'name': \"Kil'jaeden\"}], 'brackets': {'min': 862, 'max': 955, 'bucket': 3, 'type': 'Item Level'}, 'partitions': [{'name': '7.2.5', 'compact': '7.2.5'}, {'name': '7.3+', 'compact': '7.3+', 'default': True}]}\n",
      "{'id': 14, 'name': 'Mythic+ 7.2', 'frozen': True, 'encounters': [{'id': 111516, 'name': 'The Arcway'}, {'id': 111501, 'name': 'Black Rook Hold'}, {'id': 111571, 'name': 'Court of Stars'}, {'id': 111466, 'name': 'Darkheart Thicket'}, {'id': 111456, 'name': 'Eye of Azshara'}, {'id': 111477, 'name': 'Halls of Valor'}, {'id': 111492, 'name': 'Maw of Souls'}, {'id': 111458, 'name': \"Neltharion's Lair\"}, {'id': 111493, 'name': 'Vault of the Wardens'}], 'brackets': {'min': 0, 'max': 0, 'bucket': 1, 'type': 'Patch'}}\n",
      "{'id': 15, 'name': 'Mage Tower Challenges', 'frozen': True, 'encounters': [], 'brackets': {'min': 0, 'max': 0, 'bucket': 1, 'type': 'Item Level'}}\n",
      "{'id': 16, 'name': 'Mythic+ 7.2.5', 'frozen': True, 'encounters': [{'id': 211516, 'name': 'The Arcway'}, {'id': 211501, 'name': 'Black Rook Hold'}, {'id': 211571, 'name': 'Court of Stars'}, {'id': 211466, 'name': 'Darkheart Thicket'}, {'id': 211456, 'name': 'Eye of Azshara'}, {'id': 211477, 'name': 'Halls of Valor'}, {'id': 211492, 'name': 'Maw of Souls'}, {'id': 211458, 'name': \"Neltharion's Lair\"}, {'id': 211493, 'name': 'Vault of the Wardens'}, {'id': 211651, 'name': 'Lower Karazhan'}, {'id': 211652, 'name': 'Upper Karazhan'}, {'id': 211677, 'name': 'Cathedral of Eternal Night'}, {'id': 211753, 'name': 'Seat of the Triumvirate'}], 'brackets': {'min': 0, 'max': 0, 'bucket': 1, 'type': 'Patch'}}\n",
      "{'id': 17, 'name': 'Antorus, The Burning Throne', 'frozen': True, 'encounters': [{'id': 2076, 'name': 'Garothi Worldbreaker'}, {'id': 2074, 'name': 'Felhounds of Sargeras'}, {'id': 2070, 'name': 'Antoran High Command'}, {'id': 2075, 'name': 'The Defense of Eonar'}, {'id': 2064, 'name': 'Portal Keeper Hasabel'}, {'id': 2082, 'name': 'Imonar the Soulhunter'}, {'id': 2088, 'name': \"Kin'garoth\"}, {'id': 2069, 'name': 'Varimathras'}, {'id': 2073, 'name': 'The Coven of Shivarra'}, {'id': 2063, 'name': 'Aggramar'}, {'id': 2092, 'name': 'Argus the Unmaker'}], 'brackets': {'min': 908, 'max': 986, 'bucket': 3, 'type': 'Item Level'}, 'partitions': [{'name': 'Normal Artifacts', 'compact': 'Normal Artifacts', 'default': True}, {'name': 'Empowered Artifacts', 'compact': 'Empowered Artifacts'}, {'name': 'Prepatch', 'compact': 'Prepatch'}]}\n",
      "{'id': 18, 'name': 'Mythic+ 7.3', 'frozen': True, 'encounters': [{'id': 311516, 'name': 'The Arcway'}, {'id': 311501, 'name': 'Black Rook Hold'}, {'id': 311571, 'name': 'Court of Stars'}, {'id': 311466, 'name': 'Darkheart Thicket'}, {'id': 311456, 'name': 'Eye of Azshara'}, {'id': 311477, 'name': 'Halls of Valor'}, {'id': 311492, 'name': 'Maw of Souls'}, {'id': 311458, 'name': \"Neltharion's Lair\"}, {'id': 311493, 'name': 'Vault of the Wardens'}, {'id': 311651, 'name': 'Lower Karazhan'}, {'id': 311652, 'name': 'Upper Karazhan'}, {'id': 311677, 'name': 'Cathedral of Eternal Night'}, {'id': 311753, 'name': 'Seat of the Triumvirate'}], 'brackets': {'min': 0, 'max': 0, 'bucket': 1, 'type': 'Patch'}}\n",
      "{'id': 19, 'name': 'Uldir', 'frozen': True, 'encounters': [{'id': 2144, 'name': 'Taloc'}, {'id': 2141, 'name': 'MOTHER'}, {'id': 2128, 'name': 'Fetid Devourer'}, {'id': 2136, 'name': \"Zek'voz\"}, {'id': 2134, 'name': 'Vectis'}, {'id': 2145, 'name': 'Zul'}, {'id': 2135, 'name': 'Mythrax'}, {'id': 2122, 'name': \"G'huun\"}], 'brackets': {'min': 340, 'max': 397, 'bucket': 3, 'type': 'Item Level'}, 'partitions': [{'name': '8.0', 'compact': '8.0', 'default': True}, {'name': '8.1', 'compact': '8.1'}]}\n",
      "{'id': 20, 'name': 'Mythic+ Dungeons', 'frozen': True, 'encounters': [{'id': 11763, 'name': \"Atal'Dazar\"}, {'id': 11754, 'name': 'Freehold'}, {'id': 11762, 'name': \"Kings' Rest\"}, {'id': 11864, 'name': 'Shrine of the Storm'}, {'id': 11822, 'name': 'Siege of Boralus'}, {'id': 11877, 'name': 'Temple of Sethraliss'}, {'id': 11594, 'name': 'The MOTHERLODE!!'}, {'id': 11841, 'name': 'The Underrot'}, {'id': 11771, 'name': 'Tol Dagor'}, {'id': 11862, 'name': 'Waycrest Manor'}, {'id': 12097, 'name': 'Operation: Mechagon - Junkyard'}, {'id': 12098, 'name': 'Operation: Mechagon - Workshop'}], 'brackets': {'min': 1, 'max': 30, 'bucket': 1, 'type': 'Keystone Level'}, 'partitions': [{'name': 'Season 1', 'compact': 'S1'}, {'name': 'Season 2', 'compact': 'S2'}, {'name': 'Season 3', 'compact': 'S3'}, {'name': 'Season 4', 'compact': 'S4'}, {'name': 'Post-Season', 'compact': 'PS', 'default': True}]}\n",
      "{'id': 21, 'name': \"Battle of Dazar'alor\", 'frozen': True, 'encounters': [{'id': 2265, 'name': 'Champion of the Light'}, {'id': 2266, 'name': 'Jadefire Masters'}, {'id': 2263, 'name': 'Grong'}, {'id': 2271, 'name': 'Opulence'}, {'id': 2268, 'name': 'Conclave of the Chosen'}, {'id': 2272, 'name': 'King Rastakhan'}, {'id': 2276, 'name': 'Mekkatorque'}, {'id': 2280, 'name': 'Stormwall Blockade'}, {'id': 2281, 'name': 'Lady Jaina Proudmoore'}], 'brackets': {'min': 370, 'max': 427, 'bucket': 3, 'type': 'Item Level'}, 'partitions': [{'name': '8.1', 'compact': '8.1'}, {'name': '8.1.5', 'compact': '8.1.5', 'default': True}, {'name': '8.2', 'compact': '8.2'}]}\n",
      "{'id': 22, 'name': 'Crucible of Storms', 'frozen': True, 'encounters': [{'id': 2269, 'name': 'The Restless Cabal'}, {'id': 2273, 'name': \"Uu'nat, Harbinger of the Void\"}], 'brackets': {'min': 370, 'max': 427, 'bucket': 3, 'type': 'Item Level'}, 'partitions': [{'name': '8.1.5', 'compact': '8.1.5', 'default': True}, {'name': '8.2', 'compact': '8.2'}]}\n",
      "{'id': 23, 'name': 'The Eternal Palace', 'frozen': True, 'encounters': [{'id': 2298, 'name': 'Abyssal Commander Sivara'}, {'id': 2305, 'name': 'Radiance of Azshara'}, {'id': 2289, 'name': 'Blackwater Behemoth'}, {'id': 2304, 'name': 'Lady Ashvane'}, {'id': 2303, 'name': 'Orgozoa'}, {'id': 2311, 'name': \"The Queen's Court\"}, {'id': 2293, 'name': \"Za'qul\"}, {'id': 2299, 'name': 'Queen Azshara'}], 'brackets': {'min': 400, 'max': 457, 'bucket': 3, 'type': 'Item Level'}, 'partitions': [{'name': '8.2', 'compact': '8.2', 'default': True}, {'name': '8.3', 'compact': '8.3'}]}\n",
      "{'id': 24, 'name': \"Ny'alotha\", 'frozen': True, 'encounters': [{'id': 2329, 'name': 'Wrathion'}, {'id': 2327, 'name': 'Maut'}, {'id': 2334, 'name': 'Prophet Skitra'}, {'id': 2328, 'name': 'Dark Inquisitor Xanesh'}, {'id': 2333, 'name': 'The Hivemind'}, {'id': 2335, 'name': \"Shad'har the Insatiable\"}, {'id': 2343, 'name': \"Drest'agath\"}, {'id': 2336, 'name': 'Vexiona'}, {'id': 2331, 'name': 'Ra-den the Despoiled'}, {'id': 2345, 'name': \"Il'gynoth, Corruption Reborn\"}, {'id': 2337, 'name': \"Carapace of N'Zoth\"}, {'id': 2344, 'name': \"N'Zoth the Corruptor\"}], 'brackets': {'min': 430, 'max': 487, 'bucket': 3, 'type': 'Item Level'}, 'partitions': [{'name': 'Pre-Nerf', 'compact': 'Pre-Nerf'}, {'name': 'Post-Nerf I', 'compact': 'Post-Nerf I'}, {'name': 'Post-Nerf II', 'compact': 'Post-Nerf II', 'default': True}, {'name': 'Pre-Patch', 'compact': 'Pre-Patch'}]}\n",
      "{'id': 25, 'name': 'Mythic+ Dungeons', 'frozen': False, 'encounters': [{'id': 12291, 'name': 'De Other Side'}, {'id': 12287, 'name': 'Halls of Atonement'}, {'id': 12290, 'name': 'Mists of Tirna Scithe'}, {'id': 12286, 'name': 'The Necrotic Wake'}, {'id': 12289, 'name': 'Plaguefall'}, {'id': 12284, 'name': 'Sanguine Depths'}, {'id': 12285, 'name': 'Spires of Ascension'}, {'id': 12293, 'name': 'Theater of Pain'}], 'brackets': {'min': 1, 'max': 30, 'bucket': 1, 'type': 'Keystone Level'}, 'partitions': [{'name': 'Season 1', 'compact': 'S1'}, {'default': True, 'name': 'Season 2', 'compact': 'S2'}]}\n",
      "{'id': 26, 'name': 'Castle Nathria', 'frozen': True, 'encounters': [{'id': 2398, 'name': 'Shriekwing'}, {'id': 2418, 'name': 'Huntsman Altimor'}, {'id': 2383, 'name': 'Hungering Destroyer'}, {'id': 2402, 'name': \"Sun King's Salvation\"}, {'id': 2405, 'name': \"Artificer Xy'mox\"}, {'id': 2406, 'name': 'Lady Inerva Darkvein'}, {'id': 2412, 'name': 'The Council of Blood'}, {'id': 2399, 'name': 'Sludgefist'}, {'id': 2417, 'name': 'Stone Legion Generals'}, {'id': 2407, 'name': 'Sire Denathrius'}], 'brackets': {'min': 173, 'max': 230, 'bucket': 3, 'type': 'Item Level'}, 'partitions': [{'name': '9.0', 'compact': '9.0'}, {'name': '9.0.5', 'compact': '9.0.5', 'default': True}, {'name': '9.1', 'compact': '9.1'}]}\n",
      "{'id': 27, 'name': 'Torghast', 'frozen': False, 'encounters': [{'id': 25000, 'name': 'Twisted Corridors'}, {'id': 25004, 'name': 'Coldheart Interstitia'}, {'id': 25002, 'name': 'Fracture Chambers'}, {'id': 25005, 'name': \"Mort'regar\"}, {'id': 25001, 'name': 'Skoldus Hall'}, {'id': 25003, 'name': 'The Soulforges'}, {'id': 25006, 'name': 'The Upper Reaches'}], 'brackets': {'min': 173, 'max': 230, 'bucket': 3, 'type': 'Item Level'}, 'partitions': [{'name': 'Season 1', 'compact': 'S1'}, {'default': True, 'name': 'Season 2', 'compact': 'S2'}]}\n",
      "{'id': 28, 'name': 'Sanctum of Domination', 'frozen': False, 'encounters': [{'id': 2423, 'name': 'The Tarragrue'}, {'id': 2433, 'name': 'The Eye of the Jailer'}, {'id': 2429, 'name': 'The Nine'}, {'id': 2432, 'name': \"Remnant of Ner'zhul\"}, {'id': 2434, 'name': 'Soulrender Dormazain'}, {'id': 2430, 'name': 'Painsmith Raznal'}, {'id': 2436, 'name': 'Guardian of the First Ones'}, {'id': 2431, 'name': 'Fatescribe Roh-Kalo'}, {'id': 2422, 'name': \"Kel'Thuzad\"}, {'id': 2435, 'name': 'Sylvanas Windrunner'}], 'brackets': {'min': 203, 'max': 260, 'bucket': 3, 'type': 'Item Level'}, 'partitions': [{'name': '9.1', 'compact': '9.1'}, {'name': '9.1.5', 'compact': '9.1.5', 'default': True}]}\n",
      "{'id': 29, 'name': 'Sepulcher of the First Ones', 'frozen': True, 'encounters': [{'id': 2512, 'name': 'Vigilant Guardian'}, {'id': 2540, 'name': 'Dausegne, the Fallen Oracle'}, {'id': 2553, 'name': \"Artificer Xy'mox\"}, {'id': 2544, 'name': 'Prototype Pantheon'}, {'id': 2542, 'name': 'Skolex, the Insatiable Ravener'}, {'id': 2529, 'name': 'Halondrus the Reclaimer'}, {'id': 2539, 'name': 'Lihuvim, Principal Architect'}, {'id': 2546, 'name': 'Anduin Wrynn'}, {'id': 2543, 'name': 'Lords of Dread'}, {'id': 2537, 'name': 'Zovaal'}], 'brackets': {'min': 233, 'max': 290, 'bucket': 3, 'type': 'Item Level'}}\n",
      "{'id': 500, 'name': 'Complete Raids (BFA)', 'frozen': True, 'encounters': [{'id': 2346, 'name': \"Ny'alotha\"}], 'brackets': {'min': 430, 'max': 487, 'bucket': 3, 'type': 'Item Level'}}\n",
      "{'id': 501, 'name': 'Complete Raids (Nathria)', 'frozen': True, 'encounters': [{'id': 2413, 'name': 'Castle Nathria'}], 'brackets': {'min': 173, 'max': 230, 'bucket': 3, 'type': 'Item Level'}, 'partitions': [{'name': '9.0', 'compact': '9.0'}, {'name': '9.0.5', 'compact': '9.0.5', 'default': True}, {'name': '9.1', 'compact': '9.1'}]}\n",
      "{'id': 502, 'name': 'Complete Raids (Sanctum)', 'frozen': False, 'encounters': [{'id': 2414, 'name': 'Sanctum of Domination'}], 'brackets': {'min': 203, 'max': 260, 'bucket': 3, 'type': 'Item Level'}, 'partitions': [{'name': '9.1', 'compact': '9.1'}, {'name': '9.1.5', 'compact': '9.1.5', 'default': True}]}\n",
      "{'id': 503, 'name': 'Complete Raids (Sepulcher)', 'frozen': True, 'encounters': [{'id': 2438, 'name': 'Sepulcher of the First Ones'}], 'brackets': {'min': 233, 'max': 290, 'bucket': 3, 'type': 'Item Level'}}\n"
     ]
    }
   ],
   "source": [
    "warcraftZones = response.json()\n",
    "for key in warcraftZones:\n",
    "    print(key)"
   ]
  },
  {
   "cell_type": "code",
   "execution_count": 45,
   "metadata": {},
   "outputs": [
    {
     "name": "stdout",
     "output_type": "stream",
     "text": [
      "{'id': 502, 'name': 'Complete Raids (Sanctum)', 'frozen': False, 'encounters': [{'id': 2414, 'name': 'Sanctum of Domination'}], 'brackets': {'min': 203, 'max': 260, 'bucket': 3, 'type': 'Item Level'}, 'partitions': [{'name': '9.1', 'compact': '9.1'}, {'name': '9.1.5', 'compact': '9.1.5', 'default': True}]}\n"
     ]
    }
   ],
   "source": [
    "print(warcraftZones[29])"
   ]
  },
  {
   "cell_type": "code",
   "execution_count": 46,
   "metadata": {},
   "outputs": [
    {
     "name": "stdout",
     "output_type": "stream",
     "text": [
      "[{'name': '奶茶萌奇奇', 'class': 2, 'spec': 1, 'total': 14849.419854536, 'duration': 10622198, 'startTime': 1637897235773, 'fightID': 10000, 'reportID': '9nYMVmgxRvqAjL3d', 'guildName': '', 'serverName': '影之哀伤', 'regionName': 'CN', 'hidden': False, 'itemLevel': 251, 'faction': 1, 'covenantID': 2, 'soulbindID': 9}, {'name': 'Sheeq', 'class': 8, 'spec': 1, 'total': 14766.976898592, 'duration': 12606601, 'startTime': 1637838558116, 'fightID': 10000, 'reportID': 'zrk6RpN92MKnHtFa', 'guildName': 'break', 'serverName': '아즈샤라', 'regionName': 'KR', 'hidden': False, 'itemLevel': 255, 'faction': 1, 'covenantID': 2, 'soulbindID': 8}, {'name': 'Hellring', 'class': 11, 'spec': 1, 'total': 14421.940012812, 'duration': 10119924, 'startTime': 1637233453710, 'fightID': 10000, 'reportID': 'M1ZzgvAfGmxbYXyJ', 'guildName': 'break', 'serverName': '아즈샤라', 'regionName': 'KR', 'hidden': False, 'itemLevel': 255, 'faction': 1, 'covenantID': 3, 'soulbindID': 1}, {'name': '비전매력', 'class': 4, 'spec': 3, 'total': 13254.80423377, 'duration': 8877487, 'startTime': 1637926408611, 'fightID': 10000, 'reportID': 'aDZmbdj1t8KVhNzF', 'guildName': 'SEEREAL', 'serverName': '아즈샤라', 'regionName': 'KR', 'hidden': False, 'itemLevel': 255, 'faction': 1, 'covenantID': 2, 'soulbindID': 9}, {'name': '丶桐崎千棘', 'class': 2, 'spec': 1, 'total': 13180.009226519, 'duration': 8292753, 'startTime': 1637391917986, 'fightID': 10000, 'reportID': 'JBzjhHVDGbcq4QR2', 'guildName': '', 'serverName': '埃德萨拉', 'regionName': 'CN', 'hidden': False, 'itemLevel': 252, 'faction': 1, 'covenantID': 2, 'soulbindID': 9}, {'name': 'Bogus', 'class': 8, 'spec': 3, 'total': 13159.494342242, 'duration': 8947278, 'startTime': 1637492278449, 'fightID': 10000, 'reportID': 'yJQ4z3MPwWfhZtT6', 'guildName': 'Ctrl', 'serverName': '아즈샤라', 'regionName': 'KR', 'hidden': False, 'itemLevel': 255, 'faction': 1, 'covenantID': 2, 'soulbindID': 9}, {'name': 'Zissar', 'class': 5, 'spec': 3, 'total': 13134.54098047, 'duration': 12881890, 'startTime': 1638407774402, 'fightID': 10000, 'reportID': 'h2wvN7qxRBWMjg9L', 'guildName': 'Unity', 'serverName': 'Ragnaros', 'regionName': 'US', 'hidden': False, 'itemLevel': 253, 'faction': 1, 'covenantID': 4, 'soulbindID': 4}, {'name': 'Mudge', 'class': 2, 'spec': 1, 'total': 13132.195067372, 'duration': 9471806, 'startTime': 1637196684507, 'fightID': 10000, 'reportID': 'vWxRTJjn28wMXq9z', 'guildName': 'HC', 'serverName': \"Mal'Ganis\", 'regionName': 'US', 'hidden': False, 'itemLevel': 250, 'faction': 1, 'covenantID': 2, 'soulbindID': 9}, {'name': 'Mopreme', 'class': 2, 'spec': 1, 'total': 13111.215866192, 'duration': 12232315, 'startTime': 1636655731011, 'fightID': 10000, 'reportID': 'g4jQNdPr9mqaz1wM', 'guildName': 'Colour', 'serverName': 'Stormreaver', 'regionName': 'EU', 'hidden': False, 'itemLevel': 252, 'faction': 1, 'covenantID': 2, 'soulbindID': 9}, {'name': 'Fonkydan', 'class': 12, 'spec': 1, 'total': 13061.230014312, 'duration': 8919079, 'startTime': 1638382809478, 'fightID': 10000, 'reportID': 'Gdp1XZvam3k7HV6K', 'guildName': 'Northern Sky', 'serverName': 'Blackhand', 'regionName': 'EU', 'hidden': False, 'itemLevel': 254, 'faction': 1, 'covenantID': 2, 'soulbindID': 8}, {'name': '연약한그대', 'class': 3, 'spec': 1, 'total': 12996.777300994, 'duration': 10839272, 'startTime': 1636108689412, 'fightID': 10000, 'reportID': 'vQfyt34CALpr1ch7', 'guildName': 'Right', 'serverName': '아즈샤라', 'regionName': 'KR', 'hidden': False, 'itemLevel': 254, 'faction': 1, 'covenantID': 3, 'soulbindID': 2}, {'name': '牛星涌', 'class': 2, 'spec': 1, 'total': 12933.242424335, 'duration': 7567457, 'startTime': 1638234527827, 'fightID': 10000, 'reportID': 'MjBzGDKpqfQmNdx1', 'guildName': '', 'serverName': '布兰卡德', 'regionName': 'CN', 'hidden': False, 'itemLevel': 251, 'faction': 1, 'covenantID': 2, 'soulbindID': 9}, {'name': '哈布丶枫顿', 'class': 11, 'spec': 2, 'total': 12890.492036688, 'duration': 8502239, 'startTime': 1636026305209, 'fightID': 10000, 'reportID': 'xgpQ8Hfw39PAYJ1r', 'guildName': '', 'serverName': '布兰卡德', 'regionName': 'CN', 'hidden': False, 'itemLevel': 256, 'faction': 1, 'covenantID': 1, 'soulbindID': 18}, {'name': '最爱叨叨', 'class': 2, 'spec': 1, 'total': 12835.116214041, 'duration': 10963771, 'startTime': 1637466295136, 'fightID': 10000, 'reportID': 'FmQ2jXWrdNkcZTB8', 'guildName': '', 'serverName': '影之哀伤', 'regionName': 'CN', 'hidden': False, 'itemLevel': 250, 'faction': 1, 'covenantID': 2, 'soulbindID': 9}, {'name': '枯法者乄', 'class': 4, 'spec': 2, 'total': 12804.901872409, 'duration': 7755044, 'startTime': 1637370392091, 'fightID': 10000, 'reportID': 'nADBrgjHYFtw26Xm', 'guildName': '', 'serverName': '白银之手', 'regionName': 'CN', 'hidden': False, 'itemLevel': 254, 'faction': 0, 'covenantID': 3, 'soulbindID': 2}, {'name': 'Anonymous', 'class': 4, 'spec': 3, 'total': 12715.754166392, 'duration': 10543340, 'startTime': 1636973927541, 'fightID': 10000, 'reportID': 'a:D3zZnJXQaGKg41bv', 'guildName': '', 'serverName': '', 'regionName': 'KR', 'hidden': True, 'itemLevel': 255, 'faction': 1, 'covenantID': 2, 'soulbindID': 9}, {'name': 'Icelandia', 'class': 4, 'spec': 3, 'total': 12450.542803974, 'duration': 11145106, 'startTime': 1637110110152, 'fightID': 10000, 'reportID': 'y61XjCtxfb7N48kV', 'guildName': 'HC', 'serverName': \"Mal'Ganis\", 'regionName': 'US', 'hidden': False, 'itemLevel': 254, 'faction': 1, 'covenantID': 2, 'soulbindID': 9}, {'name': 'Icelandian', 'class': 4, 'spec': 3, 'total': 12395.633571523, 'duration': 9471806, 'startTime': 1637196684507, 'fightID': 10000, 'reportID': 'vWxRTJjn28wMXq9z', 'guildName': 'HC', 'serverName': \"Mal'Ganis\", 'regionName': 'US', 'hidden': False, 'itemLevel': 255, 'faction': 1, 'covenantID': 2, 'soulbindID': 9}, {'name': 'Bragd', 'class': 2, 'spec': 1, 'total': 12386.261397126, 'duration': 12447451, 'startTime': 1636591895988, 'fightID': 10000, 'reportID': 'FwKv9pVkf2L63Mjn', 'guildName': 'HC', 'serverName': \"Mal'Ganis\", 'regionName': 'US', 'hidden': False, 'itemLevel': 251, 'faction': 1, 'covenantID': 2, 'soulbindID': 9}, {'name': '超人夜', 'class': 11, 'spec': 1, 'total': 12346.799415289, 'duration': 7361062, 'startTime': 1638493676426, 'fightID': 10000, 'reportID': 'ZGbwzfNcyQt3rhTX', 'guildName': '', 'serverName': '无尽之海', 'regionName': 'CN', 'hidden': False, 'itemLevel': 255, 'faction': 1, 'covenantID': 3, 'soulbindID': 2}, {'name': '너즐', 'class': 10, 'spec': 2, 'total': 12315.548329237, 'duration': 12166465, 'startTime': 1636282984015, 'fightID': 10000, 'reportID': '2Wg1F4naGLh7ZYk9', 'guildName': 'break', 'serverName': '아즈샤라', 'regionName': 'KR', 'hidden': False, 'itemLevel': 254, 'faction': 1, 'covenantID': 3, 'soulbindID': 1}, {'name': '양준수대장', 'class': 8, 'spec': 4, 'total': 12268.457055919, 'duration': 7614958, 'startTime': 1636023523687, 'fightID': 10000, 'reportID': '8nKxTHPwBqmNFLg7', 'guildName': None, 'serverName': '아즈샤라', 'regionName': 'KR', 'hidden': False, 'itemLevel': 254, 'faction': 1, 'covenantID': 4, 'soulbindID': 10}, {'name': '전사성현', 'class': 11, 'spec': 1, 'total': 12265.470472519, 'duration': 6906158, 'startTime': 1638097168369, 'fightID': 10000, 'reportID': 'qFWwkn4z6CdxNAhy', 'guildName': '하이잘 호드 향우회', 'serverName': '아즈샤라', 'regionName': 'KR', 'hidden': False, 'itemLevel': 255, 'faction': 1, 'covenantID': 3, 'soulbindID': 2}, {'name': '분포', 'class': 3, 'spec': 1, 'total': 12264.333853281, 'duration': 8908207, 'startTime': 1636603167291, 'fightID': 10000, 'reportID': 'KmGQaqx4JPkr82vb', 'guildName': 'Right', 'serverName': '아즈샤라', 'regionName': 'KR', 'hidden': False, 'itemLevel': 255, 'faction': 1, 'covenantID': 3, 'soulbindID': 2}, {'name': '똥그란뽀또', 'class': 11, 'spec': 1, 'total': 12230.517040893, 'duration': 7205866, 'startTime': 1637207889372, 'fightID': 10000, 'reportID': 'XWzYVMFcjgbH698k', 'guildName': 'Right', 'serverName': '아즈샤라', 'regionName': 'KR', 'hidden': False, 'itemLevel': 255, 'faction': 1, 'covenantID': 3, 'soulbindID': 2}, {'name': 'Ноёл', 'class': 8, 'spec': 1, 'total': 12219.024323073, 'duration': 12964028, 'startTime': 1638381255651, 'fightID': 10000, 'reportID': '3gY9XByzR648Zbcm', 'guildName': 'Тринити', 'serverName': 'Ревущий фьорд', 'regionName': 'EU', 'hidden': False, 'itemLevel': 254, 'faction': 1, 'covenantID': 2, 'soulbindID': 8}, {'name': 'Polardru', 'class': 2, 'spec': 1, 'total': 12202.793404873, 'duration': 8603256, 'startTime': 1636716818284, 'fightID': 10000, 'reportID': 'cwvGhzkyq9bgML1d', 'guildName': 'SEEREAL', 'serverName': '아즈샤라', 'regionName': 'KR', 'hidden': False, 'itemLevel': 252, 'faction': 1, 'covenantID': 2, 'soulbindID': 9}, {'name': '路易十一', 'class': 11, 'spec': 2, 'total': 12186.423651382, 'duration': 6515876, 'startTime': 1638514460792, 'fightID': 10000, 'reportID': 'zDctaYTBWr38RJC9', 'guildName': '', 'serverName': '凤凰之神', 'regionName': 'CN', 'hidden': False, 'itemLevel': 253, 'faction': 1, 'covenantID': 1, 'soulbindID': 18}, {'name': '呆毛丶糖门术', 'class': 10, 'spec': 2, 'total': 12179.841088125, 'duration': 6949538, 'startTime': 1637633022158, 'fightID': 10000, 'reportID': 'HbRpAdaF4Xmg72qr', 'guildName': '', 'serverName': '凤凰之神', 'regionName': 'CN', 'hidden': False, 'itemLevel': 254, 'faction': 1, 'covenantID': 3, 'soulbindID': 1}, {'name': '请叫我熊宝丶', 'class': 3, 'spec': 1, 'total': 12169.754173662, 'duration': 7708244, 'startTime': 1638238892171, 'fightID': 10000, 'reportID': 'cQHLbjvxr84PtTkq', 'guildName': '', 'serverName': '无尽之海', 'regionName': 'CN', 'hidden': False, 'itemLevel': 254, 'faction': 1, 'covenantID': 3, 'soulbindID': 1}, {'name': '공익전사', 'class': 11, 'spec': 1, 'total': 12110.643813344, 'duration': 8454827, 'startTime': 1637985605818, 'fightID': 10000, 'reportID': 'YWb1Vy38dCfTKvnr', 'guildName': 'Mentality', 'serverName': '아즈샤라', 'regionName': 'KR', 'hidden': False, 'itemLevel': 254, 'faction': 1, 'covenantID': 3, 'soulbindID': 2}, {'name': 'Maoxx', 'class': 5, 'spec': 3, 'total': 12072.454498064, 'duration': 12395711, 'startTime': 1636631857055, 'fightID': 10000, 'reportID': 'jGvpadPK7ADzFkMt', 'guildName': 'Fortune', 'serverName': '語風', 'regionName': 'TW', 'hidden': False, 'itemLevel': 254, 'faction': 0, 'covenantID': 4, 'soulbindID': 4}, {'name': 'Gamesense', 'class': 10, 'spec': 2, 'total': 12052.510310783, 'duration': 6854284, 'startTime': 1637996846700, 'fightID': 10000, 'reportID': 'AKtcDYZRkGMBzPf3', 'guildName': '', 'serverName': '末日行者', 'regionName': 'CN', 'hidden': False, 'itemLevel': 254, 'faction': 1, 'covenantID': 3, 'soulbindID': 1}, {'name': '冰阔落丶', 'class': 2, 'spec': 1, 'total': 12037.442127076, 'duration': 7177171, 'startTime': 1636270602367, 'fightID': 10000, 'reportID': 'BkxdAwYXmJrp1HFt', 'guildName': '', 'serverName': '无尽之海', 'regionName': 'CN', 'hidden': False, 'itemLevel': 252, 'faction': 1, 'covenantID': 2, 'soulbindID': 9}, {'name': 'Anonymous', 'class': 4, 'spec': 3, 'total': 12027.844671843, 'duration': 8439688, 'startTime': 1638071946041, 'fightID': 10000, 'reportID': 'a:hZGDPR9AB4acT1Qg', 'guildName': '', 'serverName': '', 'regionName': 'KR', 'hidden': True, 'itemLevel': 255, 'faction': 1, 'covenantID': 2, 'soulbindID': 9}, {'name': 'Olofsson', 'class': 8, 'spec': 3, 'total': 12026.578815681, 'duration': 12232315, 'startTime': 1636655731011, 'fightID': 10000, 'reportID': 'g4jQNdPr9mqaz1wM', 'guildName': 'Colour', 'serverName': 'Stormreaver', 'regionName': 'EU', 'hidden': False, 'itemLevel': 254, 'faction': 1, 'covenantID': 2, 'soulbindID': 9}, {'name': 'Kleptomania', 'class': 4, 'spec': 2, 'total': 11987.968791895, 'duration': 9205283, 'startTime': 1636282778371, 'fightID': 10000, 'reportID': 'c4yr7Yq3kfWKvHXj', 'guildName': 'Right', 'serverName': '아즈샤라', 'regionName': 'KR', 'hidden': False, 'itemLevel': 252, 'faction': 1, 'covenantID': 3, 'soulbindID': 2}, {'name': '丶秘奥闪光', 'class': 8, 'spec': 1, 'total': 11978.44596904, 'duration': 11849605, 'startTime': 1638185837854, 'fightID': 10000, 'reportID': '6np4yPBQRDjv3XLY', 'guildName': '', 'serverName': '贫瘠之地', 'regionName': 'CN', 'hidden': False, 'itemLevel': 255, 'faction': 1, 'covenantID': 2, 'soulbindID': 8}, {'name': 'Jackds', 'class': 2, 'spec': 1, 'total': 11965.160925118, 'duration': 12654496, 'startTime': 1637484928059, 'fightID': 10000, 'reportID': 'KwY9x7MTWC63gVdA', 'guildName': 'Copium', 'serverName': 'Frostmourne', 'regionName': 'US', 'hidden': False, 'itemLevel': 251, 'faction': 0, 'covenantID': 2, 'soulbindID': 9}, {'name': '花暮年年', 'class': 2, 'spec': 1, 'total': 11955.174129851, 'duration': 8249021, 'startTime': 1637644084618, 'fightID': 10000, 'reportID': 'QbpL4R29ajtD8Cd6', 'guildName': '', 'serverName': '冰风岗', 'regionName': 'CN', 'hidden': False, 'itemLevel': 248, 'faction': 1, 'covenantID': 2, 'soulbindID': 9}, {'name': '好人阿绿', 'class': 10, 'spec': 2, 'total': 11935.360674612, 'duration': 7438206, 'startTime': 1637889129961, 'fightID': 10000, 'reportID': 'PgcNRY91DqyVdm3A', 'guildName': '', 'serverName': '回音山', 'regionName': 'CN', 'hidden': False, 'itemLevel': 253, 'faction': 0, 'covenantID': 3, 'soulbindID': 1}, {'name': '梦儿醒了', 'class': 10, 'spec': 2, 'total': 11900.417028318, 'duration': 6749419, 'startTime': 1637543118728, 'fightID': 10000, 'reportID': '87yQ4rGcbq9KagXA', 'guildName': '', 'serverName': '埃德萨拉', 'regionName': 'CN', 'hidden': False, 'itemLevel': 255, 'faction': 1, 'covenantID': 3, 'soulbindID': 1}, {'name': '翼德', 'class': 11, 'spec': 1, 'total': 11883.187492023, 'duration': 12395711, 'startTime': 1636631857055, 'fightID': 10000, 'reportID': 'jGvpadPK7ADzFkMt', 'guildName': 'Fortune', 'serverName': '暗影之月', 'regionName': 'TW', 'hidden': False, 'itemLevel': 255, 'faction': 0, 'covenantID': 3, 'soulbindID': 2}, {'name': '밤하늘여행객', 'class': 12, 'spec': 1, 'total': 11821.168348412, 'duration': 8439688, 'startTime': 1638071946041, 'fightID': 10000, 'reportID': 'waC2LzAHvfYGqp4k', 'guildName': 'Mentality', 'serverName': '아즈샤라', 'regionName': 'KR', 'hidden': False, 'itemLevel': 254, 'faction': 1, 'covenantID': 3, 'soulbindID': 2}, {'name': '닭콤', 'class': 10, 'spec': 2, 'total': 11812.647964251, 'duration': 10989245, 'startTime': 1638269848395, 'fightID': 10000, 'reportID': 'hdJYzMfcA3mbpk9X', 'guildName': 'Dead Poets Society', 'serverName': '아즈샤라', 'regionName': 'KR', 'hidden': False, 'itemLevel': 254, 'faction': 1, 'covenantID': 3, 'soulbindID': 1}, {'name': 'Варсикус', 'class': 8, 'spec': 1, 'total': 11799.405661232, 'duration': 11744705, 'startTime': 1638463331037, 'fightID': 10000, 'reportID': 'jkBJWmyV9avnKx1w', 'guildName': 'Рак Гейминг', 'serverName': 'Свежеватель Душ', 'regionName': 'EU', 'hidden': False, 'itemLevel': 255, 'faction': 1, 'covenantID': 2, 'soulbindID': 8}, {'name': '부두교주병하', 'class': 9, 'spec': 2, 'total': 11795.20876769, 'duration': 7448873, 'startTime': 1636714774126, 'fightID': 10000, 'reportID': 'fP2ntMDpWYLGA3Qk', 'guildName': '비 누', 'serverName': '아즈샤라', 'regionName': 'KR', 'hidden': False, 'itemLevel': 253, 'faction': 1, 'covenantID': 3, 'soulbindID': 1}, {'name': 'Danbtw', 'class': 6, 'spec': 3, 'total': 11790.450080074, 'duration': 11145106, 'startTime': 1637110110152, 'fightID': 10000, 'reportID': 'y61XjCtxfb7N48kV', 'guildName': 'HC', 'serverName': \"Mal'Ganis\", 'regionName': 'US', 'hidden': False, 'itemLevel': 256, 'faction': 1, 'covenantID': 1, 'soulbindID': 7}, {'name': 'Reloe', 'class': 2, 'spec': 1, 'total': 11787.015419204, 'duration': 8919079, 'startTime': 1638382809478, 'fightID': 10000, 'reportID': 'Gdp1XZvam3k7HV6K', 'guildName': 'Northern Sky', 'serverName': 'Blackhand', 'regionName': 'EU', 'hidden': False, 'itemLevel': 251, 'faction': 1, 'covenantID': 2, 'soulbindID': 9}, {'name': '皮子痒了', 'class': 2, 'spec': 1, 'total': 11776.718299223, 'duration': 8502239, 'startTime': 1636026305209, 'fightID': 10000, 'reportID': 'xgpQ8Hfw39PAYJ1r', 'guildName': '', 'serverName': '格瑞姆巴托', 'regionName': 'CN', 'hidden': False, 'itemLevel': 251, 'faction': 1, 'covenantID': 2, 'soulbindID': 9}, {'name': '萌萌的赫萝丶', 'class': 2, 'spec': 1, 'total': 11771.795034062, 'duration': 7544854, 'startTime': 1637653289816, 'fightID': 10000, 'reportID': 'TxFjwr7gvLk1Rnyf', 'guildName': '', 'serverName': '死亡之翼', 'regionName': 'CN', 'hidden': False, 'itemLevel': 249, 'faction': 1, 'covenantID': 2, 'soulbindID': 9}, {'name': 'Severuss', 'class': 7, 'spec': 3, 'total': 11734.736232993, 'duration': 13469707, 'startTime': 1637293508034, 'fightID': 10000, 'reportID': 'xQL9BXAa7Y2FC1cw', 'guildName': '', 'serverName': '黑铁', 'regionName': 'CN', 'hidden': False, 'itemLevel': 252, 'faction': 1, 'covenantID': 4, 'soulbindID': 4}, {'name': '양준수대마왕', 'class': 12, 'spec': 1, 'total': 11722.661141057, 'duration': 10839272, 'startTime': 1636108689412, 'fightID': 10000, 'reportID': 'vQfyt34CALpr1ch7', 'guildName': None, 'serverName': '아즈샤라', 'regionName': 'KR', 'hidden': False, 'itemLevel': 254, 'faction': 1, 'covenantID': 3, 'soulbindID': 1}, {'name': '선선', 'class': 12, 'spec': 1, 'total': 11717.666386398, 'duration': 8273894, 'startTime': 1637838470449, 'fightID': 10000, 'reportID': 'Nb3QjLPMrvkqXcD6', 'guildName': '불방망이', 'serverName': '아즈샤라', 'regionName': 'KR', 'hidden': False, 'itemLevel': 254, 'faction': 1, 'covenantID': 3, 'soulbindID': 2}, {'name': '无间小强', 'class': 10, 'spec': 2, 'total': 11712.219912197, 'duration': 9277480, 'startTime': 1638579837853, 'fightID': 10000, 'reportID': 'GY48dAqxZbkQMLv1', 'guildName': '', 'serverName': '布兰卡德', 'regionName': 'CN', 'hidden': False, 'itemLevel': 254, 'faction': 1, 'covenantID': 3, 'soulbindID': 1}, {'name': 'Once', 'class': 11, 'spec': 1, 'total': 11711.706854978, 'duration': 7614958, 'startTime': 1636023523687, 'fightID': 10000, 'reportID': '8nKxTHPwBqmNFLg7', 'guildName': 'Hi', 'serverName': '아즈샤라', 'regionName': 'KR', 'hidden': False, 'itemLevel': 254, 'faction': 1, 'covenantID': 3, 'soulbindID': 2}, {'name': 'Mikasamikoto', 'class': 5, 'spec': 3, 'total': 11708.97786088, 'duration': 8292753, 'startTime': 1637391917986, 'fightID': 10000, 'reportID': 'JBzjhHVDGbcq4QR2', 'guildName': '', 'serverName': '影之哀伤', 'regionName': 'CN', 'hidden': False, 'itemLevel': 254, 'faction': 1, 'covenantID': 4, 'soulbindID': 4}, {'name': 'Anonymous', 'class': 4, 'spec': 3, 'total': 11692.806790542, 'duration': 8625841, 'startTime': 1637060252999, 'fightID': 10000, 'reportID': 'a:V6TatpLzqNXx1Zgw', 'guildName': '', 'serverName': '', 'regionName': 'KR', 'hidden': True, 'itemLevel': 255, 'faction': 1, 'covenantID': 2, 'soulbindID': 9}, {'name': '미복귀', 'class': 12, 'spec': 1, 'total': 11679.318847622, 'duration': 8947278, 'startTime': 1637492278449, 'fightID': 10000, 'reportID': 'yJQ4z3MPwWfhZtT6', 'guildName': None, 'serverName': '아즈샤라', 'regionName': 'KR', 'hidden': False, 'itemLevel': 255, 'faction': 1, 'covenantID': 3, 'soulbindID': 2}, {'name': '쌀밥을안주시네', 'class': 9, 'spec': 1, 'total': 11677.154160059, 'duration': 8301790, 'startTime': 1637578575139, 'fightID': 10000, 'reportID': 'h4KCWYg6dt1xFPnp', 'guildName': 'Nuage', 'serverName': '아즈샤라', 'regionName': 'KR', 'hidden': False, 'itemLevel': 255, 'faction': 1, 'covenantID': 3, 'soulbindID': 2}, {'name': '你會愛我', 'class': 4, 'spec': 3, 'total': 11641.10822068, 'duration': 14429123, 'startTime': 1638446172291, 'fightID': 10000, 'reportID': 'wg6G4fkcq92NzAZy', 'guildName': 'Fortune', 'serverName': '暗影之月', 'regionName': 'TW', 'hidden': False, 'itemLevel': 256, 'faction': 0, 'covenantID': 2, 'soulbindID': 9}, {'name': '诉说无言', 'class': 10, 'spec': 2, 'total': 11614.69745316, 'duration': 11849605, 'startTime': 1638185837854, 'fightID': 10000, 'reportID': '6np4yPBQRDjv3XLY', 'guildName': '', 'serverName': '贫瘠之地', 'regionName': 'CN', 'hidden': False, 'itemLevel': 254, 'faction': 1, 'covenantID': 4, 'soulbindID': 4}, {'name': '만보먹고', 'class': 4, 'spec': 2, 'total': 11584.760423653, 'duration': 15859612, 'startTime': 1636876489199, 'fightID': 10000, 'reportID': 'JF3YZV7tT2fWw9B6', 'guildName': 'Gift', 'serverName': '아즈샤라', 'regionName': 'KR', 'hidden': False, 'itemLevel': 256, 'faction': 1, 'covenantID': 3, 'soulbindID': 2}, {'name': 'Ralc', 'class': 11, 'spec': 1, 'total': 11577.332148509, 'duration': 6933030, 'startTime': 1636175110545, 'fightID': 10000, 'reportID': 'JFhg4fB1naqPHRmr', 'guildName': 'Right', 'serverName': '아즈샤라', 'regionName': 'KR', 'hidden': False, 'itemLevel': 256, 'faction': 1, 'covenantID': 3, 'soulbindID': 2}, {'name': '海伯利安', 'class': 10, 'spec': 2, 'total': 11576.859298258, 'duration': 7325142, 'startTime': 1638171037472, 'fightID': 10000, 'reportID': 'vPhKg6WajZJVqpG3', 'guildName': '', 'serverName': '无尽之海', 'regionName': 'CN', 'hidden': False, 'itemLevel': 254, 'faction': 1, 'covenantID': 3, 'soulbindID': 1}, {'name': '검보흑두', 'class': 10, 'spec': 2, 'total': 11569.35827, 'duration': 8358843, 'startTime': 1637899087036, 'fightID': 10000, 'reportID': '9k1P3FrXfBc47yWh', 'guildName': 'The Valentine', 'serverName': '아즈샤라', 'regionName': 'KR', 'hidden': False, 'itemLevel': 255, 'faction': 1, 'covenantID': 3, 'soulbindID': 1}, {'name': 'Doczz', 'class': 11, 'spec': 2, 'total': 11560.874654289, 'duration': 12447451, 'startTime': 1636591895988, 'fightID': 10000, 'reportID': 'FwKv9pVkf2L63Mjn', 'guildName': 'HC', 'serverName': \"Mal'Ganis\", 'regionName': 'US', 'hidden': False, 'itemLevel': 256, 'faction': 1, 'covenantID': 1, 'soulbindID': 18}, {'name': 'Nocniqt', 'class': 8, 'spec': 1, 'total': 11548.501303062, 'duration': 12712774, 'startTime': 1635961947452, 'fightID': 10000, 'reportID': 'NahBgQXtKrc19PJp', 'guildName': 'The Next Step', 'serverName': 'Twisting Nether', 'regionName': 'EU', 'hidden': False, 'itemLevel': 255, 'faction': 1, 'covenantID': 2, 'soulbindID': 9}, {'name': '천일짱', 'class': 11, 'spec': 1, 'total': 11538.366078304, 'duration': 10839272, 'startTime': 1636108689412, 'fightID': 10000, 'reportID': 'vQfyt34CALpr1ch7', 'guildName': '그래안그래', 'serverName': '아즈샤라', 'regionName': 'KR', 'hidden': False, 'itemLevel': 256, 'faction': 1, 'covenantID': 3, 'soulbindID': 2}, {'name': 'Einhardboomy', 'class': 2, 'spec': 1, 'total': 11538.05847128, 'duration': 16101063, 'startTime': 1637802950406, 'fightID': 10000, 'reportID': 'P2CkmZMBR9yhrJvX', 'guildName': 'Unity', 'serverName': 'Ragnaros', 'regionName': 'US', 'hidden': False, 'itemLevel': 251, 'faction': 1, 'covenantID': 2, 'soulbindID': 9}, {'name': '안녕구데기들아', 'class': 3, 'spec': 1, 'total': 11530.70920881, 'duration': 15859612, 'startTime': 1636876489199, 'fightID': 10000, 'reportID': 'JF3YZV7tT2fWw9B6', 'guildName': '오모리', 'serverName': '아즈샤라', 'regionName': 'KR', 'hidden': False, 'itemLevel': 253, 'faction': 1, 'covenantID': 3, 'soulbindID': 2}, {'name': '李白呢丶', 'class': 12, 'spec': 1, 'total': 11521.793976364, 'duration': 7604577, 'startTime': 1636035822967, 'fightID': 10000, 'reportID': 'ZjFWmwfdx8Va1vgQ', 'guildName': '', 'serverName': '布兰卡德', 'regionName': 'CN', 'hidden': False, 'itemLevel': 254, 'faction': 1, 'covenantID': 3, 'soulbindID': 2}, {'name': '강철주먹양준수', 'class': 11, 'spec': 2, 'total': 11519.769128521, 'duration': 6906158, 'startTime': 1638097168369, 'fightID': 10000, 'reportID': 'qFWwkn4z6CdxNAhy', 'guildName': None, 'serverName': '아즈샤라', 'regionName': 'KR', 'hidden': False, 'itemLevel': 255, 'faction': 1, 'covenantID': 1, 'soulbindID': 18}, {'name': '伊卡利亚丶', 'class': 10, 'spec': 2, 'total': 11519.556505043, 'duration': 12018299, 'startTime': 1636975286318, 'fightID': 10000, 'reportID': 'yLtjqGBgxnp2V4m9', 'guildName': '', 'serverName': '影之哀伤', 'regionName': 'CN', 'hidden': False, 'itemLevel': 254, 'faction': 1, 'covenantID': 3, 'soulbindID': 1}, {'name': 'Critcake', 'class': 11, 'spec': 1, 'total': 11518.005739441, 'duration': 9340497, 'startTime': 1638470147155, 'fightID': 10000, 'reportID': '3p6NgamcVWnzbR8y', 'guildName': 'Phoenix', 'serverName': 'Silvermoon', 'regionName': 'EU', 'hidden': False, 'itemLevel': 255, 'faction': 0, 'covenantID': 3, 'soulbindID': 2}, {'name': 'Yarrgi', 'class': 3, 'spec': 2, 'total': 11505.485491561, 'duration': 16606911, 'startTime': 1637604498024, 'fightID': 10000, 'reportID': 'vgPYXMH34jJ8rRTm', 'guildName': 'Error Code', 'serverName': 'Burning Legion', 'regionName': 'EU', 'hidden': False, 'itemLevel': 256, 'faction': 1, 'covenantID': 1, 'soulbindID': 18}, {'name': '최뽀또님', 'class': 12, 'spec': 1, 'total': 11483.627425828, 'duration': 7448873, 'startTime': 1636714774126, 'fightID': 10000, 'reportID': 'fP2ntMDpWYLGA3Qk', 'guildName': 'Right', 'serverName': '아즈샤라', 'regionName': 'KR', 'hidden': False, 'itemLevel': 254, 'faction': 1, 'covenantID': 3, 'soulbindID': 1}, {'name': '大号橙色坏蛋', 'class': 2, 'spec': 1, 'total': 11481.140211056, 'duration': 10686368, 'startTime': 1637915388498, 'fightID': 10000, 'reportID': 'gHWhZzXG6M4KpBRN', 'guildName': '', 'serverName': '格瑞姆巴托', 'regionName': 'CN', 'hidden': False, 'itemLevel': 251, 'faction': 1, 'covenantID': 2, 'soulbindID': 9}, {'name': 'Kevdh', 'class': 12, 'spec': 1, 'total': 11451.850999282, 'duration': 9373774, 'startTime': 1638468927289, 'fightID': 10000, 'reportID': 'xYkaQL8CvzmjPdwR', 'guildName': 'Northern Sky', 'serverName': 'Blackhand', 'regionName': 'EU', 'hidden': False, 'itemLevel': 254, 'faction': 1, 'covenantID': 3, 'soulbindID': 2}, {'name': 'Podocee', 'class': 4, 'spec': 1, 'total': 11448.537197753, 'duration': 10226477, 'startTime': 1636714720710, 'fightID': 10000, 'reportID': 'nbNvAy6Q8JcVT7qt', 'guildName': 'Mentality', 'serverName': '아즈샤라', 'regionName': 'KR', 'hidden': False, 'itemLevel': 254, 'faction': 1, 'covenantID': 1, 'soulbindID': 7}, {'name': 'Nathanail', 'class': 12, 'spec': 1, 'total': 11437.870037058, 'duration': 11388663, 'startTime': 1636566776329, 'fightID': 10000, 'reportID': 'v6paKG2tBLWc1mkM', 'guildName': 'Dedicated Casuals', 'serverName': 'Eredar', 'regionName': 'EU', 'hidden': False, 'itemLevel': 252, 'faction': 1, 'covenantID': 2, 'soulbindID': 8}, {'name': '스랙', 'class': 5, 'spec': 3, 'total': 11434.709333424, 'duration': 17307867, 'startTime': 1637381380879, 'fightID': 10000, 'reportID': '9G7hNBZdLmK326Aj', 'guildName': '겅듀', 'serverName': '아즈샤라', 'regionName': 'KR', 'hidden': False, 'itemLevel': 254, 'faction': 1, 'covenantID': 1, 'soulbindID': 18}, {'name': '은평구드루', 'class': 2, 'spec': 1, 'total': 11433.158358994, 'duration': 9388389, 'startTime': 1636714586648, 'fightID': 10000, 'reportID': 'wgMQyxnr4Dzq69Yt', 'guildName': '불방망이', 'serverName': '아즈샤라', 'regionName': 'KR', 'hidden': False, 'itemLevel': 252, 'faction': 1, 'covenantID': 2, 'soulbindID': 9}, {'name': 'Uglydh', 'class': 12, 'spec': 1, 'total': 11432.207007334, 'duration': 11145106, 'startTime': 1637110110152, 'fightID': 10000, 'reportID': 'y61XjCtxfb7N48kV', 'guildName': 'HC', 'serverName': \"Mal'Ganis\", 'regionName': 'US', 'hidden': False, 'itemLevel': 254, 'faction': 1, 'covenantID': 2, 'soulbindID': 8}, {'name': '郑审', 'class': 2, 'spec': 1, 'total': 11422.80273708, 'duration': 7179498, 'startTime': 1636187855434, 'fightID': 10002, 'reportID': 'aWKMrkdJAg1VnXxR', 'guildName': '', 'serverName': '凤凰之神', 'regionName': 'CN', 'hidden': False, 'itemLevel': 250, 'faction': 1, 'covenantID': 2, 'soulbindID': 9}, {'name': 'Anonymous', 'class': 4, 'spec': 3, 'total': 11419.067017961, 'duration': 10557942, 'startTime': 1636862383849, 'fightID': 10000, 'reportID': 'a:b2ZrFJ3wdAXHMRBK', 'guildName': '', 'serverName': '', 'regionName': 'KR', 'hidden': True, 'itemLevel': 255, 'faction': 1, 'covenantID': 2, 'soulbindID': 9}, {'name': '보급형펫독', 'class': 3, 'spec': 1, 'total': 11417.563368908, 'duration': 14028387, 'startTime': 1637320211539, 'fightID': 10000, 'reportID': 'PhygBQxrGwAfLN8F', 'guildName': 'Dead Poets Society', 'serverName': '아즈샤라', 'regionName': 'KR', 'hidden': False, 'itemLevel': 254, 'faction': 1, 'covenantID': 3, 'soulbindID': 2}, {'name': 'Foreverguy', 'class': 8, 'spec': 4, 'total': 11400.311553839, 'duration': 12447451, 'startTime': 1636591895988, 'fightID': 10000, 'reportID': 'FwKv9pVkf2L63Mjn', 'guildName': 'HC', 'serverName': \"Mal'Ganis\", 'regionName': 'US', 'hidden': False, 'itemLevel': 254, 'faction': 1, 'covenantID': 1, 'soulbindID': 13}, {'name': 'Niflheimr', 'class': 7, 'spec': 3, 'total': 11393.320015386, 'duration': 12395711, 'startTime': 1636631857055, 'fightID': 10000, 'reportID': 'jGvpadPK7ADzFkMt', 'guildName': 'Fortune', 'serverName': '暗影之月', 'regionName': 'TW', 'hidden': False, 'itemLevel': 254, 'faction': 0, 'covenantID': 4, 'soulbindID': 4}, {'name': 'Choechoi', 'class': 4, 'spec': 3, 'total': 11390.586702807, 'duration': 13555919, 'startTime': 1637924154516, 'fightID': 10000, 'reportID': 'BKAHrDqtjPN7C8zT', 'guildName': 'Blue to Blue', 'serverName': '아즈샤라', 'regionName': 'KR', 'hidden': False, 'itemLevel': 255, 'faction': 1, 'covenantID': 2, 'soulbindID': 9}, {'name': 'Zalc', 'class': 2, 'spec': 1, 'total': 11381.893236219, 'duration': 7448873, 'startTime': 1636714774126, 'fightID': 10000, 'reportID': 'fP2ntMDpWYLGA3Qk', 'guildName': 'Right', 'serverName': '아즈샤라', 'regionName': 'KR', 'hidden': False, 'itemLevel': 250, 'faction': 1, 'covenantID': 2, 'soulbindID': 9}, {'name': '丨绯红千幻丨', 'class': 12, 'spec': 1, 'total': 11362.982195139, 'duration': 8341613, 'startTime': 1637908697778, 'fightID': 10000, 'reportID': 'chLGYpJKkb14gnty', 'guildName': '', 'serverName': '埃德萨拉', 'regionName': 'CN', 'hidden': False, 'itemLevel': 254, 'faction': 1, 'covenantID': 3, 'soulbindID': 2}, {'name': '별빛이흐른다', 'class': 2, 'spec': 1, 'total': 11353.731680644, 'duration': 11442283, 'startTime': 1636084758998, 'fightID': 10001, 'reportID': 'Xvhw4agZb8D19dPH', 'guildName': '그래안그래', 'serverName': '아즈샤라', 'regionName': 'KR', 'hidden': False, 'itemLevel': 251, 'faction': 1, 'covenantID': 2, 'soulbindID': 9}, {'name': 'Sakumo', 'class': 12, 'spec': 1, 'total': 11352.503196064, 'duration': 12642061, 'startTime': 1637198038594, 'fightID': 10000, 'reportID': 'tWKZvp3k6xqJmjnD', 'guildName': 'Unity', 'serverName': 'Ragnaros', 'regionName': 'US', 'hidden': False, 'itemLevel': 254, 'faction': 1, 'covenantID': 2, 'soulbindID': 8}, {'name': 'Rindruid', 'class': 2, 'spec': 1, 'total': 11348.882004251, 'duration': 12915960, 'startTime': 1636628735838, 'fightID': 10000, 'reportID': 'tdXzf2aV8PcHYywQ', 'guildName': None, 'serverName': '아즈샤라', 'regionName': 'KR', 'hidden': False, 'itemLevel': 252, 'faction': 1, 'covenantID': 2, 'soulbindID': 9}, {'name': '虚妄丨', 'class': 10, 'spec': 2, 'total': 11342.002592388, 'duration': 9086990, 'startTime': 1638519178489, 'fightID': 10000, 'reportID': 'Z6R2MgBLCVDAHNmp', 'guildName': '', 'serverName': '凤凰之神', 'regionName': 'CN', 'hidden': False, 'itemLevel': 254, 'faction': 1, 'covenantID': 3, 'soulbindID': 1}, {'name': '懸翦斷魂', 'class': 12, 'spec': 1, 'total': 11338.445858184, 'duration': 14429123, 'startTime': 1638446172291, 'fightID': 10000, 'reportID': 'wg6G4fkcq92NzAZy', 'guildName': 'Fortune', 'serverName': '暗影之月', 'regionName': 'TW', 'hidden': False, 'itemLevel': 252, 'faction': 0, 'covenantID': 3, 'soulbindID': 2}, {'name': '야크나이트', 'class': 5, 'spec': 3, 'total': 11337.350544936, 'duration': 7205866, 'startTime': 1637207889372, 'fightID': 10000, 'reportID': 'XWzYVMFcjgbH698k', 'guildName': 'The Valentine', 'serverName': '아즈샤라', 'regionName': 'KR', 'hidden': False, 'itemLevel': 253, 'faction': 1, 'covenantID': 1, 'soulbindID': 18}, {'name': 'Rinv', 'class': 2, 'spec': 1, 'total': 11334.158516316, 'duration': 12698094, 'startTime': 1636974034491, 'fightID': 10000, 'reportID': 'GzLKfHYkZQbA97gx', 'guildName': '조 드', 'serverName': '아즈샤라', 'regionName': 'KR', 'hidden': False, 'itemLevel': 251, 'faction': 1, 'covenantID': 2, 'soulbindID': 9}, {'name': '병하리', 'class': 12, 'spec': 1, 'total': 11332.373406821, 'duration': 7614958, 'startTime': 1636023523687, 'fightID': 10000, 'reportID': '8nKxTHPwBqmNFLg7', 'guildName': '비 누', 'serverName': '아즈샤라', 'regionName': 'KR', 'hidden': False, 'itemLevel': 254, 'faction': 1, 'covenantID': 3, 'soulbindID': 1}]\n"
     ]
    }
   ],
   "source": [
    "url = \"https://www.warcraftlogs.com:443/v1/rankings/encounter/2414?metric=dps&difficulty=5&api_key=9bcf27b6cdc01679a4f677e9a97a9cf6\"\n",
    "\n",
    "response = requests.request(\"GET\", url, headers=headers)\n",
    "\n",
    "print(response.json()[\"rankings\"])"
   ]
  },
  {
   "cell_type": "code",
   "execution_count": 47,
   "metadata": {},
   "outputs": [
    {
     "data": {
      "text/html": [
       "<div>\n",
       "<style scoped>\n",
       "    .dataframe tbody tr th:only-of-type {\n",
       "        vertical-align: middle;\n",
       "    }\n",
       "\n",
       "    .dataframe tbody tr th {\n",
       "        vertical-align: top;\n",
       "    }\n",
       "\n",
       "    .dataframe thead th {\n",
       "        text-align: right;\n",
       "    }\n",
       "</style>\n",
       "<table border=\"1\" class=\"dataframe\">\n",
       "  <thead>\n",
       "    <tr style=\"text-align: right;\">\n",
       "      <th></th>\n",
       "      <th>name</th>\n",
       "      <th>class</th>\n",
       "      <th>spec</th>\n",
       "      <th>total</th>\n",
       "      <th>duration</th>\n",
       "      <th>startTime</th>\n",
       "      <th>fightID</th>\n",
       "      <th>reportID</th>\n",
       "      <th>guildName</th>\n",
       "      <th>serverName</th>\n",
       "      <th>regionName</th>\n",
       "      <th>hidden</th>\n",
       "      <th>itemLevel</th>\n",
       "      <th>faction</th>\n",
       "      <th>covenantID</th>\n",
       "      <th>soulbindID</th>\n",
       "    </tr>\n",
       "  </thead>\n",
       "  <tbody>\n",
       "    <tr>\n",
       "      <th>0</th>\n",
       "      <td>奶茶萌奇奇</td>\n",
       "      <td>2</td>\n",
       "      <td>1</td>\n",
       "      <td>14849.419855</td>\n",
       "      <td>10622198</td>\n",
       "      <td>1637897235773</td>\n",
       "      <td>10000</td>\n",
       "      <td>9nYMVmgxRvqAjL3d</td>\n",
       "      <td></td>\n",
       "      <td>影之哀伤</td>\n",
       "      <td>CN</td>\n",
       "      <td>False</td>\n",
       "      <td>251</td>\n",
       "      <td>1</td>\n",
       "      <td>2</td>\n",
       "      <td>9</td>\n",
       "    </tr>\n",
       "    <tr>\n",
       "      <th>1</th>\n",
       "      <td>Sheeq</td>\n",
       "      <td>8</td>\n",
       "      <td>1</td>\n",
       "      <td>14766.976899</td>\n",
       "      <td>12606601</td>\n",
       "      <td>1637838558116</td>\n",
       "      <td>10000</td>\n",
       "      <td>zrk6RpN92MKnHtFa</td>\n",
       "      <td>break</td>\n",
       "      <td>아즈샤라</td>\n",
       "      <td>KR</td>\n",
       "      <td>False</td>\n",
       "      <td>255</td>\n",
       "      <td>1</td>\n",
       "      <td>2</td>\n",
       "      <td>8</td>\n",
       "    </tr>\n",
       "    <tr>\n",
       "      <th>2</th>\n",
       "      <td>Hellring</td>\n",
       "      <td>11</td>\n",
       "      <td>1</td>\n",
       "      <td>14421.940013</td>\n",
       "      <td>10119924</td>\n",
       "      <td>1637233453710</td>\n",
       "      <td>10000</td>\n",
       "      <td>M1ZzgvAfGmxbYXyJ</td>\n",
       "      <td>break</td>\n",
       "      <td>아즈샤라</td>\n",
       "      <td>KR</td>\n",
       "      <td>False</td>\n",
       "      <td>255</td>\n",
       "      <td>1</td>\n",
       "      <td>3</td>\n",
       "      <td>1</td>\n",
       "    </tr>\n",
       "    <tr>\n",
       "      <th>3</th>\n",
       "      <td>비전매력</td>\n",
       "      <td>4</td>\n",
       "      <td>3</td>\n",
       "      <td>13254.804234</td>\n",
       "      <td>8877487</td>\n",
       "      <td>1637926408611</td>\n",
       "      <td>10000</td>\n",
       "      <td>aDZmbdj1t8KVhNzF</td>\n",
       "      <td>SEEREAL</td>\n",
       "      <td>아즈샤라</td>\n",
       "      <td>KR</td>\n",
       "      <td>False</td>\n",
       "      <td>255</td>\n",
       "      <td>1</td>\n",
       "      <td>2</td>\n",
       "      <td>9</td>\n",
       "    </tr>\n",
       "    <tr>\n",
       "      <th>4</th>\n",
       "      <td>丶桐崎千棘</td>\n",
       "      <td>2</td>\n",
       "      <td>1</td>\n",
       "      <td>13180.009227</td>\n",
       "      <td>8292753</td>\n",
       "      <td>1637391917986</td>\n",
       "      <td>10000</td>\n",
       "      <td>JBzjhHVDGbcq4QR2</td>\n",
       "      <td></td>\n",
       "      <td>埃德萨拉</td>\n",
       "      <td>CN</td>\n",
       "      <td>False</td>\n",
       "      <td>252</td>\n",
       "      <td>1</td>\n",
       "      <td>2</td>\n",
       "      <td>9</td>\n",
       "    </tr>\n",
       "  </tbody>\n",
       "</table>\n",
       "</div>"
      ],
      "text/plain": [
       "       name  class  spec         total  duration      startTime  fightID  \\\n",
       "0     奶茶萌奇奇      2     1  14849.419855  10622198  1637897235773    10000   \n",
       "1     Sheeq      8     1  14766.976899  12606601  1637838558116    10000   \n",
       "2  Hellring     11     1  14421.940013  10119924  1637233453710    10000   \n",
       "3      비전매력      4     3  13254.804234   8877487  1637926408611    10000   \n",
       "4     丶桐崎千棘      2     1  13180.009227   8292753  1637391917986    10000   \n",
       "\n",
       "           reportID guildName serverName regionName  hidden  itemLevel  \\\n",
       "0  9nYMVmgxRvqAjL3d                 影之哀伤         CN   False        251   \n",
       "1  zrk6RpN92MKnHtFa     break       아즈샤라         KR   False        255   \n",
       "2  M1ZzgvAfGmxbYXyJ     break       아즈샤라         KR   False        255   \n",
       "3  aDZmbdj1t8KVhNzF   SEEREAL       아즈샤라         KR   False        255   \n",
       "4  JBzjhHVDGbcq4QR2                 埃德萨拉         CN   False        252   \n",
       "\n",
       "   faction  covenantID  soulbindID  \n",
       "0        1           2           9  \n",
       "1        1           2           8  \n",
       "2        1           3           1  \n",
       "3        1           2           9  \n",
       "4        1           2           9  "
      ]
     },
     "execution_count": 47,
     "metadata": {},
     "output_type": "execute_result"
    }
   ],
   "source": [
    "warcraftRankings = pd.DataFrame.from_dict(response.json()[\"rankings\"])\n",
    "warcraftRankings.head()"
   ]
  },
  {
   "cell_type": "markdown",
   "metadata": {},
   "source": [
    "I wonder what the most common region is in the top 100."
   ]
  },
  {
   "cell_type": "code",
   "execution_count": 48,
   "metadata": {},
   "outputs": [
    {
     "data": {
      "text/plain": [
       "KR    43\n",
       "CN    29\n",
       "US    12\n",
       "EU    11\n",
       "TW     5\n",
       "Name: regionName, dtype: int64"
      ]
     },
     "execution_count": 48,
     "metadata": {},
     "output_type": "execute_result"
    }
   ],
   "source": [
    "warcraftRankings['regionName'].value_counts()"
   ]
  },
  {
   "cell_type": "markdown",
   "metadata": {},
   "source": [
    "It would seem Korea and China tend to outperform the other regions quite often."
   ]
  },
  {
   "cell_type": "markdown",
   "metadata": {},
   "source": [
    "The final thing I want to look at is if I can make a more legible data frame. Basically, I want class and spec remapped with the name of the player."
   ]
  },
  {
   "cell_type": "code",
   "execution_count": 49,
   "metadata": {},
   "outputs": [
    {
     "data": {
      "text/html": [
       "<div>\n",
       "<style scoped>\n",
       "    .dataframe tbody tr th:only-of-type {\n",
       "        vertical-align: middle;\n",
       "    }\n",
       "\n",
       "    .dataframe tbody tr th {\n",
       "        vertical-align: top;\n",
       "    }\n",
       "\n",
       "    .dataframe thead th {\n",
       "        text-align: right;\n",
       "    }\n",
       "</style>\n",
       "<table border=\"1\" class=\"dataframe\">\n",
       "  <thead>\n",
       "    <tr style=\"text-align: right;\">\n",
       "      <th></th>\n",
       "      <th>name</th>\n",
       "      <th>class</th>\n",
       "      <th>spec</th>\n",
       "      <th>total</th>\n",
       "    </tr>\n",
       "  </thead>\n",
       "  <tbody>\n",
       "    <tr>\n",
       "      <th>0</th>\n",
       "      <td>奶茶萌奇奇</td>\n",
       "      <td>Druid</td>\n",
       "      <td>1</td>\n",
       "      <td>14849.419855</td>\n",
       "    </tr>\n",
       "    <tr>\n",
       "      <th>1</th>\n",
       "      <td>Sheeq</td>\n",
       "      <td>Rogue</td>\n",
       "      <td>1</td>\n",
       "      <td>14766.976899</td>\n",
       "    </tr>\n",
       "    <tr>\n",
       "      <th>2</th>\n",
       "      <td>Hellring</td>\n",
       "      <td>Warrior</td>\n",
       "      <td>1</td>\n",
       "      <td>14421.940013</td>\n",
       "    </tr>\n",
       "    <tr>\n",
       "      <th>3</th>\n",
       "      <td>비전매력</td>\n",
       "      <td>Mage</td>\n",
       "      <td>3</td>\n",
       "      <td>13254.804234</td>\n",
       "    </tr>\n",
       "    <tr>\n",
       "      <th>4</th>\n",
       "      <td>丶桐崎千棘</td>\n",
       "      <td>Druid</td>\n",
       "      <td>1</td>\n",
       "      <td>13180.009227</td>\n",
       "    </tr>\n",
       "    <tr>\n",
       "      <th>5</th>\n",
       "      <td>Bogus</td>\n",
       "      <td>Rogue</td>\n",
       "      <td>3</td>\n",
       "      <td>13159.494342</td>\n",
       "    </tr>\n",
       "    <tr>\n",
       "      <th>6</th>\n",
       "      <td>Zissar</td>\n",
       "      <td>Monk</td>\n",
       "      <td>3</td>\n",
       "      <td>13134.540980</td>\n",
       "    </tr>\n",
       "    <tr>\n",
       "      <th>7</th>\n",
       "      <td>Mudge</td>\n",
       "      <td>Druid</td>\n",
       "      <td>1</td>\n",
       "      <td>13132.195067</td>\n",
       "    </tr>\n",
       "    <tr>\n",
       "      <th>8</th>\n",
       "      <td>Mopreme</td>\n",
       "      <td>Druid</td>\n",
       "      <td>1</td>\n",
       "      <td>13111.215866</td>\n",
       "    </tr>\n",
       "    <tr>\n",
       "      <th>9</th>\n",
       "      <td>Fonkydan</td>\n",
       "      <td>Demon Hunter</td>\n",
       "      <td>1</td>\n",
       "      <td>13061.230014</td>\n",
       "    </tr>\n",
       "  </tbody>\n",
       "</table>\n",
       "</div>"
      ],
      "text/plain": [
       "       name         class  spec         total\n",
       "0     奶茶萌奇奇         Druid     1  14849.419855\n",
       "1     Sheeq         Rogue     1  14766.976899\n",
       "2  Hellring       Warrior     1  14421.940013\n",
       "3      비전매력          Mage     3  13254.804234\n",
       "4     丶桐崎千棘         Druid     1  13180.009227\n",
       "5     Bogus         Rogue     3  13159.494342\n",
       "6    Zissar          Monk     3  13134.540980\n",
       "7     Mudge         Druid     1  13132.195067\n",
       "8   Mopreme         Druid     1  13111.215866\n",
       "9  Fonkydan  Demon Hunter     1  13061.230014"
      ]
     },
     "execution_count": 49,
     "metadata": {},
     "output_type": "execute_result"
    }
   ],
   "source": [
    "classRemap = {}\n",
    "specRemap = {}\n",
    "for key in warcraftClasses:\n",
    "    classRemap[key['id']] = key['name']\n",
    "\n",
    "warcraftRankings.drop('duration',axis=1,inplace=True)\n",
    "warcraftRankings.drop('startTime',axis=1,inplace=True)\n",
    "warcraftRankings.drop('fightID',axis=1,inplace=True)\n",
    "warcraftRankings.drop('reportID',axis=1,inplace=True)\n",
    "warcraftRankings.drop('serverName',axis=1,inplace=True)\n",
    "warcraftRankings.drop('regionName',axis=1,inplace=True)\n",
    "warcraftRankings.drop('hidden',axis=1,inplace=True)\n",
    "warcraftRankings.drop('itemLevel',axis=1,inplace=True)\n",
    "warcraftRankings.drop('faction',axis=1,inplace=True)\n",
    "warcraftRankings.drop('covenantID',axis=1,inplace=True)\n",
    "warcraftRankings.drop('soulbindID',axis=1,inplace=True)\n",
    "warcraftRankings.drop('guildName',axis=1,inplace=True)\n",
    "\n",
    "warcraftRankings['class'] = warcraftRankings['class'].map(classRemap)\n",
    "warcraftRankings.head(10)"
   ]
  },
  {
   "cell_type": "markdown",
   "metadata": {},
   "source": [
    "I'll be honest, I do not know how to get the spec to remap properly. I somehow need to base the output on the class, but I don't know how to make that conditional in the map function."
   ]
  },
  {
   "cell_type": "markdown",
   "metadata": {},
   "source": [
    "\n",
    "## Conclusion\n",
    "\n",
    "And that's it.   I hope you enjoyed this introduciton to JSON & REST.   Please upload your Jupyter notebook to BrightSpace and be sure to update your GIT repository.\n"
   ]
  }
 ],
 "metadata": {
  "kernelspec": {
   "display_name": "Python 3",
   "language": "python",
   "name": "python3"
  },
  "language_info": {
   "codemirror_mode": {
    "name": "ipython",
    "version": 3
   },
   "file_extension": ".py",
   "mimetype": "text/x-python",
   "name": "python",
   "nbconvert_exporter": "python",
   "pygments_lexer": "ipython3",
   "version": "3.8.8"
  }
 },
 "nbformat": 4,
 "nbformat_minor": 2
}
